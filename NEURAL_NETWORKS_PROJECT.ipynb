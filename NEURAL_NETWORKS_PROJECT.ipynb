{
  "cells": [
    {
      "cell_type": "markdown",
      "metadata": {
        "id": "p0WXN5uIuPmc"
      },
      "source": [
        " DATA SET : Concrete Compressive Strength\n",
        "INPUT VARIABLES=8\n",
        "OUTPUT VARIABLE=1\n",
        "TARGET VARIABLE IS Concrete Compressive Strength"
      ]
    },
    {
      "cell_type": "markdown",
      "metadata": {
        "id": "R1VOjk_3uQ3X"
      },
      "source": [
        " IMPORT THE NECESSARY LIBRARIES\n",
        "\n",
        "---\n",
        "\n",
        "\n",
        "\n",
        "\n",
        "\n"
      ]
    },
    {
      "cell_type": "code",
      "execution_count": null,
      "metadata": {
        "id": "qzO569bhvo2A"
      },
      "outputs": [],
      "source": [
        "import pandas as pd\n",
        "import seaborn as sns\n",
        "import statsmodels.formula.api as smf\n",
        "from sklearn.linear_model import LinearRegression\n",
        "from sklearn import metrics\n",
        "from sklearn.model_selection import train_test_split\n",
        "import numpy as np\n",
        "import pandas as pd\n",
        "import numpy as np\n",
        "from scipy import stats\n",
        "import seaborn as sns\n",
        "from sklearn.model_selection import train_test_split\n",
        "import matplotlib.pyplot as plt\n",
        "import tensorflow as tf\n",
        "# allow plots to appear directly in the notebook\n",
        "%matplotlib inline"
      ]
    },
    {
      "cell_type": "markdown",
      "metadata": {
        "id": "tI5GkwBVE4Xx"
      },
      "source": [
        "**GETTING THE DATA**"
      ]
    },
    {
      "cell_type": "code",
      "execution_count": null,
      "metadata": {
        "colab": {
          "base_uri": "https://localhost:8080/",
          "height": 537
        },
        "id": "EZc6kmMVyxsu",
        "outputId": "af83984c-d75b-4277-c4fb-fb3569bc0b2a"
      },
      "outputs": [
        {
          "output_type": "execute_result",
          "data": {
            "text/plain": [
              "      Cement (component 1)(kg in a m^3 mixture)  \\\n",
              "0                                         540.0   \n",
              "1                                         540.0   \n",
              "2                                         332.5   \n",
              "3                                         332.5   \n",
              "4                                         198.6   \n",
              "...                                         ...   \n",
              "1025                                      276.4   \n",
              "1026                                      322.2   \n",
              "1027                                      148.5   \n",
              "1028                                      159.1   \n",
              "1029                                      260.9   \n",
              "\n",
              "      Blast Furnace Slag (component 2)(kg in a m^3 mixture)  \\\n",
              "0                                                   0.0       \n",
              "1                                                   0.0       \n",
              "2                                                 142.5       \n",
              "3                                                 142.5       \n",
              "4                                                 132.4       \n",
              "...                                                 ...       \n",
              "1025                                              116.0       \n",
              "1026                                                0.0       \n",
              "1027                                              139.4       \n",
              "1028                                              186.7       \n",
              "1029                                              100.5       \n",
              "\n",
              "      Fly Ash (component 3)(kg in a m^3 mixture)  \\\n",
              "0                                            0.0   \n",
              "1                                            0.0   \n",
              "2                                            0.0   \n",
              "3                                            0.0   \n",
              "4                                            0.0   \n",
              "...                                          ...   \n",
              "1025                                        90.3   \n",
              "1026                                       115.6   \n",
              "1027                                       108.6   \n",
              "1028                                         0.0   \n",
              "1029                                        78.3   \n",
              "\n",
              "      Water  (component 4)(kg in a m^3 mixture)  \\\n",
              "0                                         162.0   \n",
              "1                                         162.0   \n",
              "2                                         228.0   \n",
              "3                                         228.0   \n",
              "4                                         192.0   \n",
              "...                                         ...   \n",
              "1025                                      179.6   \n",
              "1026                                      196.0   \n",
              "1027                                      192.7   \n",
              "1028                                      175.6   \n",
              "1029                                      200.6   \n",
              "\n",
              "      Superplasticizer (component 5)(kg in a m^3 mixture)  \\\n",
              "0                                                   2.5     \n",
              "1                                                   2.5     \n",
              "2                                                   0.0     \n",
              "3                                                   0.0     \n",
              "4                                                   0.0     \n",
              "...                                                 ...     \n",
              "1025                                                8.9     \n",
              "1026                                               10.4     \n",
              "1027                                                6.1     \n",
              "1028                                               11.3     \n",
              "1029                                                8.6     \n",
              "\n",
              "      Coarse Aggregate  (component 6)(kg in a m^3 mixture)  \\\n",
              "0                                                1040.0      \n",
              "1                                                1055.0      \n",
              "2                                                 932.0      \n",
              "3                                                 932.0      \n",
              "4                                                 978.4      \n",
              "...                                                 ...      \n",
              "1025                                              870.1      \n",
              "1026                                              817.9      \n",
              "1027                                              892.4      \n",
              "1028                                              989.6      \n",
              "1029                                              864.5      \n",
              "\n",
              "      Fine Aggregate (component 7)(kg in a m^3 mixture)  Age (day)  \\\n",
              "0                                                 676.0         28   \n",
              "1                                                 676.0         28   \n",
              "2                                                 594.0        270   \n",
              "3                                                 594.0        365   \n",
              "4                                                 825.5        360   \n",
              "...                                                 ...        ...   \n",
              "1025                                              768.3         28   \n",
              "1026                                              813.4         28   \n",
              "1027                                              780.0         28   \n",
              "1028                                              788.9         28   \n",
              "1029                                              761.5         28   \n",
              "\n",
              "      Concrete compressive strength(MPa, megapascals)   \n",
              "0                                                79.99  \n",
              "1                                                61.89  \n",
              "2                                                40.27  \n",
              "3                                                41.05  \n",
              "4                                                44.30  \n",
              "...                                                ...  \n",
              "1025                                             44.28  \n",
              "1026                                             31.18  \n",
              "1027                                             23.70  \n",
              "1028                                             32.77  \n",
              "1029                                             32.40  \n",
              "\n",
              "[1030 rows x 9 columns]"
            ],
            "text/html": [
              "\n",
              "  <div id=\"df-63cffbf9-1103-4b4a-aa7c-9359b2f22418\">\n",
              "    <div class=\"colab-df-container\">\n",
              "      <div>\n",
              "<style scoped>\n",
              "    .dataframe tbody tr th:only-of-type {\n",
              "        vertical-align: middle;\n",
              "    }\n",
              "\n",
              "    .dataframe tbody tr th {\n",
              "        vertical-align: top;\n",
              "    }\n",
              "\n",
              "    .dataframe thead th {\n",
              "        text-align: right;\n",
              "    }\n",
              "</style>\n",
              "<table border=\"1\" class=\"dataframe\">\n",
              "  <thead>\n",
              "    <tr style=\"text-align: right;\">\n",
              "      <th></th>\n",
              "      <th>Cement (component 1)(kg in a m^3 mixture)</th>\n",
              "      <th>Blast Furnace Slag (component 2)(kg in a m^3 mixture)</th>\n",
              "      <th>Fly Ash (component 3)(kg in a m^3 mixture)</th>\n",
              "      <th>Water  (component 4)(kg in a m^3 mixture)</th>\n",
              "      <th>Superplasticizer (component 5)(kg in a m^3 mixture)</th>\n",
              "      <th>Coarse Aggregate  (component 6)(kg in a m^3 mixture)</th>\n",
              "      <th>Fine Aggregate (component 7)(kg in a m^3 mixture)</th>\n",
              "      <th>Age (day)</th>\n",
              "      <th>Concrete compressive strength(MPa, megapascals)</th>\n",
              "    </tr>\n",
              "  </thead>\n",
              "  <tbody>\n",
              "    <tr>\n",
              "      <th>0</th>\n",
              "      <td>540.0</td>\n",
              "      <td>0.0</td>\n",
              "      <td>0.0</td>\n",
              "      <td>162.0</td>\n",
              "      <td>2.5</td>\n",
              "      <td>1040.0</td>\n",
              "      <td>676.0</td>\n",
              "      <td>28</td>\n",
              "      <td>79.99</td>\n",
              "    </tr>\n",
              "    <tr>\n",
              "      <th>1</th>\n",
              "      <td>540.0</td>\n",
              "      <td>0.0</td>\n",
              "      <td>0.0</td>\n",
              "      <td>162.0</td>\n",
              "      <td>2.5</td>\n",
              "      <td>1055.0</td>\n",
              "      <td>676.0</td>\n",
              "      <td>28</td>\n",
              "      <td>61.89</td>\n",
              "    </tr>\n",
              "    <tr>\n",
              "      <th>2</th>\n",
              "      <td>332.5</td>\n",
              "      <td>142.5</td>\n",
              "      <td>0.0</td>\n",
              "      <td>228.0</td>\n",
              "      <td>0.0</td>\n",
              "      <td>932.0</td>\n",
              "      <td>594.0</td>\n",
              "      <td>270</td>\n",
              "      <td>40.27</td>\n",
              "    </tr>\n",
              "    <tr>\n",
              "      <th>3</th>\n",
              "      <td>332.5</td>\n",
              "      <td>142.5</td>\n",
              "      <td>0.0</td>\n",
              "      <td>228.0</td>\n",
              "      <td>0.0</td>\n",
              "      <td>932.0</td>\n",
              "      <td>594.0</td>\n",
              "      <td>365</td>\n",
              "      <td>41.05</td>\n",
              "    </tr>\n",
              "    <tr>\n",
              "      <th>4</th>\n",
              "      <td>198.6</td>\n",
              "      <td>132.4</td>\n",
              "      <td>0.0</td>\n",
              "      <td>192.0</td>\n",
              "      <td>0.0</td>\n",
              "      <td>978.4</td>\n",
              "      <td>825.5</td>\n",
              "      <td>360</td>\n",
              "      <td>44.30</td>\n",
              "    </tr>\n",
              "    <tr>\n",
              "      <th>...</th>\n",
              "      <td>...</td>\n",
              "      <td>...</td>\n",
              "      <td>...</td>\n",
              "      <td>...</td>\n",
              "      <td>...</td>\n",
              "      <td>...</td>\n",
              "      <td>...</td>\n",
              "      <td>...</td>\n",
              "      <td>...</td>\n",
              "    </tr>\n",
              "    <tr>\n",
              "      <th>1025</th>\n",
              "      <td>276.4</td>\n",
              "      <td>116.0</td>\n",
              "      <td>90.3</td>\n",
              "      <td>179.6</td>\n",
              "      <td>8.9</td>\n",
              "      <td>870.1</td>\n",
              "      <td>768.3</td>\n",
              "      <td>28</td>\n",
              "      <td>44.28</td>\n",
              "    </tr>\n",
              "    <tr>\n",
              "      <th>1026</th>\n",
              "      <td>322.2</td>\n",
              "      <td>0.0</td>\n",
              "      <td>115.6</td>\n",
              "      <td>196.0</td>\n",
              "      <td>10.4</td>\n",
              "      <td>817.9</td>\n",
              "      <td>813.4</td>\n",
              "      <td>28</td>\n",
              "      <td>31.18</td>\n",
              "    </tr>\n",
              "    <tr>\n",
              "      <th>1027</th>\n",
              "      <td>148.5</td>\n",
              "      <td>139.4</td>\n",
              "      <td>108.6</td>\n",
              "      <td>192.7</td>\n",
              "      <td>6.1</td>\n",
              "      <td>892.4</td>\n",
              "      <td>780.0</td>\n",
              "      <td>28</td>\n",
              "      <td>23.70</td>\n",
              "    </tr>\n",
              "    <tr>\n",
              "      <th>1028</th>\n",
              "      <td>159.1</td>\n",
              "      <td>186.7</td>\n",
              "      <td>0.0</td>\n",
              "      <td>175.6</td>\n",
              "      <td>11.3</td>\n",
              "      <td>989.6</td>\n",
              "      <td>788.9</td>\n",
              "      <td>28</td>\n",
              "      <td>32.77</td>\n",
              "    </tr>\n",
              "    <tr>\n",
              "      <th>1029</th>\n",
              "      <td>260.9</td>\n",
              "      <td>100.5</td>\n",
              "      <td>78.3</td>\n",
              "      <td>200.6</td>\n",
              "      <td>8.6</td>\n",
              "      <td>864.5</td>\n",
              "      <td>761.5</td>\n",
              "      <td>28</td>\n",
              "      <td>32.40</td>\n",
              "    </tr>\n",
              "  </tbody>\n",
              "</table>\n",
              "<p>1030 rows × 9 columns</p>\n",
              "</div>\n",
              "      <button class=\"colab-df-convert\" onclick=\"convertToInteractive('df-63cffbf9-1103-4b4a-aa7c-9359b2f22418')\"\n",
              "              title=\"Convert this dataframe to an interactive table.\"\n",
              "              style=\"display:none;\">\n",
              "        \n",
              "  <svg xmlns=\"http://www.w3.org/2000/svg\" height=\"24px\"viewBox=\"0 0 24 24\"\n",
              "       width=\"24px\">\n",
              "    <path d=\"M0 0h24v24H0V0z\" fill=\"none\"/>\n",
              "    <path d=\"M18.56 5.44l.94 2.06.94-2.06 2.06-.94-2.06-.94-.94-2.06-.94 2.06-2.06.94zm-11 1L8.5 8.5l.94-2.06 2.06-.94-2.06-.94L8.5 2.5l-.94 2.06-2.06.94zm10 10l.94 2.06.94-2.06 2.06-.94-2.06-.94-.94-2.06-.94 2.06-2.06.94z\"/><path d=\"M17.41 7.96l-1.37-1.37c-.4-.4-.92-.59-1.43-.59-.52 0-1.04.2-1.43.59L10.3 9.45l-7.72 7.72c-.78.78-.78 2.05 0 2.83L4 21.41c.39.39.9.59 1.41.59.51 0 1.02-.2 1.41-.59l7.78-7.78 2.81-2.81c.8-.78.8-2.07 0-2.86zM5.41 20L4 18.59l7.72-7.72 1.47 1.35L5.41 20z\"/>\n",
              "  </svg>\n",
              "      </button>\n",
              "      \n",
              "  <style>\n",
              "    .colab-df-container {\n",
              "      display:flex;\n",
              "      flex-wrap:wrap;\n",
              "      gap: 12px;\n",
              "    }\n",
              "\n",
              "    .colab-df-convert {\n",
              "      background-color: #E8F0FE;\n",
              "      border: none;\n",
              "      border-radius: 50%;\n",
              "      cursor: pointer;\n",
              "      display: none;\n",
              "      fill: #1967D2;\n",
              "      height: 32px;\n",
              "      padding: 0 0 0 0;\n",
              "      width: 32px;\n",
              "    }\n",
              "\n",
              "    .colab-df-convert:hover {\n",
              "      background-color: #E2EBFA;\n",
              "      box-shadow: 0px 1px 2px rgba(60, 64, 67, 0.3), 0px 1px 3px 1px rgba(60, 64, 67, 0.15);\n",
              "      fill: #174EA6;\n",
              "    }\n",
              "\n",
              "    [theme=dark] .colab-df-convert {\n",
              "      background-color: #3B4455;\n",
              "      fill: #D2E3FC;\n",
              "    }\n",
              "\n",
              "    [theme=dark] .colab-df-convert:hover {\n",
              "      background-color: #434B5C;\n",
              "      box-shadow: 0px 1px 3px 1px rgba(0, 0, 0, 0.15);\n",
              "      filter: drop-shadow(0px 1px 2px rgba(0, 0, 0, 0.3));\n",
              "      fill: #FFFFFF;\n",
              "    }\n",
              "  </style>\n",
              "\n",
              "      <script>\n",
              "        const buttonEl =\n",
              "          document.querySelector('#df-63cffbf9-1103-4b4a-aa7c-9359b2f22418 button.colab-df-convert');\n",
              "        buttonEl.style.display =\n",
              "          google.colab.kernel.accessAllowed ? 'block' : 'none';\n",
              "\n",
              "        async function convertToInteractive(key) {\n",
              "          const element = document.querySelector('#df-63cffbf9-1103-4b4a-aa7c-9359b2f22418');\n",
              "          const dataTable =\n",
              "            await google.colab.kernel.invokeFunction('convertToInteractive',\n",
              "                                                     [key], {});\n",
              "          if (!dataTable) return;\n",
              "\n",
              "          const docLinkHtml = 'Like what you see? Visit the ' +\n",
              "            '<a target=\"_blank\" href=https://colab.research.google.com/notebooks/data_table.ipynb>data table notebook</a>'\n",
              "            + ' to learn more about interactive tables.';\n",
              "          element.innerHTML = '';\n",
              "          dataTable['output_type'] = 'display_data';\n",
              "          await google.colab.output.renderOutput(dataTable, element);\n",
              "          const docLink = document.createElement('div');\n",
              "          docLink.innerHTML = docLinkHtml;\n",
              "          element.appendChild(docLink);\n",
              "        }\n",
              "      </script>\n",
              "    </div>\n",
              "  </div>\n",
              "  "
            ]
          },
          "metadata": {},
          "execution_count": 2
        }
      ],
      "source": [
        "data = pd.read_csv(\"/content/Concrete_Data.csv\")\n",
        "data"
      ]
    },
    {
      "cell_type": "code",
      "execution_count": null,
      "metadata": {
        "colab": {
          "base_uri": "https://localhost:8080/"
        },
        "id": "IGXNwVBVaBzu",
        "outputId": "cf00865c-b609-4465-cdd8-2e12f411ce9a"
      },
      "outputs": [
        {
          "output_type": "execute_result",
          "data": {
            "text/plain": [
              "(1030, 9)"
            ]
          },
          "metadata": {},
          "execution_count": 3
        }
      ],
      "source": [
        "data.shape"
      ]
    },
    {
      "cell_type": "markdown",
      "metadata": {
        "id": "2d_LJRtlOXtC"
      },
      "source": [
        "TOTAL OBSERVATIONS ARE 1030 AND 9 FEATURES"
      ]
    },
    {
      "cell_type": "code",
      "execution_count": null,
      "metadata": {
        "colab": {
          "base_uri": "https://localhost:8080/"
        },
        "id": "BQ_hwy4HaDet",
        "outputId": "2db2ef48-b8da-4e15-8781-cf4f638a0aaf"
      },
      "outputs": [
        {
          "output_type": "execute_result",
          "data": {
            "text/plain": [
              "Cement (component 1)(kg in a m^3 mixture)                float64\n",
              "Blast Furnace Slag (component 2)(kg in a m^3 mixture)    float64\n",
              "Fly Ash (component 3)(kg in a m^3 mixture)               float64\n",
              "Water  (component 4)(kg in a m^3 mixture)                float64\n",
              "Superplasticizer (component 5)(kg in a m^3 mixture)      float64\n",
              "Coarse Aggregate  (component 6)(kg in a m^3 mixture)     float64\n",
              "Fine Aggregate (component 7)(kg in a m^3 mixture)        float64\n",
              "Age (day)                                                  int64\n",
              "Concrete compressive strength(MPa, megapascals)          float64\n",
              "dtype: object"
            ]
          },
          "metadata": {},
          "execution_count": 4
        }
      ],
      "source": [
        "data.dtypes"
      ]
    },
    {
      "cell_type": "markdown",
      "metadata": {
        "id": "2iSYYEJHJnaQ"
      },
      "source": [
        "\n",
        "SIMPLIFYING COLUMN NAMES,SINCE THEY APPEAR TO BE TOO LENGTHY"
      ]
    },
    {
      "cell_type": "code",
      "execution_count": null,
      "metadata": {
        "colab": {
          "base_uri": "https://localhost:8080/",
          "height": 424
        },
        "id": "uEbtt-DRaLNl",
        "outputId": "4fa4e967-4121-450a-e520-b67e4ad17ceb"
      },
      "outputs": [
        {
          "output_type": "execute_result",
          "data": {
            "text/plain": [
              "      Cement  Furnace_Slag  Fly_Ash  Water  Super_Plasticizer  Coarse_agg  \\\n",
              "0      540.0           0.0      0.0  162.0                2.5      1040.0   \n",
              "1      540.0           0.0      0.0  162.0                2.5      1055.0   \n",
              "2      332.5         142.5      0.0  228.0                0.0       932.0   \n",
              "3      332.5         142.5      0.0  228.0                0.0       932.0   \n",
              "4      198.6         132.4      0.0  192.0                0.0       978.4   \n",
              "...      ...           ...      ...    ...                ...         ...   \n",
              "1025   276.4         116.0     90.3  179.6                8.9       870.1   \n",
              "1026   322.2           0.0    115.6  196.0               10.4       817.9   \n",
              "1027   148.5         139.4    108.6  192.7                6.1       892.4   \n",
              "1028   159.1         186.7      0.0  175.6               11.3       989.6   \n",
              "1029   260.9         100.5     78.3  200.6                8.6       864.5   \n",
              "\n",
              "      Fine_agg  Age  Cc_Strength  \n",
              "0        676.0   28        79.99  \n",
              "1        676.0   28        61.89  \n",
              "2        594.0  270        40.27  \n",
              "3        594.0  365        41.05  \n",
              "4        825.5  360        44.30  \n",
              "...        ...  ...          ...  \n",
              "1025     768.3   28        44.28  \n",
              "1026     813.4   28        31.18  \n",
              "1027     780.0   28        23.70  \n",
              "1028     788.9   28        32.77  \n",
              "1029     761.5   28        32.40  \n",
              "\n",
              "[1030 rows x 9 columns]"
            ],
            "text/html": [
              "\n",
              "  <div id=\"df-b12370d6-31ba-4d68-8dc3-4429fb5c6bb7\">\n",
              "    <div class=\"colab-df-container\">\n",
              "      <div>\n",
              "<style scoped>\n",
              "    .dataframe tbody tr th:only-of-type {\n",
              "        vertical-align: middle;\n",
              "    }\n",
              "\n",
              "    .dataframe tbody tr th {\n",
              "        vertical-align: top;\n",
              "    }\n",
              "\n",
              "    .dataframe thead th {\n",
              "        text-align: right;\n",
              "    }\n",
              "</style>\n",
              "<table border=\"1\" class=\"dataframe\">\n",
              "  <thead>\n",
              "    <tr style=\"text-align: right;\">\n",
              "      <th></th>\n",
              "      <th>Cement</th>\n",
              "      <th>Furnace_Slag</th>\n",
              "      <th>Fly_Ash</th>\n",
              "      <th>Water</th>\n",
              "      <th>Super_Plasticizer</th>\n",
              "      <th>Coarse_agg</th>\n",
              "      <th>Fine_agg</th>\n",
              "      <th>Age</th>\n",
              "      <th>Cc_Strength</th>\n",
              "    </tr>\n",
              "  </thead>\n",
              "  <tbody>\n",
              "    <tr>\n",
              "      <th>0</th>\n",
              "      <td>540.0</td>\n",
              "      <td>0.0</td>\n",
              "      <td>0.0</td>\n",
              "      <td>162.0</td>\n",
              "      <td>2.5</td>\n",
              "      <td>1040.0</td>\n",
              "      <td>676.0</td>\n",
              "      <td>28</td>\n",
              "      <td>79.99</td>\n",
              "    </tr>\n",
              "    <tr>\n",
              "      <th>1</th>\n",
              "      <td>540.0</td>\n",
              "      <td>0.0</td>\n",
              "      <td>0.0</td>\n",
              "      <td>162.0</td>\n",
              "      <td>2.5</td>\n",
              "      <td>1055.0</td>\n",
              "      <td>676.0</td>\n",
              "      <td>28</td>\n",
              "      <td>61.89</td>\n",
              "    </tr>\n",
              "    <tr>\n",
              "      <th>2</th>\n",
              "      <td>332.5</td>\n",
              "      <td>142.5</td>\n",
              "      <td>0.0</td>\n",
              "      <td>228.0</td>\n",
              "      <td>0.0</td>\n",
              "      <td>932.0</td>\n",
              "      <td>594.0</td>\n",
              "      <td>270</td>\n",
              "      <td>40.27</td>\n",
              "    </tr>\n",
              "    <tr>\n",
              "      <th>3</th>\n",
              "      <td>332.5</td>\n",
              "      <td>142.5</td>\n",
              "      <td>0.0</td>\n",
              "      <td>228.0</td>\n",
              "      <td>0.0</td>\n",
              "      <td>932.0</td>\n",
              "      <td>594.0</td>\n",
              "      <td>365</td>\n",
              "      <td>41.05</td>\n",
              "    </tr>\n",
              "    <tr>\n",
              "      <th>4</th>\n",
              "      <td>198.6</td>\n",
              "      <td>132.4</td>\n",
              "      <td>0.0</td>\n",
              "      <td>192.0</td>\n",
              "      <td>0.0</td>\n",
              "      <td>978.4</td>\n",
              "      <td>825.5</td>\n",
              "      <td>360</td>\n",
              "      <td>44.30</td>\n",
              "    </tr>\n",
              "    <tr>\n",
              "      <th>...</th>\n",
              "      <td>...</td>\n",
              "      <td>...</td>\n",
              "      <td>...</td>\n",
              "      <td>...</td>\n",
              "      <td>...</td>\n",
              "      <td>...</td>\n",
              "      <td>...</td>\n",
              "      <td>...</td>\n",
              "      <td>...</td>\n",
              "    </tr>\n",
              "    <tr>\n",
              "      <th>1025</th>\n",
              "      <td>276.4</td>\n",
              "      <td>116.0</td>\n",
              "      <td>90.3</td>\n",
              "      <td>179.6</td>\n",
              "      <td>8.9</td>\n",
              "      <td>870.1</td>\n",
              "      <td>768.3</td>\n",
              "      <td>28</td>\n",
              "      <td>44.28</td>\n",
              "    </tr>\n",
              "    <tr>\n",
              "      <th>1026</th>\n",
              "      <td>322.2</td>\n",
              "      <td>0.0</td>\n",
              "      <td>115.6</td>\n",
              "      <td>196.0</td>\n",
              "      <td>10.4</td>\n",
              "      <td>817.9</td>\n",
              "      <td>813.4</td>\n",
              "      <td>28</td>\n",
              "      <td>31.18</td>\n",
              "    </tr>\n",
              "    <tr>\n",
              "      <th>1027</th>\n",
              "      <td>148.5</td>\n",
              "      <td>139.4</td>\n",
              "      <td>108.6</td>\n",
              "      <td>192.7</td>\n",
              "      <td>6.1</td>\n",
              "      <td>892.4</td>\n",
              "      <td>780.0</td>\n",
              "      <td>28</td>\n",
              "      <td>23.70</td>\n",
              "    </tr>\n",
              "    <tr>\n",
              "      <th>1028</th>\n",
              "      <td>159.1</td>\n",
              "      <td>186.7</td>\n",
              "      <td>0.0</td>\n",
              "      <td>175.6</td>\n",
              "      <td>11.3</td>\n",
              "      <td>989.6</td>\n",
              "      <td>788.9</td>\n",
              "      <td>28</td>\n",
              "      <td>32.77</td>\n",
              "    </tr>\n",
              "    <tr>\n",
              "      <th>1029</th>\n",
              "      <td>260.9</td>\n",
              "      <td>100.5</td>\n",
              "      <td>78.3</td>\n",
              "      <td>200.6</td>\n",
              "      <td>8.6</td>\n",
              "      <td>864.5</td>\n",
              "      <td>761.5</td>\n",
              "      <td>28</td>\n",
              "      <td>32.40</td>\n",
              "    </tr>\n",
              "  </tbody>\n",
              "</table>\n",
              "<p>1030 rows × 9 columns</p>\n",
              "</div>\n",
              "      <button class=\"colab-df-convert\" onclick=\"convertToInteractive('df-b12370d6-31ba-4d68-8dc3-4429fb5c6bb7')\"\n",
              "              title=\"Convert this dataframe to an interactive table.\"\n",
              "              style=\"display:none;\">\n",
              "        \n",
              "  <svg xmlns=\"http://www.w3.org/2000/svg\" height=\"24px\"viewBox=\"0 0 24 24\"\n",
              "       width=\"24px\">\n",
              "    <path d=\"M0 0h24v24H0V0z\" fill=\"none\"/>\n",
              "    <path d=\"M18.56 5.44l.94 2.06.94-2.06 2.06-.94-2.06-.94-.94-2.06-.94 2.06-2.06.94zm-11 1L8.5 8.5l.94-2.06 2.06-.94-2.06-.94L8.5 2.5l-.94 2.06-2.06.94zm10 10l.94 2.06.94-2.06 2.06-.94-2.06-.94-.94-2.06-.94 2.06-2.06.94z\"/><path d=\"M17.41 7.96l-1.37-1.37c-.4-.4-.92-.59-1.43-.59-.52 0-1.04.2-1.43.59L10.3 9.45l-7.72 7.72c-.78.78-.78 2.05 0 2.83L4 21.41c.39.39.9.59 1.41.59.51 0 1.02-.2 1.41-.59l7.78-7.78 2.81-2.81c.8-.78.8-2.07 0-2.86zM5.41 20L4 18.59l7.72-7.72 1.47 1.35L5.41 20z\"/>\n",
              "  </svg>\n",
              "      </button>\n",
              "      \n",
              "  <style>\n",
              "    .colab-df-container {\n",
              "      display:flex;\n",
              "      flex-wrap:wrap;\n",
              "      gap: 12px;\n",
              "    }\n",
              "\n",
              "    .colab-df-convert {\n",
              "      background-color: #E8F0FE;\n",
              "      border: none;\n",
              "      border-radius: 50%;\n",
              "      cursor: pointer;\n",
              "      display: none;\n",
              "      fill: #1967D2;\n",
              "      height: 32px;\n",
              "      padding: 0 0 0 0;\n",
              "      width: 32px;\n",
              "    }\n",
              "\n",
              "    .colab-df-convert:hover {\n",
              "      background-color: #E2EBFA;\n",
              "      box-shadow: 0px 1px 2px rgba(60, 64, 67, 0.3), 0px 1px 3px 1px rgba(60, 64, 67, 0.15);\n",
              "      fill: #174EA6;\n",
              "    }\n",
              "\n",
              "    [theme=dark] .colab-df-convert {\n",
              "      background-color: #3B4455;\n",
              "      fill: #D2E3FC;\n",
              "    }\n",
              "\n",
              "    [theme=dark] .colab-df-convert:hover {\n",
              "      background-color: #434B5C;\n",
              "      box-shadow: 0px 1px 3px 1px rgba(0, 0, 0, 0.15);\n",
              "      filter: drop-shadow(0px 1px 2px rgba(0, 0, 0, 0.3));\n",
              "      fill: #FFFFFF;\n",
              "    }\n",
              "  </style>\n",
              "\n",
              "      <script>\n",
              "        const buttonEl =\n",
              "          document.querySelector('#df-b12370d6-31ba-4d68-8dc3-4429fb5c6bb7 button.colab-df-convert');\n",
              "        buttonEl.style.display =\n",
              "          google.colab.kernel.accessAllowed ? 'block' : 'none';\n",
              "\n",
              "        async function convertToInteractive(key) {\n",
              "          const element = document.querySelector('#df-b12370d6-31ba-4d68-8dc3-4429fb5c6bb7');\n",
              "          const dataTable =\n",
              "            await google.colab.kernel.invokeFunction('convertToInteractive',\n",
              "                                                     [key], {});\n",
              "          if (!dataTable) return;\n",
              "\n",
              "          const docLinkHtml = 'Like what you see? Visit the ' +\n",
              "            '<a target=\"_blank\" href=https://colab.research.google.com/notebooks/data_table.ipynb>data table notebook</a>'\n",
              "            + ' to learn more about interactive tables.';\n",
              "          element.innerHTML = '';\n",
              "          dataTable['output_type'] = 'display_data';\n",
              "          await google.colab.output.renderOutput(dataTable, element);\n",
              "          const docLink = document.createElement('div');\n",
              "          docLink.innerHTML = docLinkHtml;\n",
              "          element.appendChild(docLink);\n",
              "        }\n",
              "      </script>\n",
              "    </div>\n",
              "  </div>\n",
              "  "
            ]
          },
          "metadata": {},
          "execution_count": 5
        }
      ],
      "source": [
        "data= data.rename(columns = {\n",
        "    'Cement (component 1)(kg in a m^3 mixture)':'Cement',\n",
        "    'Blast Furnace Slag (component 2)(kg in a m^3 mixture)':'Furnace_Slag', \n",
        "    'Fly Ash (component 3)(kg in a m^3 mixture)':'Fly_Ash', \n",
        "    'Water  (component 4)(kg in a m^3 mixture)':'Water', \n",
        "    \n",
        "    'Superplasticizer (component 5)(kg in a m^3 mixture)':'Super_Plasticizer', \n",
        "    'Coarse Aggregate  (component 6)(kg in a m^3 mixture)':'Coarse_agg',\n",
        "    'Fine Aggregate (component 7)(kg in a m^3 mixture)':'Fine_agg', \n",
        "    'Age (day)':'Age', \n",
        "    'Concrete compressive strength(MPa, megapascals) ': 'Cc_Strength'})\n",
        "\n",
        "data"
      ]
    },
    {
      "cell_type": "code",
      "execution_count": null,
      "metadata": {
        "colab": {
          "base_uri": "https://localhost:8080/"
        },
        "id": "Rp4uNuQDaRwH",
        "outputId": "70a786ba-fad3-43ed-f747-cfc95803eb99"
      },
      "outputs": [
        {
          "output_type": "execute_result",
          "data": {
            "text/plain": [
              "Index(['Cement', 'Furnace_Slag', 'Fly_Ash', 'Water', 'Super_Plasticizer',\n",
              "       'Coarse_agg', 'Fine_agg', 'Age', 'Cc_Strength'],\n",
              "      dtype='object')"
            ]
          },
          "metadata": {},
          "execution_count": 6
        }
      ],
      "source": [
        "data.columns"
      ]
    },
    {
      "cell_type": "markdown",
      "metadata": {
        "id": "YVIWYu-hFNjZ"
      },
      "source": [
        "**DATA CLEANING**"
      ]
    },
    {
      "cell_type": "markdown",
      "metadata": {
        "id": "VrHPfJ4LaZ0H"
      },
      "source": [
        "CHECKING FOR NULL VALUES"
      ]
    },
    {
      "cell_type": "code",
      "execution_count": null,
      "metadata": {
        "colab": {
          "base_uri": "https://localhost:8080/"
        },
        "id": "GB6YgSXKzHMm",
        "outputId": "06200132-309b-4bac-a37e-b5cc736e0b4e"
      },
      "outputs": [
        {
          "output_type": "execute_result",
          "data": {
            "text/plain": [
              "Cement               0\n",
              "Furnace_Slag         0\n",
              "Fly_Ash              0\n",
              "Water                0\n",
              "Super_Plasticizer    0\n",
              "Coarse_agg           0\n",
              "Fine_agg             0\n",
              "Age                  0\n",
              "Cc_Strength          0\n",
              "dtype: int64"
            ]
          },
          "metadata": {},
          "execution_count": 7
        }
      ],
      "source": [
        "data.isnull().sum()"
      ]
    },
    {
      "cell_type": "markdown",
      "metadata": {
        "id": "3TjIUBkpzhcf"
      },
      "source": [
        "We can find that the given data doesn't have any NULL values, Thus it is considered as clean data"
      ]
    },
    {
      "cell_type": "code",
      "execution_count": null,
      "metadata": {
        "colab": {
          "base_uri": "https://localhost:8080/"
        },
        "id": "wakpKVtCa9Q1",
        "outputId": "21ebe4c0-7c2e-4820-f32e-83f49e68058a"
      },
      "outputs": [
        {
          "output_type": "stream",
          "name": "stdout",
          "text": [
            "<class 'pandas.core.frame.DataFrame'>\n",
            "RangeIndex: 1030 entries, 0 to 1029\n",
            "Data columns (total 9 columns):\n",
            " #   Column             Non-Null Count  Dtype  \n",
            "---  ------             --------------  -----  \n",
            " 0   Cement             1030 non-null   float64\n",
            " 1   Furnace_Slag       1030 non-null   float64\n",
            " 2   Fly_Ash            1030 non-null   float64\n",
            " 3   Water              1030 non-null   float64\n",
            " 4   Super_Plasticizer  1030 non-null   float64\n",
            " 5   Coarse_agg         1030 non-null   float64\n",
            " 6   Fine_agg           1030 non-null   float64\n",
            " 7   Age                1030 non-null   int64  \n",
            " 8   Cc_Strength        1030 non-null   float64\n",
            "dtypes: float64(8), int64(1)\n",
            "memory usage: 72.5 KB\n"
          ]
        }
      ],
      "source": [
        "data.info()"
      ]
    },
    {
      "cell_type": "markdown",
      "metadata": {
        "id": "p00Dgb0LOOKl"
      },
      "source": [
        "** LINEAR REGRESSION MODELLING(FITTING THE DATA MODEL)**"
      ]
    },
    {
      "cell_type": "code",
      "execution_count": null,
      "metadata": {
        "id": "7CrFqNB5W34C"
      },
      "outputs": [],
      "source": [
        "# independent variables\n",
        "x = data.drop(['Cc_Strength'],axis=1)\n",
        "# dependent variables\n",
        "y = data['Cc_Strength']"
      ]
    },
    {
      "cell_type": "code",
      "execution_count": null,
      "metadata": {
        "id": "9PP6iez3XRdB"
      },
      "outputs": [],
      "source": [
        "# importing train_test_split\n",
        "from sklearn.model_selection import train_test_split\n",
        "xtrain,xtest,ytrain,ytest= train_test_split(x,y,test_size=0.3,random_state=42)"
      ]
    },
    {
      "cell_type": "code",
      "execution_count": null,
      "metadata": {
        "id": "As7pCrwNYV97"
      },
      "outputs": [],
      "source": [
        "from sklearn.preprocessing import StandardScaler\n",
        "stand= StandardScaler()\n",
        "Fit = stand.fit(xtrain)\n",
        "xtrain_scl = Fit.transform(xtrain)\n",
        "xtest_scl = Fit.transform(xtest)"
      ]
    },
    {
      "cell_type": "code",
      "execution_count": null,
      "metadata": {
        "colab": {
          "base_uri": "https://localhost:8080/"
        },
        "id": "4RiB6byyYX-I",
        "outputId": "7ed426db-0b16-4f58-e2fa-8a7ee6c0a466"
      },
      "outputs": [
        {
          "output_type": "stream",
          "name": "stdout",
          "text": [
            "predicted score is : 0.5943782479239206\n",
            "..................................\n",
            "mean_sqrd_error is == 109.75080797014401\n",
            "root mean squared error is == 10.47620198211852\n"
          ]
        }
      ],
      "source": [
        "# import linear regression models\n",
        "from sklearn.linear_model import LinearRegression\n",
        "from sklearn.metrics import mean_squared_error\n",
        "lr=LinearRegression()\n",
        "fit=lr.fit(xtrain_scl,ytrain)\n",
        "score = lr.score(xtest_scl,ytest)\n",
        "print('predicted score is : {}'.format(score))\n",
        "print('..................................')\n",
        "y_predict = lr.predict(xtest_scl)\n",
        "print('mean_sqrd_error is ==',mean_squared_error(ytest,y_predict))\n",
        "rms = np.sqrt(mean_squared_error(ytest,y_predict)) \n",
        "print('root mean squared error is == {}'.format(rms))"
      ]
    },
    {
      "cell_type": "markdown",
      "metadata": {
        "id": "K9uVoplyVtYR"
      },
      "source": [
        "ANOTHER method"
      ]
    },
    {
      "cell_type": "code",
      "execution_count": null,
      "metadata": {
        "colab": {
          "base_uri": "https://localhost:8080/"
        },
        "id": "i1PIxh5ANG6M",
        "outputId": "1c17b3c4-3613-4746-b9cc-91942e84b6e2"
      },
      "outputs": [
        {
          "output_type": "execute_result",
          "data": {
            "text/plain": [
              "Intercept           -23.331214\n",
              "Cement                0.119804\n",
              "Furnace_Slag          0.103866\n",
              "Fly_Ash               0.087934\n",
              "Water                -0.149918\n",
              "Super_Plasticizer     0.292225\n",
              "Coarse_agg            0.018086\n",
              "Fine_agg              0.020190\n",
              "Age                   0.114222\n",
              "dtype: float64"
            ]
          },
          "metadata": {},
          "execution_count": 13
        }
      ],
      "source": [
        "lm=smf.ols(formula='Cc_Strength~Cement+Furnace_Slag+Fly_Ash+Water+Super_Plasticizer+Coarse_agg+Fine_agg+Age',data=data).fit()\n",
        "lm.params"
      ]
    },
    {
      "cell_type": "code",
      "execution_count": null,
      "metadata": {
        "colab": {
          "base_uri": "https://localhost:8080/"
        },
        "id": "mu2onMYBPq56",
        "outputId": "4e447eee-c69b-45ff-8029-64ed34befcec"
      },
      "outputs": [
        {
          "output_type": "stream",
          "name": "stdout",
          "text": [
            "10.898922960964384\n"
          ]
        }
      ],
      "source": [
        "x=data[['Cement','Furnace_Slag','Fly_Ash','Water','Super_Plasticizer','Coarse_agg','Fine_agg','Age']]\n",
        "y=data.Cc_Strength\n",
        "x_train,x_test,y_train,y_test=train_test_split(x,y,random_state=1)\n",
        "lm1=LinearRegression()\n",
        "lm1.fit(x_train,y_train)\n",
        "y_pred=lm1.predict(x_test)\n",
        "print(np.sqrt(metrics.mean_squared_error(y_test,y_pred)))"
      ]
    },
    {
      "cell_type": "code",
      "execution_count": null,
      "metadata": {
        "colab": {
          "base_uri": "https://localhost:8080/"
        },
        "id": "xmFFzgoWQfih",
        "outputId": "9cecdaeb-b38a-4dfa-9e9b-b1e4b894ea17"
      },
      "outputs": [
        {
          "output_type": "execute_result",
          "data": {
            "text/plain": [
              "0.6155198704142723"
            ]
          },
          "metadata": {},
          "execution_count": 15
        }
      ],
      "source": [
        "lm.rsquared"
      ]
    },
    {
      "cell_type": "code",
      "execution_count": null,
      "metadata": {
        "colab": {
          "base_uri": "https://localhost:8080/"
        },
        "id": "-iJu88WrQjxh",
        "outputId": "5211a9b9-92c2-47a5-af80-9f23e6b4f0be"
      },
      "outputs": [
        {
          "output_type": "stream",
          "name": "stdout",
          "text": [
            "-31.917680633922835\n",
            "[ 0.12666577  0.10914132  0.09459018 -0.12819427  0.34888624  0.01908373\n",
            "  0.02111414  0.11685951]\n"
          ]
        }
      ],
      "source": [
        "print(lm1.intercept_)\n",
        "print(lm1.coef_)"
      ]
    },
    {
      "cell_type": "code",
      "execution_count": null,
      "metadata": {
        "colab": {
          "base_uri": "https://localhost:8080/"
        },
        "id": "jlNMmp-2Qn7g",
        "outputId": "55d8dd4b-876a-4534-d8b8-5147ee0ec136"
      },
      "outputs": [
        {
          "output_type": "execute_result",
          "data": {
            "text/plain": [
              "0.5546702293815022"
            ]
          },
          "metadata": {},
          "execution_count": 17
        }
      ],
      "source": [
        "lm1.score(x_test,y_test)"
      ]
    },
    {
      "cell_type": "code",
      "execution_count": null,
      "metadata": {
        "colab": {
          "base_uri": "https://localhost:8080/",
          "height": 636
        },
        "id": "cRtmAflAQr05",
        "outputId": "d2bc6e63-4201-45ce-cdbe-9f69515050d1"
      },
      "outputs": [
        {
          "output_type": "execute_result",
          "data": {
            "text/plain": [
              "<class 'statsmodels.iolib.summary.Summary'>\n",
              "\"\"\"\n",
              "                            OLS Regression Results                            \n",
              "==============================================================================\n",
              "Dep. Variable:            Cc_Strength   R-squared:                       0.616\n",
              "Model:                            OLS   Adj. R-squared:                  0.613\n",
              "Method:                 Least Squares   F-statistic:                     204.3\n",
              "Date:                Thu, 15 Dec 2022   Prob (F-statistic):          6.29e-206\n",
              "Time:                        10:40:41   Log-Likelihood:                -3869.0\n",
              "No. Observations:                1030   AIC:                             7756.\n",
              "Df Residuals:                    1021   BIC:                             7800.\n",
              "Df Model:                           8                                         \n",
              "Covariance Type:            nonrobust                                         \n",
              "=====================================================================================\n",
              "                        coef    std err          t      P>|t|      [0.025      0.975]\n",
              "-------------------------------------------------------------------------------------\n",
              "Intercept           -23.3312     26.586     -0.878      0.380     -75.500      28.837\n",
              "Cement                0.1198      0.008     14.113      0.000       0.103       0.136\n",
              "Furnace_Slag          0.1039      0.010     10.247      0.000       0.084       0.124\n",
              "Fly_Ash               0.0879      0.013      6.988      0.000       0.063       0.113\n",
              "Water                -0.1499      0.040     -3.731      0.000      -0.229      -0.071\n",
              "Super_Plasticizer     0.2922      0.093      3.128      0.002       0.109       0.476\n",
              "Coarse_agg            0.0181      0.009      1.926      0.054      -0.000       0.037\n",
              "Fine_agg              0.0202      0.011      1.887      0.059      -0.001       0.041\n",
              "Age                   0.1142      0.005     21.046      0.000       0.104       0.125\n",
              "==============================================================================\n",
              "Omnibus:                        5.378   Durbin-Watson:                   1.282\n",
              "Prob(Omnibus):                  0.068   Jarque-Bera (JB):                5.304\n",
              "Skew:                          -0.174   Prob(JB):                       0.0705\n",
              "Kurtosis:                       3.045   Cond. No.                     1.06e+05\n",
              "==============================================================================\n",
              "\n",
              "Notes:\n",
              "[1] Standard Errors assume that the covariance matrix of the errors is correctly specified.\n",
              "[2] The condition number is large, 1.06e+05. This might indicate that there are\n",
              "strong multicollinearity or other numerical problems.\n",
              "\"\"\""
            ],
            "text/html": [
              "<table class=\"simpletable\">\n",
              "<caption>OLS Regression Results</caption>\n",
              "<tr>\n",
              "  <th>Dep. Variable:</th>       <td>Cc_Strength</td>   <th>  R-squared:         </th> <td>   0.616</td> \n",
              "</tr>\n",
              "<tr>\n",
              "  <th>Model:</th>                   <td>OLS</td>       <th>  Adj. R-squared:    </th> <td>   0.613</td> \n",
              "</tr>\n",
              "<tr>\n",
              "  <th>Method:</th>             <td>Least Squares</td>  <th>  F-statistic:       </th> <td>   204.3</td> \n",
              "</tr>\n",
              "<tr>\n",
              "  <th>Date:</th>             <td>Thu, 15 Dec 2022</td> <th>  Prob (F-statistic):</th> <td>6.29e-206</td>\n",
              "</tr>\n",
              "<tr>\n",
              "  <th>Time:</th>                 <td>10:40:41</td>     <th>  Log-Likelihood:    </th> <td> -3869.0</td> \n",
              "</tr>\n",
              "<tr>\n",
              "  <th>No. Observations:</th>      <td>  1030</td>      <th>  AIC:               </th> <td>   7756.</td> \n",
              "</tr>\n",
              "<tr>\n",
              "  <th>Df Residuals:</th>          <td>  1021</td>      <th>  BIC:               </th> <td>   7800.</td> \n",
              "</tr>\n",
              "<tr>\n",
              "  <th>Df Model:</th>              <td>     8</td>      <th>                     </th>     <td> </td>    \n",
              "</tr>\n",
              "<tr>\n",
              "  <th>Covariance Type:</th>      <td>nonrobust</td>    <th>                     </th>     <td> </td>    \n",
              "</tr>\n",
              "</table>\n",
              "<table class=\"simpletable\">\n",
              "<tr>\n",
              "          <td></td>             <th>coef</th>     <th>std err</th>      <th>t</th>      <th>P>|t|</th>  <th>[0.025</th>    <th>0.975]</th>  \n",
              "</tr>\n",
              "<tr>\n",
              "  <th>Intercept</th>         <td>  -23.3312</td> <td>   26.586</td> <td>   -0.878</td> <td> 0.380</td> <td>  -75.500</td> <td>   28.837</td>\n",
              "</tr>\n",
              "<tr>\n",
              "  <th>Cement</th>            <td>    0.1198</td> <td>    0.008</td> <td>   14.113</td> <td> 0.000</td> <td>    0.103</td> <td>    0.136</td>\n",
              "</tr>\n",
              "<tr>\n",
              "  <th>Furnace_Slag</th>      <td>    0.1039</td> <td>    0.010</td> <td>   10.247</td> <td> 0.000</td> <td>    0.084</td> <td>    0.124</td>\n",
              "</tr>\n",
              "<tr>\n",
              "  <th>Fly_Ash</th>           <td>    0.0879</td> <td>    0.013</td> <td>    6.988</td> <td> 0.000</td> <td>    0.063</td> <td>    0.113</td>\n",
              "</tr>\n",
              "<tr>\n",
              "  <th>Water</th>             <td>   -0.1499</td> <td>    0.040</td> <td>   -3.731</td> <td> 0.000</td> <td>   -0.229</td> <td>   -0.071</td>\n",
              "</tr>\n",
              "<tr>\n",
              "  <th>Super_Plasticizer</th> <td>    0.2922</td> <td>    0.093</td> <td>    3.128</td> <td> 0.002</td> <td>    0.109</td> <td>    0.476</td>\n",
              "</tr>\n",
              "<tr>\n",
              "  <th>Coarse_agg</th>        <td>    0.0181</td> <td>    0.009</td> <td>    1.926</td> <td> 0.054</td> <td>   -0.000</td> <td>    0.037</td>\n",
              "</tr>\n",
              "<tr>\n",
              "  <th>Fine_agg</th>          <td>    0.0202</td> <td>    0.011</td> <td>    1.887</td> <td> 0.059</td> <td>   -0.001</td> <td>    0.041</td>\n",
              "</tr>\n",
              "<tr>\n",
              "  <th>Age</th>               <td>    0.1142</td> <td>    0.005</td> <td>   21.046</td> <td> 0.000</td> <td>    0.104</td> <td>    0.125</td>\n",
              "</tr>\n",
              "</table>\n",
              "<table class=\"simpletable\">\n",
              "<tr>\n",
              "  <th>Omnibus:</th>       <td> 5.378</td> <th>  Durbin-Watson:     </th> <td>   1.282</td>\n",
              "</tr>\n",
              "<tr>\n",
              "  <th>Prob(Omnibus):</th> <td> 0.068</td> <th>  Jarque-Bera (JB):  </th> <td>   5.304</td>\n",
              "</tr>\n",
              "<tr>\n",
              "  <th>Skew:</th>          <td>-0.174</td> <th>  Prob(JB):          </th> <td>  0.0705</td>\n",
              "</tr>\n",
              "<tr>\n",
              "  <th>Kurtosis:</th>      <td> 3.045</td> <th>  Cond. No.          </th> <td>1.06e+05</td>\n",
              "</tr>\n",
              "</table><br/><br/>Notes:<br/>[1] Standard Errors assume that the covariance matrix of the errors is correctly specified.<br/>[2] The condition number is large, 1.06e+05. This might indicate that there are<br/>strong multicollinearity or other numerical problems."
            ]
          },
          "metadata": {},
          "execution_count": 18
        }
      ],
      "source": [
        "lm.summary()"
      ]
    },
    {
      "cell_type": "code",
      "source": [
        "mae = metrics.mean_absolute_error(y_test,y_pred)\n",
        "print(mae)\n",
        "mse = metrics.mean_squared_error(y_test,y_pred)\n",
        "print(mse)"
      ],
      "metadata": {
        "colab": {
          "base_uri": "https://localhost:8080/"
        },
        "id": "K4z040KpX_px",
        "outputId": "7d22ba34-d08f-40a1-d111-5b1a04684a61"
      },
      "execution_count": null,
      "outputs": [
        {
          "output_type": "stream",
          "name": "stdout",
          "text": [
            "8.585446273200667\n",
            "118.78652170903666\n"
          ]
        }
      ]
    },
    {
      "cell_type": "markdown",
      "metadata": {
        "id": "dMn-5Dj59XOX"
      },
      "source": [
        "# **NEURAL NETWORK MODEL FITTING** 80:20 "
      ]
    },
    {
      "cell_type": "code",
      "execution_count": null,
      "metadata": {
        "colab": {
          "base_uri": "https://localhost:8080/"
        },
        "id": "prDb2rSHHTXO",
        "outputId": "0960ead6-3c3b-427f-aabb-0c880d88cd98"
      },
      "outputs": [
        {
          "output_type": "execute_result",
          "data": {
            "text/plain": [
              "31     52.91\n",
              "109    55.90\n",
              "136    74.50\n",
              "88     35.30\n",
              "918    10.54\n",
              "       ...  \n",
              "482    56.14\n",
              "545    18.75\n",
              "110    38.00\n",
              "514    74.36\n",
              "602    35.17\n",
              "Name: Cc_Strength, Length: 206, dtype: float64"
            ]
          },
          "metadata": {},
          "execution_count": 20
        }
      ],
      "source": [
        "from sklearn.model_selection import train_test_split\n",
        "x_train, x_test, y_train, y_test= train_test_split(x, y, test_size=0.2, random_state=42)\n",
        "y_test"
      ]
    },
    {
      "cell_type": "code",
      "execution_count": null,
      "metadata": {
        "id": "8J4skSdkHan2"
      },
      "outputs": [],
      "source": [
        "tf.random.set_seed(42)\n",
        "\n",
        "# STEP1: Creating the model\n",
        "\n",
        "model= tf.keras.Sequential([\n",
        "                            tf.keras.layers.Dense(8),\n",
        "                            tf.keras.layers.Dense(2),\n",
        "                            tf.keras.layers.Dense(3),\n",
        "                            tf.keras.layers.Dense(5),\n",
        "                            tf.keras.layers.Dense(1)\n",
        "])\n",
        "\n",
        "# STEP2: Compiling the model   # optimizer casn be SGD, Adam\n",
        "\n",
        "model.compile(loss= tf.keras.losses.mae,\n",
        "              optimizer= tf.keras.optimizers.Adam(),\n",
        "              metrics= [\"mae\"])\n",
        "\n",
        "# STEP3: Fit the model\n",
        "\n",
        "history= model.fit(x_train, y_train, epochs= 100, verbose=0)"
      ]
    },
    {
      "cell_type": "code",
      "execution_count": null,
      "metadata": {
        "colab": {
          "base_uri": "https://localhost:8080/"
        },
        "id": "mWznUeJtHgZF",
        "outputId": "0f6c88f0-6d27-419f-f74a-c68c412568dc"
      },
      "outputs": [
        {
          "output_type": "stream",
          "name": "stdout",
          "text": [
            "7/7 [==============================] - 0s 3ms/step - loss: 8.1872 - mae: 8.1872\n"
          ]
        },
        {
          "output_type": "execute_result",
          "data": {
            "text/plain": [
              "[8.187210083007812, 8.187210083007812]"
            ]
          },
          "metadata": {},
          "execution_count": 22
        }
      ],
      "source": [
        "model.evaluate(x_test, y_test)"
      ]
    },
    {
      "cell_type": "code",
      "execution_count": null,
      "metadata": {
        "colab": {
          "base_uri": "https://localhost:8080/",
          "height": 296
        },
        "id": "4WU7PiqiKtCr",
        "outputId": "e6ae9d46-bea7-4847-d15b-231e6c187552"
      },
      "outputs": [
        {
          "output_type": "execute_result",
          "data": {
            "text/plain": [
              "Text(0.5, 0, 'epochs')"
            ]
          },
          "metadata": {},
          "execution_count": 23
        },
        {
          "output_type": "display_data",
          "data": {
            "text/plain": [
              "<Figure size 432x288 with 1 Axes>"
            ],
            "image/png": "[encoded data removed]"
          },
          "metadata": {
            "needs_background": "light"
          }
        }
      ],
      "source": [
        "pd.DataFrame(history.history).plot()\n",
        "plt.ylabel(\"loss\")\n",
        "plt.xlabel(\"epochs\")"
      ]
    },
    {
      "cell_type": "code",
      "execution_count": null,
      "metadata": {
        "colab": {
          "base_uri": "https://localhost:8080/"
        },
        "id": "8hqeTZU2GUSp",
        "outputId": "2b03ba6c-36ff-4641-815d-b9222ebdbff5"
      },
      "outputs": [
        {
          "output_type": "execute_result",
          "data": {
            "text/plain": [
              "31     52.91\n",
              "109    55.90\n",
              "136    74.50\n",
              "88     35.30\n",
              "918    10.54\n",
              "       ...  \n",
              "482    56.14\n",
              "545    18.75\n",
              "110    38.00\n",
              "514    74.36\n",
              "602    35.17\n",
              "Name: Cc_Strength, Length: 206, dtype: float64"
            ]
          },
          "metadata": {},
          "execution_count": 24
        }
      ],
      "source": [
        "from sklearn.model_selection import train_test_split\n",
        "x_train, x_test, y_train, y_test= train_test_split(x, y, test_size=0.2, random_state=42)\n",
        "y_test"
      ]
    },
    {
      "cell_type": "code",
      "execution_count": null,
      "metadata": {
        "id": "hufELSeoGjEc"
      },
      "outputs": [],
      "source": [
        "tf.random.set_seed(42)\n",
        "\n",
        "# STEP1: Creating the model\n",
        "\n",
        "model= tf.keras.Sequential([\n",
        "                            tf.keras.layers.Dense(8),\n",
        "                            tf.keras.layers.Dense(8),\n",
        "                            tf.keras.layers.Dense(8),\n",
        "                            tf.keras.layers.Dense(5),\n",
        "                            tf.keras.layers.Dense(1)\n",
        "])\n",
        "\n",
        "# STEP2: Compiling the model   # optimizer casn be SGD, Adam\n",
        "\n",
        "model.compile(loss= tf.keras.losses.mae,\n",
        "              optimizer= tf.keras.optimizers.Adam(),\n",
        "              metrics= [\"mae\"])\n",
        "\n",
        "# STEP3: Fit the model\n",
        "\n",
        "history= model.fit(x_train, y_train, epochs= 150, verbose=0)"
      ]
    },
    {
      "cell_type": "code",
      "execution_count": null,
      "metadata": {
        "colab": {
          "base_uri": "https://localhost:8080/"
        },
        "id": "wWnu3LqCHWS7",
        "outputId": "312e26f2-d875-4c43-a0c3-da12efbfee31"
      },
      "outputs": [
        {
          "output_type": "stream",
          "name": "stdout",
          "text": [
            "7/7 [==============================] - 0s 3ms/step - loss: 8.1098 - mae: 8.1098\n"
          ]
        },
        {
          "output_type": "execute_result",
          "data": {
            "text/plain": [
              "[8.109818458557129, 8.109818458557129]"
            ]
          },
          "metadata": {},
          "execution_count": 26
        }
      ],
      "source": [
        "model.evaluate(x_test, y_test)"
      ]
    },
    {
      "cell_type": "code",
      "execution_count": null,
      "metadata": {
        "colab": {
          "base_uri": "https://localhost:8080/",
          "height": 296
        },
        "id": "krICwp_8Hiem",
        "outputId": "2b4eab7a-8e3d-4dfa-e6b4-245939956bbc"
      },
      "outputs": [
        {
          "output_type": "execute_result",
          "data": {
            "text/plain": [
              "Text(0.5, 0, 'epochs')"
            ]
          },
          "metadata": {},
          "execution_count": 27
        },
        {
          "output_type": "display_data",
          "data": {
            "text/plain": [
              "<Figure size 432x288 with 1 Axes>"
            ],
            "image/png": "[encoded data removed]"
          },
          "metadata": {
            "needs_background": "light"
          }
        }
      ],
      "source": [
        "pd.DataFrame(history.history).plot()\n",
        "plt.ylabel(\"loss\")\n",
        "plt.xlabel(\"epochs\")"
      ]
    },
    {
      "cell_type": "code",
      "execution_count": null,
      "metadata": {
        "colab": {
          "base_uri": "https://localhost:8080/"
        },
        "id": "CQtZiG7_Jf5N",
        "outputId": "187b4376-0567-4243-a0bf-c65c65a198e7"
      },
      "outputs": [
        {
          "output_type": "execute_result",
          "data": {
            "text/plain": [
              "31     52.91\n",
              "109    55.90\n",
              "136    74.50\n",
              "88     35.30\n",
              "918    10.54\n",
              "       ...  \n",
              "482    56.14\n",
              "545    18.75\n",
              "110    38.00\n",
              "514    74.36\n",
              "602    35.17\n",
              "Name: Cc_Strength, Length: 206, dtype: float64"
            ]
          },
          "metadata": {},
          "execution_count": 28
        }
      ],
      "source": [
        "from sklearn.model_selection import train_test_split\n",
        "x_train, x_test, y_train, y_test= train_test_split(x, y, test_size=0.2, random_state=42)\n",
        "y_test"
      ]
    },
    {
      "cell_type": "code",
      "execution_count": null,
      "metadata": {
        "id": "BSx3Mf2ZJ5yd"
      },
      "outputs": [],
      "source": [
        "tf.random.set_seed(42)\n",
        "\n",
        "# STEP1: Creating the model\n",
        "\n",
        "model= tf.keras.Sequential([\n",
        "                            tf.keras.layers.Dense(8),\n",
        "                            tf.keras.layers.Dense(8),\n",
        "                            tf.keras.layers.Dense(4),\n",
        "                            tf.keras.layers.Dense(5),\n",
        "                            tf.keras.layers.Dense(1)\n",
        "])\n",
        "\n",
        "# STEP2: Compiling the model   # optimizer casn be SGD, Adam\n",
        "\n",
        "model.compile(loss= tf.keras.losses.mae,\n",
        "              optimizer= tf.keras.optimizers.Adam(),\n",
        "              metrics= [\"mae\"])\n",
        "\n",
        "# STEP3: Fit the model\n",
        "history= model.fit(x_train, y_train, epochs= 120, verbose=0)"
      ]
    },
    {
      "cell_type": "code",
      "execution_count": null,
      "metadata": {
        "colab": {
          "base_uri": "https://localhost:8080/"
        },
        "id": "4ZJ4TkqvKRQZ",
        "outputId": "72656f58-af7a-4052-9467-b12c0a4f80b7"
      },
      "outputs": [
        {
          "output_type": "stream",
          "name": "stdout",
          "text": [
            "7/7 [==============================] - 0s 2ms/step - loss: 8.9919 - mae: 8.9919\n"
          ]
        },
        {
          "output_type": "execute_result",
          "data": {
            "text/plain": [
              "[8.991905212402344, 8.991905212402344]"
            ]
          },
          "metadata": {},
          "execution_count": 30
        }
      ],
      "source": [
        "model.evaluate(x_test, y_test)"
      ]
    },
    {
      "cell_type": "code",
      "execution_count": null,
      "metadata": {
        "colab": {
          "base_uri": "https://localhost:8080/",
          "height": 297
        },
        "id": "s0oWowD6Kjbx",
        "outputId": "e0116a50-57d5-40af-8886-82d4810f2bc2"
      },
      "outputs": [
        {
          "output_type": "execute_result",
          "data": {
            "text/plain": [
              "Text(0.5, 0, 'epochs')"
            ]
          },
          "metadata": {},
          "execution_count": 31
        },
        {
          "output_type": "display_data",
          "data": {
            "text/plain": [
              "<Figure size 432x288 with 1 Axes>"
            ],
            "image/png": "[encoded data removed]"
          },
          "metadata": {
            "needs_background": "light"
          }
        }
      ],
      "source": [
        "pd.DataFrame(history.history).plot()\n",
        "plt.ylabel(\"loss\")\n",
        "plt.xlabel(\"epochs\")"
      ]
    },
    {
      "cell_type": "markdown",
      "source": [
        "# **NEURAL NETWORK** 70:30"
      ],
      "metadata": {
        "id": "1Krj30NRiezV"
      }
    },
    {
      "cell_type": "code",
      "source": [
        "from sklearn.model_selection import train_test_split\n",
        "x_train, x_test, y_train, y_test= train_test_split(x, y, test_size=0.3, random_state=42)\n",
        "y_test"
      ],
      "metadata": {
        "colab": {
          "base_uri": "https://localhost:8080/"
        },
        "id": "bzxtedJDgSVr",
        "outputId": "9ef774a0-44e6-491c-8ec7-8f765c02ccb7"
      },
      "execution_count": null,
      "outputs": [
        {
          "output_type": "execute_result",
          "data": {
            "text/plain": [
              "31     52.91\n",
              "109    55.90\n",
              "136    74.50\n",
              "88     35.30\n",
              "918    10.54\n",
              "       ...  \n",
              "250    24.92\n",
              "377    36.30\n",
              "615    32.33\n",
              "9      39.29\n",
              "357    66.82\n",
              "Name: Cc_Strength, Length: 309, dtype: float64"
            ]
          },
          "metadata": {},
          "execution_count": 32
        }
      ]
    },
    {
      "cell_type": "code",
      "source": [
        "tf.random.set_seed(42)\n",
        "\n",
        "# STEP1: Creating the model\n",
        "\n",
        "model= tf.keras.Sequential([\n",
        "                            tf.keras.layers.Dense(8),\n",
        "                            tf.keras.layers.Dense(6),\n",
        "                            tf.keras.layers.Dense(4),\n",
        "                            tf.keras.layers.Dense(2),\n",
        "                            tf.keras.layers.Dense(1)\n",
        "])\n",
        "\n",
        "# STEP2: Compiling the model   # optimizer casn be SGD, Adam\n",
        "\n",
        "model.compile(loss= tf.keras.losses.mae,\n",
        "              optimizer= tf.keras.optimizers.Adam(),\n",
        "              metrics= [\"mae\"])\n",
        "\n",
        "# STEP3: Fit the model\n",
        "history= model.fit(x_train, y_train, epochs= 100, verbose=0)"
      ],
      "metadata": {
        "id": "Rr-gxgqSg53a"
      },
      "execution_count": null,
      "outputs": []
    },
    {
      "cell_type": "code",
      "source": [
        "model.evaluate(x_test, y_test)"
      ],
      "metadata": {
        "colab": {
          "base_uri": "https://localhost:8080/"
        },
        "id": "XDrCVWw3hMdi",
        "outputId": "2154fa18-d43f-4a44-de41-7eed5208fa46"
      },
      "execution_count": null,
      "outputs": [
        {
          "output_type": "stream",
          "name": "stdout",
          "text": [
            "10/10 [==============================] - 0s 2ms/step - loss: 8.8493 - mae: 8.8493\n"
          ]
        },
        {
          "output_type": "execute_result",
          "data": {
            "text/plain": [
              "[8.849311828613281, 8.849311828613281]"
            ]
          },
          "metadata": {},
          "execution_count": 34
        }
      ]
    },
    {
      "cell_type": "code",
      "source": [
        "pd.DataFrame(history.history).plot()\n",
        "plt.ylabel(\"loss\")\n",
        "plt.xlabel(\"epochs\")"
      ],
      "metadata": {
        "colab": {
          "base_uri": "https://localhost:8080/",
          "height": 296
        },
        "id": "VLx6R9CChRDr",
        "outputId": "73e5f63c-79b2-41ea-9858-121899c014ed"
      },
      "execution_count": null,
      "outputs": [
        {
          "output_type": "execute_result",
          "data": {
            "text/plain": [
              "Text(0.5, 0, 'epochs')"
            ]
          },
          "metadata": {},
          "execution_count": 35
        },
        {
          "output_type": "display_data",
          "data": {
            "text/plain": [
              "<Figure size 432x288 with 1 Axes>"
            ],
            "image/png": "[encoded data removed]"
          },
          "metadata": {
            "needs_background": "light"
          }
        }
      ]
    },
    {
      "cell_type": "code",
      "execution_count": null,
      "metadata": {
        "colab": {
          "base_uri": "https://localhost:8080/"
        },
        "id": "lOHsvPxBNnh9",
        "outputId": "74117492-f570-4967-ab8f-45b8931e4a39"
      },
      "outputs": [
        {
          "output_type": "execute_result",
          "data": {
            "text/plain": [
              "31     52.91\n",
              "109    55.90\n",
              "136    74.50\n",
              "88     35.30\n",
              "918    10.54\n",
              "       ...  \n",
              "250    24.92\n",
              "377    36.30\n",
              "615    32.33\n",
              "9      39.29\n",
              "357    66.82\n",
              "Name: Cc_Strength, Length: 309, dtype: float64"
            ]
          },
          "metadata": {},
          "execution_count": 36
        }
      ],
      "source": [
        "from sklearn.model_selection import train_test_split\n",
        "x_train, x_test, y_train, y_test= train_test_split(x, y, test_size=0.3, random_state=42)\n",
        "y_test"
      ]
    },
    {
      "cell_type": "code",
      "execution_count": null,
      "metadata": {
        "id": "QokPiqYsMgOw"
      },
      "outputs": [],
      "source": [
        "tf.random.set_seed(42)\n",
        "\n",
        "# STEP1: Creating the model\n",
        "\n",
        "model= tf.keras.Sequential([\n",
        "                            tf.keras.layers.Dense(8),\n",
        "                            tf.keras.layers.Dense(8),\n",
        "                            tf.keras.layers.Dense(8),\n",
        "                            tf.keras.layers.Dense(5),\n",
        "                            tf.keras.layers.Dense(1)\n",
        "])\n",
        "\n",
        "# STEP2: Compiling the model   # optimizer casn be SGD, Adam\n",
        "\n",
        "model.compile(loss= tf.keras.losses.mae,\n",
        "              optimizer= tf.keras.optimizers.Adam(),\n",
        "              metrics= [\"mae\"])\n",
        "\n",
        "# STEP3: Fit the model\n",
        "history= model.fit(x_train, y_train, epochs= 120, verbose=0)"
      ]
    },
    {
      "cell_type": "code",
      "execution_count": null,
      "metadata": {
        "colab": {
          "base_uri": "https://localhost:8080/"
        },
        "id": "mekf5CUcOGVd",
        "outputId": "b536d2e0-9f2b-41a1-904e-4c59968dccf7"
      },
      "outputs": [
        {
          "output_type": "stream",
          "name": "stdout",
          "text": [
            "10/10 [==============================] - 0s 2ms/step - loss: 9.0958 - mae: 9.0958\n"
          ]
        },
        {
          "output_type": "execute_result",
          "data": {
            "text/plain": [
              "[9.095842361450195, 9.095842361450195]"
            ]
          },
          "metadata": {},
          "execution_count": 38
        }
      ],
      "source": [
        "model.evaluate(x_test, y_test)"
      ]
    },
    {
      "cell_type": "code",
      "execution_count": null,
      "metadata": {
        "colab": {
          "base_uri": "https://localhost:8080/",
          "height": 296
        },
        "id": "nGmGz23gOQV7",
        "outputId": "588cb738-4d6d-40c3-d6a6-b50bec8d16b8"
      },
      "outputs": [
        {
          "output_type": "execute_result",
          "data": {
            "text/plain": [
              "Text(0.5, 0, 'epochs')"
            ]
          },
          "metadata": {},
          "execution_count": 39
        },
        {
          "output_type": "display_data",
          "data": {
            "text/plain": [
              "<Figure size 432x288 with 1 Axes>"
            ],
            "image/png": "[encoded data removed]"
          },
          "metadata": {
            "needs_background": "light"
          }
        }
      ],
      "source": [
        "pd.DataFrame(history.history).plot()\n",
        "plt.ylabel(\"loss\")\n",
        "plt.xlabel(\"epochs\")"
      ]
    },
    {
      "cell_type": "code",
      "execution_count": null,
      "metadata": {
        "colab": {
          "base_uri": "https://localhost:8080/"
        },
        "id": "iIfSLA7NOjGV",
        "outputId": "3b8fd131-58f5-494e-aab0-57f56d29b0e7"
      },
      "outputs": [
        {
          "output_type": "execute_result",
          "data": {
            "text/plain": [
              "31     52.91\n",
              "109    55.90\n",
              "136    74.50\n",
              "88     35.30\n",
              "918    10.54\n",
              "       ...  \n",
              "250    24.92\n",
              "377    36.30\n",
              "615    32.33\n",
              "9      39.29\n",
              "357    66.82\n",
              "Name: Cc_Strength, Length: 309, dtype: float64"
            ]
          },
          "metadata": {},
          "execution_count": 40
        }
      ],
      "source": [
        "from sklearn.model_selection import train_test_split\n",
        "x_train, x_test, y_train, y_test= train_test_split(x, y, test_size=0.3, random_state=42)\n",
        "y_test"
      ]
    },
    {
      "cell_type": "code",
      "execution_count": null,
      "metadata": {
        "id": "k3ERthu5OvoW"
      },
      "outputs": [],
      "source": [
        "tf.random.set_seed(42)\n",
        "# STEP1: Creating the model\n",
        "\n",
        "model= tf.keras.Sequential([\n",
        "                            tf.keras.layers.Dense(8),\n",
        "                            tf.keras.layers.Dense(7),\n",
        "                            tf.keras.layers.Dense(2),\n",
        "                            tf.keras.layers.Dense(5),\n",
        "                            tf.keras.layers.Dense(1)\n",
        "])\n",
        "\n",
        "# STEP2: Compiling the model   # optimizer casn be SGD, Adam\n",
        "\n",
        "model.compile(loss= tf.keras.losses.mae,\n",
        "              optimizer= tf.keras.optimizers.Adam(),\n",
        "              metrics= [\"mae\"])\n",
        "\n",
        "# STEP3: Fit the model\n",
        "history= model.fit(x_train, y_train, epochs= 90, verbose=0)"
      ]
    },
    {
      "cell_type": "code",
      "execution_count": null,
      "metadata": {
        "colab": {
          "base_uri": "https://localhost:8080/"
        },
        "id": "tBBS29QWPFp0",
        "outputId": "deec9c31-d4cd-4d30-900e-319e63471aff"
      },
      "outputs": [
        {
          "output_type": "stream",
          "name": "stdout",
          "text": [
            "10/10 [==============================] - 0s 2ms/step - loss: 9.4041 - mae: 9.4041\n"
          ]
        },
        {
          "output_type": "execute_result",
          "data": {
            "text/plain": [
              "[9.4041109085083, 9.4041109085083]"
            ]
          },
          "metadata": {},
          "execution_count": 42
        }
      ],
      "source": [
        "model.evaluate(x_test, y_test)"
      ]
    },
    {
      "cell_type": "code",
      "execution_count": null,
      "metadata": {
        "colab": {
          "base_uri": "https://localhost:8080/",
          "height": 296
        },
        "id": "U-PjWboFPJmJ",
        "outputId": "54d349af-200d-4296-9c23-f804d1838f18"
      },
      "outputs": [
        {
          "output_type": "execute_result",
          "data": {
            "text/plain": [
              "Text(0.5, 0, 'epochs')"
            ]
          },
          "metadata": {},
          "execution_count": 43
        },
        {
          "output_type": "display_data",
          "data": {
            "text/plain": [
              "<Figure size 432x288 with 1 Axes>"
            ],
            "image/png": "[encoded data removed]"
          },
          "metadata": {
            "needs_background": "light"
          }
        }
      ],
      "source": [
        "pd.DataFrame(history.history).plot()\n",
        "plt.ylabel(\"loss\")\n",
        "plt.xlabel(\"epochs\")"
      ]
    },
    {
      "cell_type": "code",
      "execution_count": null,
      "metadata": {
        "colab": {
          "base_uri": "https://localhost:8080/"
        },
        "id": "G3qAifzKPaTb",
        "outputId": "7b8c3823-1bb3-4366-dda2-75e53ec7ca93"
      },
      "outputs": [
        {
          "output_type": "execute_result",
          "data": {
            "text/plain": [
              "31     52.91\n",
              "109    55.90\n",
              "136    74.50\n",
              "88     35.30\n",
              "918    10.54\n",
              "       ...  \n",
              "250    24.92\n",
              "377    36.30\n",
              "615    32.33\n",
              "9      39.29\n",
              "357    66.82\n",
              "Name: Cc_Strength, Length: 309, dtype: float64"
            ]
          },
          "metadata": {},
          "execution_count": 44
        }
      ],
      "source": [
        "from sklearn.model_selection import train_test_split\n",
        "x_train, x_test, y_train, y_test= train_test_split(x, y, test_size=0.3, random_state=42)\n",
        "y_test"
      ]
    },
    {
      "cell_type": "code",
      "execution_count": null,
      "metadata": {
        "id": "rUzf3xcgPn0l"
      },
      "outputs": [],
      "source": [
        "tf.random.set_seed(42)\n",
        "# STEP1: Creating the model\n",
        "\n",
        "model= tf.keras.Sequential([\n",
        "                            tf.keras.layers.Dense(8),\n",
        "                            tf.keras.layers.Dense(5),\n",
        "                            tf.keras.layers.Dense(8),\n",
        "                            tf.keras.layers.Dense(4),\n",
        "                            tf.keras.layers.Dense(1)\n",
        "])\n",
        "\n",
        "# STEP2: Compiling the model   # optimizer casn be SGD, Adam\n",
        "\n",
        "model.compile(loss= tf.keras.losses.mae,\n",
        "              optimizer= tf.keras.optimizers.Adam(),\n",
        "              metrics= [\"mae\"])\n",
        "\n",
        "# STEP3: Fit the model\n",
        "history= model.fit(x_train, y_train, epochs= 30, verbose=0)"
      ]
    },
    {
      "cell_type": "code",
      "execution_count": null,
      "metadata": {
        "colab": {
          "base_uri": "https://localhost:8080/"
        },
        "id": "AUPZEJYIlda8",
        "outputId": "31f9c7d4-7ae4-49fb-e278-25b7c8fe4ddd"
      },
      "outputs": [
        {
          "output_type": "stream",
          "name": "stdout",
          "text": [
            "10/10 [==============================] - 0s 2ms/step - loss: 8.6334 - mae: 8.6334\n"
          ]
        },
        {
          "output_type": "execute_result",
          "data": {
            "text/plain": [
              "[8.633360862731934, 8.633360862731934]"
            ]
          },
          "metadata": {},
          "execution_count": 46
        }
      ],
      "source": [
        "model.evaluate(x_test, y_test)"
      ]
    },
    {
      "cell_type": "code",
      "execution_count": null,
      "metadata": {
        "colab": {
          "base_uri": "https://localhost:8080/",
          "height": 296
        },
        "id": "JLBtQj_Yl5fo",
        "outputId": "b5c8716e-83dd-462f-eb17-67dab0890054"
      },
      "outputs": [
        {
          "output_type": "execute_result",
          "data": {
            "text/plain": [
              "Text(0.5, 0, 'epochs')"
            ]
          },
          "metadata": {},
          "execution_count": 47
        },
        {
          "output_type": "display_data",
          "data": {
            "text/plain": [
              "<Figure size 432x288 with 1 Axes>"
            ],
            "image/png": "[encoded data removed]"
          },
          "metadata": {
            "needs_background": "light"
          }
        }
      ],
      "source": [
        "pd.DataFrame(history.history).plot()\n",
        "plt.ylabel(\"loss\")\n",
        "plt.xlabel(\"epochs\")"
      ]
    },
    {
      "cell_type": "code",
      "execution_count": null,
      "metadata": {
        "colab": {
          "base_uri": "https://localhost:8080/"
        },
        "id": "-W1IjLNR8MO7",
        "outputId": "8441d4b1-2b62-4fa2-c144-eef2bda4c319"
      },
      "outputs": [
        {
          "output_type": "execute_result",
          "data": {
            "text/plain": [
              "31     52.91\n",
              "109    55.90\n",
              "136    74.50\n",
              "88     35.30\n",
              "918    10.54\n",
              "       ...  \n",
              "250    24.92\n",
              "377    36.30\n",
              "615    32.33\n",
              "9      39.29\n",
              "357    66.82\n",
              "Name: Cc_Strength, Length: 309, dtype: float64"
            ]
          },
          "metadata": {},
          "execution_count": 48
        }
      ],
      "source": [
        "from sklearn.model_selection import train_test_split\n",
        "x_train, x_test, y_train, y_test= train_test_split(x, y, test_size=0.3, random_state=42)\n",
        "y_test"
      ]
    },
    {
      "cell_type": "code",
      "execution_count": null,
      "metadata": {
        "id": "WWS4l4Eg8Jnw"
      },
      "outputs": [],
      "source": [
        "tf.random.set_seed(42)\n",
        "\n",
        "# STEP1: Creating the model\n",
        "\n",
        "model= tf.keras.Sequential([\n",
        "                            tf.keras.layers.Dense(8),\n",
        "                            tf.keras.layers.Dense(3),\n",
        "                            tf.keras.layers.Dense(5),\n",
        "                            tf.keras.layers.Dense(6),\n",
        "                            tf.keras.layers.Dense(1)\n",
        "])\n",
        "\n",
        "# STEP2: Compiling the model   # optimizer casn be SGD, Adam\n",
        "\n",
        "model.compile(loss= tf.keras.losses.mae,\n",
        "              optimizer= tf.keras.optimizers.Adam(),\n",
        "              metrics= [\"mae\"])\n",
        "\n",
        "# STEP3: Fit the model\n",
        "\n",
        "history= model.fit(x_train, y_train, epochs= 35, verbose=0)"
      ]
    },
    {
      "cell_type": "code",
      "execution_count": null,
      "metadata": {
        "colab": {
          "base_uri": "https://localhost:8080/"
        },
        "id": "1P3JJSyS-cr8",
        "outputId": "24682216-2bb9-433e-b010-80f90f485437"
      },
      "outputs": [
        {
          "output_type": "stream",
          "name": "stdout",
          "text": [
            "10/10 [==============================] - 0s 2ms/step - loss: 8.6158 - mae: 8.6158\n"
          ]
        },
        {
          "output_type": "execute_result",
          "data": {
            "text/plain": [
              "[8.615785598754883, 8.615785598754883]"
            ]
          },
          "metadata": {},
          "execution_count": 50
        }
      ],
      "source": [
        "model.evaluate(x_test, y_test)"
      ]
    },
    {
      "cell_type": "code",
      "execution_count": null,
      "metadata": {
        "colab": {
          "base_uri": "https://localhost:8080/",
          "height": 299
        },
        "id": "3oqyl5X2-x6S",
        "outputId": "a1bb7910-b46a-4781-f829-bfaf3f7c86d4"
      },
      "outputs": [
        {
          "output_type": "execute_result",
          "data": {
            "text/plain": [
              "Text(0.5, 0, 'epochs')"
            ]
          },
          "metadata": {},
          "execution_count": 51
        },
        {
          "output_type": "display_data",
          "data": {
            "text/plain": [
              "<Figure size 432x288 with 1 Axes>"
            ],
            "image/png": "[encoded data removed]"
          },
          "metadata": {
            "needs_background": "light"
          }
        }
      ],
      "source": [
        "pd.DataFrame(history.history).plot()\n",
        "plt.ylabel(\"loss\")\n",
        "plt.xlabel(\"epochs\")"
      ]
    },
    {
      "cell_type": "markdown",
      "source": [
        "# **NEURAL NETWORK** 60:40"
      ],
      "metadata": {
        "id": "UB5jyfm3jbJ1"
      }
    },
    {
      "cell_type": "code",
      "execution_count": null,
      "metadata": {
        "colab": {
          "base_uri": "https://localhost:8080/"
        },
        "id": "z-j7lNCFqKJG",
        "outputId": "aa08f34c-e1fd-4836-9559-d30fb28fc5cf"
      },
      "outputs": [
        {
          "output_type": "execute_result",
          "data": {
            "text/plain": [
              "31     52.91\n",
              "109    55.90\n",
              "136    74.50\n",
              "88     35.30\n",
              "918    10.54\n",
              "       ...  \n",
              "429    29.59\n",
              "665    11.39\n",
              "986    37.17\n",
              "169    65.20\n",
              "525    25.12\n",
              "Name: Cc_Strength, Length: 412, dtype: float64"
            ]
          },
          "metadata": {},
          "execution_count": 52
        }
      ],
      "source": [
        "from sklearn.model_selection import train_test_split\n",
        "x_train, x_test, y_train, y_test= train_test_split(x, y, test_size=0.4, random_state=42)\n",
        "y_test"
      ]
    },
    {
      "cell_type": "code",
      "execution_count": null,
      "metadata": {
        "id": "9nyTmdf9qWab"
      },
      "outputs": [],
      "source": [
        "tf.random.set_seed(42)\n",
        "\n",
        "# STEP1: Creating the model\n",
        "\n",
        "model= tf.keras.Sequential([\n",
        "                            tf.keras.layers.Dense(8),\n",
        "                            tf.keras.layers.Dense(3),\n",
        "                            tf.keras.layers.Dense(4),\n",
        "                            tf.keras.layers.Dense(7),\n",
        "                            tf.keras.layers.Dense(1)\n",
        "])\n",
        "\n",
        "# STEP2: Compiling the model   # optimizer casn be SGD, Adam\n",
        "\n",
        "model.compile(loss= tf.keras.losses.mae,\n",
        "              optimizer= tf.keras.optimizers.Adam(),\n",
        "              metrics= [\"mae\"])\n",
        "\n",
        "# STEP3: Fit the model\n",
        "\n",
        "history= model.fit(x_train, y_train, epochs= 55, verbose=0)"
      ]
    },
    {
      "cell_type": "code",
      "execution_count": null,
      "metadata": {
        "colab": {
          "base_uri": "https://localhost:8080/"
        },
        "id": "wFKETetQq1BT",
        "outputId": "4bfe5534-a6e9-4111-c6d3-933b6f4c8044"
      },
      "outputs": [
        {
          "output_type": "stream",
          "name": "stdout",
          "text": [
            "13/13 [==============================] - 0s 2ms/step - loss: 8.7224 - mae: 8.7224\n"
          ]
        },
        {
          "output_type": "execute_result",
          "data": {
            "text/plain": [
              "[8.722375869750977, 8.722375869750977]"
            ]
          },
          "metadata": {},
          "execution_count": 54
        }
      ],
      "source": [
        "model.evaluate(x_test, y_test)"
      ]
    },
    {
      "cell_type": "code",
      "execution_count": null,
      "metadata": {
        "colab": {
          "base_uri": "https://localhost:8080/",
          "height": 296
        },
        "id": "Qf1tjLF2rQS4",
        "outputId": "7368f0eb-24d9-44eb-d04b-a4a0fd429958"
      },
      "outputs": [
        {
          "output_type": "execute_result",
          "data": {
            "text/plain": [
              "Text(0.5, 0, 'epochs')"
            ]
          },
          "metadata": {},
          "execution_count": 55
        },
        {
          "output_type": "display_data",
          "data": {
            "text/plain": [
              "<Figure size 432x288 with 1 Axes>"
            ],
            "image/png": "[encoded data removed]"
          },
          "metadata": {
            "needs_background": "light"
          }
        }
      ],
      "source": [
        "pd.DataFrame(history.history).plot()\n",
        "plt.ylabel(\"loss\")\n",
        "plt.xlabel(\"epochs\")"
      ]
    },
    {
      "cell_type": "code",
      "execution_count": null,
      "metadata": {
        "colab": {
          "base_uri": "https://localhost:8080/"
        },
        "id": "-cSuEJYB258T",
        "outputId": "5e42ec2e-d1c8-4265-bfa2-971267192f66"
      },
      "outputs": [
        {
          "output_type": "execute_result",
          "data": {
            "text/plain": [
              "31     52.91\n",
              "109    55.90\n",
              "136    74.50\n",
              "88     35.30\n",
              "918    10.54\n",
              "       ...  \n",
              "429    29.59\n",
              "665    11.39\n",
              "986    37.17\n",
              "169    65.20\n",
              "525    25.12\n",
              "Name: Cc_Strength, Length: 412, dtype: float64"
            ]
          },
          "metadata": {},
          "execution_count": 56
        }
      ],
      "source": [
        "from sklearn.model_selection import train_test_split\n",
        "x_train, x_test, y_train, y_test= train_test_split(x, y, test_size=0.4, random_state=42)\n",
        "y_test"
      ]
    },
    {
      "cell_type": "code",
      "execution_count": null,
      "metadata": {
        "id": "k7rQbwtD3N6M"
      },
      "outputs": [],
      "source": [
        "tf.random.set_seed(42)\n",
        "\n",
        "# STEP1: Creating the model\n",
        "\n",
        "model= tf.keras.Sequential([\n",
        "                            tf.keras.layers.Dense(8),\n",
        "                            tf.keras.layers.Dense(2),\n",
        "                            tf.keras.layers.Dense(8),\n",
        "                            tf.keras.layers.Dense(5),\n",
        "                            tf.keras.layers.Dense(1)\n",
        "])\n",
        "\n",
        "# STEP2: Compiling the model   # optimizer casn be SGD, Adam\n",
        "\n",
        "model.compile(loss= tf.keras.losses.mae,\n",
        "              optimizer= tf.keras.optimizers.Adam(),\n",
        "              metrics= [\"mae\"])\n",
        "\n",
        "# STEP3: Fit the model\n",
        "\n",
        "history= model.fit(x_train, y_train, epochs= 735, verbose=0)"
      ]
    },
    {
      "cell_type": "code",
      "execution_count": null,
      "metadata": {
        "colab": {
          "base_uri": "https://localhost:8080/"
        },
        "id": "tcGK4Cva3kX7",
        "outputId": "4533b50a-a53b-4473-b08f-9794aaffa6dc"
      },
      "outputs": [
        {
          "output_type": "stream",
          "name": "stdout",
          "text": [
            "13/13 [==============================] - 0s 2ms/step - loss: 8.6123 - mae: 8.6123\n"
          ]
        },
        {
          "output_type": "execute_result",
          "data": {
            "text/plain": [
              "[8.612344741821289, 8.612344741821289]"
            ]
          },
          "metadata": {},
          "execution_count": 58
        }
      ],
      "source": [
        "model.evaluate(x_test, y_test)"
      ]
    },
    {
      "cell_type": "code",
      "execution_count": null,
      "metadata": {
        "colab": {
          "base_uri": "https://localhost:8080/",
          "height": 296
        },
        "id": "5lhGxFrp3wHC",
        "outputId": "223c52af-559c-43b9-8e7a-9d19a065645b"
      },
      "outputs": [
        {
          "output_type": "execute_result",
          "data": {
            "text/plain": [
              "Text(0.5, 0, 'epochs')"
            ]
          },
          "metadata": {},
          "execution_count": 59
        },
        {
          "output_type": "display_data",
          "data": {
            "text/plain": [
              "<Figure size 432x288 with 1 Axes>"
            ],
            "image/png": "[encoded data removed]"
          },
          "metadata": {
            "needs_background": "light"
          }
        }
      ],
      "source": [
        "pd.DataFrame(history.history).plot()\n",
        "plt.ylabel(\"loss\")\n",
        "plt.xlabel(\"epochs\")"
      ]
    },
    {
      "cell_type": "code",
      "source": [
        "model.summary();"
      ],
      "metadata": {
        "id": "yh5S18SjNCNJ",
        "outputId": "f4e43359-6903-452e-fcda-661530053b28",
        "colab": {
          "base_uri": "https://localhost:8080/"
        }
      },
      "execution_count": null,
      "outputs": [
        {
          "output_type": "stream",
          "name": "stdout",
          "text": [
            "Model: \"sequential_9\"\n",
            "_________________________________________________________________\n",
            " Layer (type)                Output Shape              Param #   \n",
            "=================================================================\n",
            " dense_45 (Dense)            (None, 8)                 72        \n",
            "                                                                 \n",
            " dense_46 (Dense)            (None, 2)                 18        \n",
            "                                                                 \n",
            " dense_47 (Dense)            (None, 8)                 24        \n",
            "                                                                 \n",
            " dense_48 (Dense)            (None, 5)                 45        \n",
            "                                                                 \n",
            " dense_49 (Dense)            (None, 1)                 6         \n",
            "                                                                 \n",
            "=================================================================\n",
            "Total params: 165\n",
            "Trainable params: 165\n",
            "Non-trainable params: 0\n",
            "_________________________________________________________________\n"
          ]
        }
      ]
    },
    {
      "cell_type": "code",
      "execution_count": null,
      "metadata": {
        "colab": {
          "base_uri": "https://localhost:8080/"
        },
        "id": "xoOuNAngB4f3",
        "outputId": "bc3654ec-a531-4e56-b0b9-e65dcf40fef8"
      },
      "outputs": [
        {
          "output_type": "execute_result",
          "data": {
            "text/plain": [
              "31     52.91\n",
              "109    55.90\n",
              "136    74.50\n",
              "88     35.30\n",
              "918    10.54\n",
              "       ...  \n",
              "429    29.59\n",
              "665    11.39\n",
              "986    37.17\n",
              "169    65.20\n",
              "525    25.12\n",
              "Name: Cc_Strength, Length: 412, dtype: float64"
            ]
          },
          "metadata": {},
          "execution_count": 61
        }
      ],
      "source": [
        "from sklearn.model_selection import train_test_split\n",
        "x_train, x_test, y_train, y_test= train_test_split(x, y, test_size=0.4, random_state=42)\n",
        "y_test"
      ]
    },
    {
      "cell_type": "code",
      "execution_count": null,
      "metadata": {
        "id": "l9AIkx2_CmWe"
      },
      "outputs": [],
      "source": [
        "tf.random.set_seed(42)\n",
        "\n",
        "# STEP1: Creating the model\n",
        "\n",
        "model= tf.keras.Sequential([\n",
        "                            tf.keras.layers.Dense(8),\n",
        "                            tf.keras.layers.Dense(3),\n",
        "                            tf.keras.layers.Dense(5),\n",
        "                            tf.keras.layers.Dense(6),\n",
        "                            tf.keras.layers.Dense(1)\n",
        "])\n",
        "\n",
        "# STEP2: Compiling the model   # optimizer casn be SGD, Adam\n",
        "\n",
        "model.compile(loss= tf.keras.losses.mae,\n",
        "              optimizer= tf.keras.optimizers.Adam(),\n",
        "              metrics= [\"mae\"])\n",
        "\n",
        "# STEP3: Fit the model\n",
        "\n",
        "history= model.fit(x_train, y_train, epochs= 70, verbose=0)"
      ]
    },
    {
      "cell_type": "code",
      "execution_count": null,
      "metadata": {
        "colab": {
          "base_uri": "https://localhost:8080/"
        },
        "id": "IEJj3zQPCkvw",
        "outputId": "626c468f-8128-4764-eecd-834663d90fa8"
      },
      "outputs": [
        {
          "output_type": "stream",
          "name": "stdout",
          "text": [
            "13/13 [==============================] - 0s 2ms/step - loss: 8.4391 - mae: 8.4391\n"
          ]
        },
        {
          "output_type": "execute_result",
          "data": {
            "text/plain": [
              "[8.439092636108398, 8.439092636108398]"
            ]
          },
          "metadata": {},
          "execution_count": 63
        }
      ],
      "source": [
        "model.evaluate(x_test, y_test)"
      ]
    },
    {
      "cell_type": "code",
      "execution_count": null,
      "metadata": {
        "colab": {
          "base_uri": "https://localhost:8080/",
          "height": 296
        },
        "id": "Qb5lOl48DgAl",
        "outputId": "fdacb7e7-d2bf-4f40-ee45-5ab2c690e0c3"
      },
      "outputs": [
        {
          "output_type": "execute_result",
          "data": {
            "text/plain": [
              "Text(0.5, 0, 'epochs')"
            ]
          },
          "metadata": {},
          "execution_count": 64
        },
        {
          "output_type": "display_data",
          "data": {
            "text/plain": [
              "<Figure size 432x288 with 1 Axes>"
            ],
            "image/png": "[encoded data removed]"
          },
          "metadata": {
            "needs_background": "light"
          }
        }
      ],
      "source": [
        "pd.DataFrame(history.history).plot()\n",
        "plt.ylabel(\"loss\")\n",
        "plt.xlabel(\"epochs\")"
      ]
    },
    {
      "cell_type": "code",
      "execution_count": null,
      "metadata": {
        "colab": {
          "base_uri": "https://localhost:8080/"
        },
        "id": "Yrf4BbsLmQrP",
        "outputId": "86f7b76b-c709-412c-ac67-fbc940228d86"
      },
      "outputs": [
        {
          "output_type": "execute_result",
          "data": {
            "text/plain": [
              "31     52.91\n",
              "109    55.90\n",
              "136    74.50\n",
              "88     35.30\n",
              "918    10.54\n",
              "       ...  \n",
              "429    29.59\n",
              "665    11.39\n",
              "986    37.17\n",
              "169    65.20\n",
              "525    25.12\n",
              "Name: Cc_Strength, Length: 412, dtype: float64"
            ]
          },
          "metadata": {},
          "execution_count": 65
        }
      ],
      "source": [
        "from sklearn.model_selection import train_test_split\n",
        "x_train, x_test, y_train, y_test= train_test_split(x, y, test_size=0.4, random_state=42)\n",
        "y_test"
      ]
    },
    {
      "cell_type": "code",
      "execution_count": null,
      "metadata": {
        "id": "rNaglFxcmqJP"
      },
      "outputs": [],
      "source": [
        "tf.random.set_seed(42)\n",
        "\n",
        "# STEP1: Creating the model\n",
        "\n",
        "model= tf.keras.Sequential([\n",
        "                            tf.keras.layers.Dense(8),\n",
        "                            tf.keras.layers.Dense(7),\n",
        "                            tf.keras.layers.Dense(2),\n",
        "                            tf.keras.layers.Dense(5),\n",
        "                            tf.keras.layers.Dense(1)\n",
        "])\n",
        "\n",
        "# STEP2: Compiling the model   # optimizer casn be SGD, Adam\n",
        "\n",
        "model.compile(loss= tf.keras.losses.mae,\n",
        "              optimizer= tf.keras.optimizers.Adam(),\n",
        "              metrics= [\"mae\"])\n",
        "\n",
        "# STEP3: Fit the model\n",
        "\n",
        "history= model.fit(x_train, y_train, epochs= 90, verbose=0)"
      ]
    },
    {
      "cell_type": "code",
      "execution_count": null,
      "metadata": {
        "colab": {
          "base_uri": "https://localhost:8080/"
        },
        "id": "kmq3AD38nRMn",
        "outputId": "57191229-3bfd-4357-aec6-e8921a7f3171"
      },
      "outputs": [
        {
          "output_type": "stream",
          "name": "stdout",
          "text": [
            "13/13 [==============================] - 0s 2ms/step - loss: 8.4344 - mae: 8.4344\n"
          ]
        },
        {
          "output_type": "execute_result",
          "data": {
            "text/plain": [
              "[8.434414863586426, 8.434414863586426]"
            ]
          },
          "metadata": {},
          "execution_count": 67
        }
      ],
      "source": [
        "model.evaluate(x_test, y_test)"
      ]
    },
    {
      "cell_type": "code",
      "execution_count": null,
      "metadata": {
        "colab": {
          "base_uri": "https://localhost:8080/",
          "height": 296
        },
        "id": "qLL0c3lknVgc",
        "outputId": "858bb555-6a7b-4c29-f707-430109a5be01"
      },
      "outputs": [
        {
          "output_type": "execute_result",
          "data": {
            "text/plain": [
              "Text(0.5, 0, 'epochs')"
            ]
          },
          "metadata": {},
          "execution_count": 68
        },
        {
          "output_type": "display_data",
          "data": {
            "text/plain": [
              "<Figure size 432x288 with 1 Axes>"
            ],
            "image/png": "[encoded data removed]"
          },
          "metadata": {
            "needs_background": "light"
          }
        }
      ],
      "source": [
        "pd.DataFrame(history.history).plot()\n",
        "plt.ylabel(\"loss\")\n",
        "plt.xlabel(\"epochs\")"
      ]
    },
    {
      "cell_type": "code",
      "execution_count": null,
      "metadata": {
        "colab": {
          "base_uri": "https://localhost:8080/"
        },
        "id": "3yBi--KvngPK",
        "outputId": "8f033b78-af25-48bd-81dc-3247d06ecc25"
      },
      "outputs": [
        {
          "output_type": "execute_result",
          "data": {
            "text/plain": [
              "31     52.91\n",
              "109    55.90\n",
              "136    74.50\n",
              "88     35.30\n",
              "918    10.54\n",
              "       ...  \n",
              "429    29.59\n",
              "665    11.39\n",
              "986    37.17\n",
              "169    65.20\n",
              "525    25.12\n",
              "Name: Cc_Strength, Length: 412, dtype: float64"
            ]
          },
          "metadata": {},
          "execution_count": 69
        }
      ],
      "source": [
        "from sklearn.model_selection import train_test_split\n",
        "x_train, x_test, y_train, y_test= train_test_split(x, y, test_size=0.4, random_state=42)\n",
        "y_test"
      ]
    },
    {
      "cell_type": "code",
      "execution_count": null,
      "metadata": {
        "id": "gRUIe83XoDhM"
      },
      "outputs": [],
      "source": [
        "tf.random.set_seed(42)\n",
        "\n",
        "# STEP1: Creating the model\n",
        "\n",
        "model= tf.keras.Sequential([\n",
        "                            tf.keras.layers.Dense(8),\n",
        "                            tf.keras.layers.Dense(5),\n",
        "                            tf.keras.layers.Dense(8),\n",
        "                            tf.keras.layers.Dense(4),\n",
        "                            tf.keras.layers.Dense(1)\n",
        "])\n",
        "\n",
        "# STEP2: Compiling the model   # optimizer casn be SGD, Adam\n",
        "\n",
        "model.compile(loss= tf.keras.losses.mae,\n",
        "              optimizer= tf.keras.optimizers.SGD(),\n",
        "              metrics= [\"mae\"])\n",
        "\n",
        "# STEP3: Fit the model\n",
        "\n",
        "history= model.fit(x_train, y_train, epochs= 30, verbose=0)"
      ]
    },
    {
      "cell_type": "code",
      "execution_count": null,
      "metadata": {
        "colab": {
          "base_uri": "https://localhost:8080/"
        },
        "id": "ZtcXecYtof_v",
        "outputId": "68b85ea6-2640-44e3-e10e-37b45621a621"
      },
      "outputs": [
        {
          "output_type": "stream",
          "name": "stdout",
          "text": [
            "13/13 [==============================] - 0s 2ms/step - loss: nan - mae: nan\n"
          ]
        },
        {
          "output_type": "execute_result",
          "data": {
            "text/plain": [
              "[nan, nan]"
            ]
          },
          "metadata": {},
          "execution_count": 71
        }
      ],
      "source": [
        "model.evaluate(x_test, y_test)"
      ]
    },
    {
      "cell_type": "code",
      "execution_count": null,
      "metadata": {
        "colab": {
          "base_uri": "https://localhost:8080/",
          "height": 296
        },
        "id": "y7-1tWW-orD5",
        "outputId": "e0fcbb70-e138-4838-af02-59d774830f96"
      },
      "outputs": [
        {
          "output_type": "execute_result",
          "data": {
            "text/plain": [
              "Text(0.5, 0, 'epochs')"
            ]
          },
          "metadata": {},
          "execution_count": 72
        },
        {
          "output_type": "display_data",
          "data": {
            "text/plain": [
              "<Figure size 432x288 with 1 Axes>"
            ],
            "image/png": "[encoded data removed]"
          },
          "metadata": {
            "needs_background": "light"
          }
        }
      ],
      "source": [
        "pd.DataFrame(history.history).plot()\n",
        "plt.ylabel(\"loss\")\n",
        "plt.xlabel(\"epochs\")"
      ]
    },
    {
      "cell_type": "code",
      "execution_count": null,
      "metadata": {
        "colab": {
          "base_uri": "https://localhost:8080/"
        },
        "id": "zUoBlVzboxOA",
        "outputId": "05856023-5598-457f-a07f-71781d89c6ca"
      },
      "outputs": [
        {
          "output_type": "execute_result",
          "data": {
            "text/plain": [
              "31     52.91\n",
              "109    55.90\n",
              "136    74.50\n",
              "88     35.30\n",
              "918    10.54\n",
              "       ...  \n",
              "429    29.59\n",
              "665    11.39\n",
              "986    37.17\n",
              "169    65.20\n",
              "525    25.12\n",
              "Name: Cc_Strength, Length: 412, dtype: float64"
            ]
          },
          "metadata": {},
          "execution_count": 73
        }
      ],
      "source": [
        "from sklearn.model_selection import train_test_split\n",
        "x_train, x_test, y_train, y_test= train_test_split(x, y, test_size=0.4, random_state=42)\n",
        "y_test"
      ]
    },
    {
      "cell_type": "code",
      "execution_count": null,
      "metadata": {
        "id": "kvW56ov5uyIr"
      },
      "outputs": [],
      "source": [
        "tf.random.set_seed(42)\n",
        "\n",
        "# STEP1: Creating the model\n",
        "\n",
        "model= tf.keras.Sequential([\n",
        "                            tf.keras.layers.Dense(8),\n",
        "                            tf.keras.layers.Dense(3),\n",
        "                            tf.keras.layers.Dense(5),\n",
        "                            tf.keras.layers.Dense(6),\n",
        "                            tf.keras.layers.Dense(1)\n",
        "])\n",
        "\n",
        "# STEP2: Compiling the model   # optimizer casn be SGD, Adam\n",
        "\n",
        "model.compile(loss= tf.keras.losses.mae,\n",
        "              optimizer= tf.keras.optimizers.Adam(),\n",
        "              metrics= [\"mae\"])\n",
        "\n",
        "# STEP3: Fit the model\n",
        "\n",
        "history= model.fit(x_train, y_train, epochs= 35, verbose=0)"
      ]
    },
    {
      "cell_type": "code",
      "execution_count": null,
      "metadata": {
        "colab": {
          "base_uri": "https://localhost:8080/"
        },
        "id": "cpinrul6x5HS",
        "outputId": "110e107c-f435-413e-edd9-b72976bc653d"
      },
      "outputs": [
        {
          "output_type": "stream",
          "name": "stdout",
          "text": [
            "13/13 [==============================] - 0s 2ms/step - loss: 8.9419 - mae: 8.9419\n"
          ]
        },
        {
          "output_type": "execute_result",
          "data": {
            "text/plain": [
              "[8.941946983337402, 8.941946983337402]"
            ]
          },
          "metadata": {},
          "execution_count": 75
        }
      ],
      "source": [
        "model.evaluate(x_test, y_test)"
      ]
    },
    {
      "cell_type": "code",
      "execution_count": null,
      "metadata": {
        "colab": {
          "base_uri": "https://localhost:8080/",
          "height": 296
        },
        "id": "lAV8BC5uy6-G",
        "outputId": "dd6f3d04-326d-44c8-afa2-1b622340d821"
      },
      "outputs": [
        {
          "output_type": "execute_result",
          "data": {
            "text/plain": [
              "Text(0.5, 0, 'epochs')"
            ]
          },
          "metadata": {},
          "execution_count": 76
        },
        {
          "output_type": "display_data",
          "data": {
            "text/plain": [
              "<Figure size 432x288 with 1 Axes>"
            ],
            "image/png": "[encoded data removed]"
          },
          "metadata": {
            "needs_background": "light"
          }
        }
      ],
      "source": [
        "pd.DataFrame(history.history).plot()\n",
        "plt.ylabel(\"loss\")\n",
        "plt.xlabel(\"epochs\")"
      ]
    },
    {
      "cell_type": "code",
      "execution_count": null,
      "metadata": {
        "colab": {
          "base_uri": "https://localhost:8080/"
        },
        "id": "Fl5hzUJSzMxC",
        "outputId": "31c8e842-1d20-4682-ae84-f08b57ad47b2"
      },
      "outputs": [
        {
          "output_type": "execute_result",
          "data": {
            "text/plain": [
              "31     52.91\n",
              "109    55.90\n",
              "136    74.50\n",
              "88     35.30\n",
              "918    10.54\n",
              "       ...  \n",
              "429    29.59\n",
              "665    11.39\n",
              "986    37.17\n",
              "169    65.20\n",
              "525    25.12\n",
              "Name: Cc_Strength, Length: 412, dtype: float64"
            ]
          },
          "metadata": {},
          "execution_count": 77
        }
      ],
      "source": [
        "from sklearn.model_selection import train_test_split\n",
        "x_train, x_test, y_train, y_test= train_test_split(x, y, test_size=0.4, random_state=42)\n",
        "y_test"
      ]
    },
    {
      "cell_type": "code",
      "execution_count": null,
      "metadata": {
        "id": "bScFIyC-zWoD"
      },
      "outputs": [],
      "source": [
        "tf.random.set_seed(42)\n",
        "\n",
        "# STEP1: Creating the model\n",
        "\n",
        "model= tf.keras.Sequential([\n",
        "                            tf.keras.layers.Dense(8),\n",
        "                            tf.keras.layers.Dense(3),\n",
        "                            tf.keras.layers.Dense(4),\n",
        "                            tf.keras.layers.Dense(7),\n",
        "                            tf.keras.layers.Dense(1)\n",
        "])\n",
        "\n",
        "# STEP2: Compiling the model   # optimizer casn be SGD, Adam\n",
        "\n",
        "model.compile(loss= tf.keras.losses.mae,\n",
        "              optimizer= tf.keras.optimizers.Adam(),\n",
        "              metrics= [\"mae\"])\n",
        "\n",
        "# STEP3: Fit the model\n",
        "\n",
        "history= model.fit(x_train, y_train, epochs=55, verbose=0)"
      ]
    },
    {
      "cell_type": "code",
      "execution_count": null,
      "metadata": {
        "colab": {
          "base_uri": "https://localhost:8080/"
        },
        "id": "iWP_7BwDzyuy",
        "outputId": "6c215ecb-c855-4c17-c1bb-29aecbdd85ab"
      },
      "outputs": [
        {
          "output_type": "stream",
          "name": "stdout",
          "text": [
            "13/13 [==============================] - 0s 2ms/step - loss: 8.7224 - mae: 8.7224\n"
          ]
        },
        {
          "output_type": "execute_result",
          "data": {
            "text/plain": [
              "[8.722375869750977, 8.722375869750977]"
            ]
          },
          "metadata": {},
          "execution_count": 79
        }
      ],
      "source": [
        "model.evaluate(x_test, y_test)"
      ]
    },
    {
      "cell_type": "code",
      "source": [
        "pd.DataFrame(history.history).plot()\n",
        "plt.ylabel(\"loss\")\n",
        "plt.xlabel(\"epochs\")"
      ],
      "metadata": {
        "colab": {
          "base_uri": "https://localhost:8080/",
          "height": 296
        },
        "id": "QoKzJNgfkn_c",
        "outputId": "1f581382-ee9c-499d-960d-3f8271fdb861"
      },
      "execution_count": null,
      "outputs": [
        {
          "output_type": "execute_result",
          "data": {
            "text/plain": [
              "Text(0.5, 0, 'epochs')"
            ]
          },
          "metadata": {},
          "execution_count": 80
        },
        {
          "output_type": "display_data",
          "data": {
            "text/plain": [
              "<Figure size 432x288 with 1 Axes>"
            ],
            "image/png": "[encoded data removed]"
          },
          "metadata": {
            "needs_background": "light"
          }
        }
      ]
    },
    {
      "cell_type": "code",
      "source": [
        "from sklearn.model_selection import train_test_split\n",
        "x_train, x_test, y_train, y_test= train_test_split(x, y, test_size=0.4, random_state=42)\n",
        "y_test"
      ],
      "metadata": {
        "colab": {
          "base_uri": "https://localhost:8080/"
        },
        "id": "81680K_Zk3Ck",
        "outputId": "9b556ba9-cf83-47ed-e35c-6d7d0a3bc7a6"
      },
      "execution_count": null,
      "outputs": [
        {
          "output_type": "execute_result",
          "data": {
            "text/plain": [
              "31     52.91\n",
              "109    55.90\n",
              "136    74.50\n",
              "88     35.30\n",
              "918    10.54\n",
              "       ...  \n",
              "429    29.59\n",
              "665    11.39\n",
              "986    37.17\n",
              "169    65.20\n",
              "525    25.12\n",
              "Name: Cc_Strength, Length: 412, dtype: float64"
            ]
          },
          "metadata": {},
          "execution_count": 81
        }
      ]
    },
    {
      "cell_type": "code",
      "source": [
        "tf.random.set_seed(42)\n",
        "\n",
        "# STEP1: Creating the model\n",
        "\n",
        "model= tf.keras.Sequential([\n",
        "                            tf.keras.layers.Dense(8),\n",
        "                            tf.keras.layers.Dense(2),\n",
        "                            tf.keras.layers.Dense(8),\n",
        "                            tf.keras.layers.Dense(5),\n",
        "                            tf.keras.layers.Dense(1)\n",
        "])\n",
        "\n",
        "# STEP2: Compiling the model   # optimizer casn be SGD, Adam\n",
        "\n",
        "model.compile(loss= tf.keras.losses.mae,\n",
        "              optimizer= tf.keras.optimizers.Adam(),\n",
        "              metrics= [\"mae\"])\n",
        "\n",
        "# STEP3: Fit the model\n",
        "\n",
        "history= model.fit(x_train, y_train, epochs=735, verbose=0)"
      ],
      "metadata": {
        "id": "cHNd_TZqk2--"
      },
      "execution_count": null,
      "outputs": []
    },
    {
      "cell_type": "code",
      "source": [
        "model.evaluate(x_test, y_test)"
      ],
      "metadata": {
        "colab": {
          "base_uri": "https://localhost:8080/"
        },
        "id": "M1n3a5WWk28H",
        "outputId": "67de1501-3807-4210-b984-4a20c857a112"
      },
      "execution_count": null,
      "outputs": [
        {
          "output_type": "stream",
          "name": "stdout",
          "text": [
            "13/13 [==============================] - 0s 2ms/step - loss: 8.6123 - mae: 8.6123\n"
          ]
        },
        {
          "output_type": "execute_result",
          "data": {
            "text/plain": [
              "[8.612344741821289, 8.612344741821289]"
            ]
          },
          "metadata": {},
          "execution_count": 83
        }
      ]
    },
    {
      "cell_type": "code",
      "source": [
        "pd.DataFrame(history.history).plot()\n",
        "plt.ylabel(\"loss\")\n",
        "plt.xlabel(\"epochs\")"
      ],
      "metadata": {
        "colab": {
          "base_uri": "https://localhost:8080/",
          "height": 296
        },
        "id": "SMIuAz8ak25g",
        "outputId": "444f9f46-6dc5-4d96-a42e-2ca45914ec05"
      },
      "execution_count": null,
      "outputs": [
        {
          "output_type": "execute_result",
          "data": {
            "text/plain": [
              "Text(0.5, 0, 'epochs')"
            ]
          },
          "metadata": {},
          "execution_count": 84
        },
        {
          "output_type": "display_data",
          "data": {
            "text/plain": [
              "<Figure size 432x288 with 1 Axes>"
            ],
            "image/png": "[encoded data removed]"
          },
          "metadata": {
            "needs_background": "light"
          }
        }
      ]
    },
    {
      "cell_type": "code",
      "source": [
        "from sklearn.model_selection import train_test_split\n",
        "x_train, x_test, y_train, y_test= train_test_split(x, y, test_size=0.2, random_state=42)\n",
        "y_test"
      ],
      "metadata": {
        "colab": {
          "base_uri": "https://localhost:8080/"
        },
        "id": "e06JLWc5k22s",
        "outputId": "5da35cde-046a-4caf-b99b-b23049724d57"
      },
      "execution_count": null,
      "outputs": [
        {
          "output_type": "execute_result",
          "data": {
            "text/plain": [
              "31     52.91\n",
              "109    55.90\n",
              "136    74.50\n",
              "88     35.30\n",
              "918    10.54\n",
              "       ...  \n",
              "482    56.14\n",
              "545    18.75\n",
              "110    38.00\n",
              "514    74.36\n",
              "602    35.17\n",
              "Name: Cc_Strength, Length: 206, dtype: float64"
            ]
          },
          "metadata": {},
          "execution_count": 85
        }
      ]
    },
    {
      "cell_type": "code",
      "source": [
        "tf.random.set_seed(42)\n",
        "\n",
        "# STEP1: Creating the model\n",
        "\n",
        "model= tf.keras.Sequential([\n",
        "                            tf.keras.layers.Dense(8),\n",
        "                            tf.keras.layers.Dense(3),\n",
        "                            tf.keras.layers.Dense(5),\n",
        "                            tf.keras.layers.Dense(6),\n",
        "                            tf.keras.layers.Dense(1)\n",
        "])\n",
        "\n",
        "# STEP2: Compiling the model   # optimizer casn be SGD, Adam\n",
        "\n",
        "model.compile(loss= tf.keras.losses.mae,\n",
        "              optimizer= tf.keras.optimizers.Adam(),\n",
        "              metrics= [\"mae\"])\n",
        "\n",
        "# STEP3: Fit the model\n",
        "\n",
        "history= model.fit(x_train, y_train, epochs=70, verbose=0)"
      ],
      "metadata": {
        "id": "gJn5ZCXSk20F"
      },
      "execution_count": null,
      "outputs": []
    },
    {
      "cell_type": "code",
      "source": [
        "model.evaluate(x_test, y_test)"
      ],
      "metadata": {
        "colab": {
          "base_uri": "https://localhost:8080/"
        },
        "id": "eA01kXtdk2w6",
        "outputId": "08cde521-1579-47bf-c8a4-b1ff40e05cc3"
      },
      "execution_count": null,
      "outputs": [
        {
          "output_type": "stream",
          "name": "stdout",
          "text": [
            "7/7 [==============================] - 0s 2ms/step - loss: 7.9833 - mae: 7.9833\n"
          ]
        },
        {
          "output_type": "execute_result",
          "data": {
            "text/plain": [
              "[7.983250141143799, 7.983250141143799]"
            ]
          },
          "metadata": {},
          "execution_count": 87
        }
      ]
    },
    {
      "cell_type": "code",
      "source": [
        "pd.DataFrame(history.history).plot()\n",
        "plt.ylabel(\"loss\")\n",
        "plt.xlabel(\"epochs\")"
      ],
      "metadata": {
        "colab": {
          "base_uri": "https://localhost:8080/",
          "height": 296
        },
        "id": "SdzGbLg2k2uE",
        "outputId": "ac9262f0-0908-4b5c-98d9-d0cfdd57a375"
      },
      "execution_count": null,
      "outputs": [
        {
          "output_type": "execute_result",
          "data": {
            "text/plain": [
              "Text(0.5, 0, 'epochs')"
            ]
          },
          "metadata": {},
          "execution_count": 88
        },
        {
          "output_type": "display_data",
          "data": {
            "text/plain": [
              "<Figure size 432x288 with 1 Axes>"
            ],
            "image/png": "[encoded data removed]"
          },
          "metadata": {
            "needs_background": "light"
          }
        }
      ]
    },
    {
      "cell_type": "code",
      "execution_count": null,
      "metadata": {
        "colab": {
          "base_uri": "https://localhost:8080/"
        },
        "id": "RcHMTAWCYWT8",
        "outputId": "b2a780b5-a13a-4fbe-86fa-ac11e814c6b8"
      },
      "outputs": [
        {
          "output_type": "stream",
          "name": "stdout",
          "text": [
            "Model: \"sequential_16\"\n",
            "_________________________________________________________________\n",
            " Layer (type)                Output Shape              Param #   \n",
            "=================================================================\n",
            " dense_80 (Dense)            (None, 8)                 72        \n",
            "                                                                 \n",
            " dense_81 (Dense)            (None, 3)                 27        \n",
            "                                                                 \n",
            " dense_82 (Dense)            (None, 5)                 20        \n",
            "                                                                 \n",
            " dense_83 (Dense)            (None, 6)                 36        \n",
            "                                                                 \n",
            " dense_84 (Dense)            (None, 1)                 7         \n",
            "                                                                 \n",
            "=================================================================\n",
            "Total params: 162\n",
            "Trainable params: 162\n",
            "Non-trainable params: 0\n",
            "_________________________________________________________________\n"
          ]
        }
      ],
      "source": [
        "model.summary();"
      ]
    },
    {
      "cell_type": "code",
      "source": [
        "from sklearn.model_selection import train_test_split\n",
        "x_train, x_test, y_train, y_test= train_test_split(x, y, test_size=0.2, random_state=42)\n",
        "y_test"
      ],
      "metadata": {
        "colab": {
          "base_uri": "https://localhost:8080/"
        },
        "id": "HRWvyLDmkTXv",
        "outputId": "106fed4b-1ba1-4538-c030-b6be6f441ffa"
      },
      "execution_count": null,
      "outputs": [
        {
          "output_type": "execute_result",
          "data": {
            "text/plain": [
              "31     52.91\n",
              "109    55.90\n",
              "136    74.50\n",
              "88     35.30\n",
              "918    10.54\n",
              "       ...  \n",
              "482    56.14\n",
              "545    18.75\n",
              "110    38.00\n",
              "514    74.36\n",
              "602    35.17\n",
              "Name: Cc_Strength, Length: 206, dtype: float64"
            ]
          },
          "metadata": {},
          "execution_count": 90
        }
      ]
    },
    {
      "cell_type": "code",
      "source": [
        "tf.random.set_seed(42)\n",
        "\n",
        "# STEP1: Creating the model\n",
        "\n",
        "model= tf.keras.Sequential([\n",
        "                            tf.keras.layers.Dense(8),\n",
        "                            tf.keras.layers.Dense(6),\n",
        "                            tf.keras.layers.Dense(4),\n",
        "                            tf.keras.layers.Dense(2),\n",
        "                            tf.keras.layers.Dense(1)\n",
        "])\n",
        "\n",
        "# STEP2: Compiling the model   # optimizer casn be SGD, Adam\n",
        "\n",
        "model.compile(loss= tf.keras.losses.mae,\n",
        "              optimizer= tf.keras.optimizers.Adam(),\n",
        "              metrics= [\"mae\"])\n",
        "\n",
        "# STEP3: Fit the model\n",
        "\n",
        "history= model.fit(x_train, y_train, epochs= 170, verbose=0)"
      ],
      "metadata": {
        "id": "asclcFcLlSsi"
      },
      "execution_count": null,
      "outputs": []
    },
    {
      "cell_type": "code",
      "source": [
        "model.evaluate(x_test, y_test)"
      ],
      "metadata": {
        "colab": {
          "base_uri": "https://localhost:8080/"
        },
        "id": "hXAucX5_k6nL",
        "outputId": "d4b974d8-b208-48dc-a31d-1b24c79435e6"
      },
      "execution_count": null,
      "outputs": [
        {
          "output_type": "stream",
          "name": "stdout",
          "text": [
            "7/7 [==============================] - 0s 2ms/step - loss: 7.9576 - mae: 7.9576\n"
          ]
        },
        {
          "output_type": "execute_result",
          "data": {
            "text/plain": [
              "[7.957597255706787, 7.957597255706787]"
            ]
          },
          "metadata": {},
          "execution_count": 92
        }
      ]
    },
    {
      "cell_type": "code",
      "source": [
        "pd.DataFrame(history.history).plot()\n",
        "plt.ylabel(\"loss\")\n",
        "plt.xlabel(\"epochs\")"
      ],
      "metadata": {
        "colab": {
          "base_uri": "https://localhost:8080/",
          "height": 296
        },
        "id": "LpAIBnANlep_",
        "outputId": "8cfc1018-75d1-4105-869e-a9cad214b957"
      },
      "execution_count": null,
      "outputs": [
        {
          "output_type": "execute_result",
          "data": {
            "text/plain": [
              "Text(0.5, 0, 'epochs')"
            ]
          },
          "metadata": {},
          "execution_count": 93
        },
        {
          "output_type": "display_data",
          "data": {
            "text/plain": [
              "<Figure size 432x288 with 1 Axes>"
            ],
            "image/png": "[encoded data removed]"
          },
          "metadata": {
            "needs_background": "light"
          }
        }
      ]
    },
    {
      "cell_type": "code",
      "source": [
        "from sklearn.model_selection import train_test_split\n",
        "x_train, x_test, y_train, y_test= train_test_split(x, y, test_size=0.2, random_state=42)\n",
        "y_test"
      ],
      "metadata": {
        "colab": {
          "base_uri": "https://localhost:8080/"
        },
        "id": "Aquh9XFAlmot",
        "outputId": "54600b45-ae7c-49d3-bdb9-c07d51e4c301"
      },
      "execution_count": null,
      "outputs": [
        {
          "output_type": "execute_result",
          "data": {
            "text/plain": [
              "31     52.91\n",
              "109    55.90\n",
              "136    74.50\n",
              "88     35.30\n",
              "918    10.54\n",
              "       ...  \n",
              "482    56.14\n",
              "545    18.75\n",
              "110    38.00\n",
              "514    74.36\n",
              "602    35.17\n",
              "Name: Cc_Strength, Length: 206, dtype: float64"
            ]
          },
          "metadata": {},
          "execution_count": 94
        }
      ]
    },
    {
      "cell_type": "code",
      "source": [
        "tf.random.set_seed(42)\n",
        "\n",
        "# STEP1: Creating the model\n",
        "\n",
        "model= tf.keras.Sequential([\n",
        "                            tf.keras.layers.Dense(8),\n",
        "                            tf.keras.layers.Dense(4),\n",
        "                            tf.keras.layers.Dense(2),\n",
        "                            tf.keras.layers.Dense(1)\n",
        "])\n",
        "\n",
        "# STEP2: Compiling the model   # optimizer casn be SGD, Adam\n",
        "\n",
        "model.compile(loss= tf.keras.losses.mae,\n",
        "              optimizer= tf.keras.optimizers.Adam(),\n",
        "              metrics= [\"mae\"])\n",
        "\n",
        "# STEP3: Fit the model\n",
        "\n",
        "history= model.fit(x_train, y_train, epochs= 370, verbose=0)"
      ],
      "metadata": {
        "id": "_kmkHGRxltW3"
      },
      "execution_count": null,
      "outputs": []
    },
    {
      "cell_type": "code",
      "source": [
        "model.evaluate(x_test, y_test)"
      ],
      "metadata": {
        "colab": {
          "base_uri": "https://localhost:8080/"
        },
        "id": "Q0OfqJgyl-eU",
        "outputId": "bc8641e9-ec07-4fef-f4fc-95aef4de6de7"
      },
      "execution_count": null,
      "outputs": [
        {
          "output_type": "stream",
          "name": "stdout",
          "text": [
            "7/7 [==============================] - 0s 2ms/step - loss: 7.9454 - mae: 7.9454\n"
          ]
        },
        {
          "output_type": "execute_result",
          "data": {
            "text/plain": [
              "[7.945353031158447, 7.945353031158447]"
            ]
          },
          "metadata": {},
          "execution_count": 96
        }
      ]
    },
    {
      "cell_type": "code",
      "source": [
        "pd.DataFrame(history.history).plot()\n",
        "plt.ylabel(\"loss\")\n",
        "plt.xlabel(\"epochs\")"
      ],
      "metadata": {
        "colab": {
          "base_uri": "https://localhost:8080/",
          "height": 296
        },
        "id": "HungoG4mmFqE",
        "outputId": "fc72a0de-1534-4a05-a7a8-136b0997093c"
      },
      "execution_count": null,
      "outputs": [
        {
          "output_type": "execute_result",
          "data": {
            "text/plain": [
              "Text(0.5, 0, 'epochs')"
            ]
          },
          "metadata": {},
          "execution_count": 97
        },
        {
          "output_type": "display_data",
          "data": {
            "text/plain": [
              "<Figure size 432x288 with 1 Axes>"
            ],
            "image/png": "[encoded data removed]"
          },
          "metadata": {
            "needs_background": "light"
          }
        }
      ]
    },
    {
      "cell_type": "code",
      "source": [
        "from sklearn.model_selection import train_test_split\n",
        "x_train, x_test, y_train, y_test= train_test_split(x, y, test_size=0.3, random_state=42)\n",
        "y_test"
      ],
      "metadata": {
        "colab": {
          "base_uri": "https://localhost:8080/"
        },
        "id": "bHEcmkVImrWb",
        "outputId": "fb76e8c7-e934-4b18-8407-ad0e39ded478"
      },
      "execution_count": null,
      "outputs": [
        {
          "output_type": "execute_result",
          "data": {
            "text/plain": [
              "31     52.91\n",
              "109    55.90\n",
              "136    74.50\n",
              "88     35.30\n",
              "918    10.54\n",
              "       ...  \n",
              "250    24.92\n",
              "377    36.30\n",
              "615    32.33\n",
              "9      39.29\n",
              "357    66.82\n",
              "Name: Cc_Strength, Length: 309, dtype: float64"
            ]
          },
          "metadata": {},
          "execution_count": 98
        }
      ]
    },
    {
      "cell_type": "code",
      "source": [
        "tf.random.set_seed(42)\n",
        "\n",
        "# STEP1: Creating the model\n",
        "\n",
        "model= tf.keras.Sequential([\n",
        "                            tf.keras.layers.Dense(8),\n",
        "                            tf.keras.layers.Dense(4),\n",
        "                            tf.keras.layers.Dense(2),\n",
        "                            tf.keras.layers.Dense(1)\n",
        "])\n",
        "\n",
        "# STEP2: Compiling the model   # optimizer casn be SGD, Adam\n",
        "\n",
        "model.compile(loss= tf.keras.losses.mae,\n",
        "              optimizer= tf.keras.optimizers.Adam(),\n",
        "              metrics= [\"mae\"])\n",
        "\n",
        "# STEP3: Fit the model\n",
        "\n",
        "history= model.fit(x_train, y_train, epochs= 370, verbose=0)"
      ],
      "metadata": {
        "id": "1Fp_dtpJmmio"
      },
      "execution_count": null,
      "outputs": []
    },
    {
      "cell_type": "code",
      "source": [
        "model.evaluate(x_test, y_test)"
      ],
      "metadata": {
        "colab": {
          "base_uri": "https://localhost:8080/"
        },
        "id": "ETks5J56pXxz",
        "outputId": "246f26c9-d681-44fc-f138-ce7757029989"
      },
      "execution_count": null,
      "outputs": [
        {
          "output_type": "stream",
          "name": "stdout",
          "text": [
            "10/10 [==============================] - 0s 3ms/step - loss: 8.5132 - mae: 8.5132\n"
          ]
        },
        {
          "output_type": "execute_result",
          "data": {
            "text/plain": [
              "[8.513225555419922, 8.513225555419922]"
            ]
          },
          "metadata": {},
          "execution_count": 100
        }
      ]
    },
    {
      "cell_type": "code",
      "source": [
        "pd.DataFrame(history.history).plot()\n",
        "plt.ylabel(\"loss\")\n",
        "plt.xlabel(\"epochs\")"
      ],
      "metadata": {
        "colab": {
          "base_uri": "https://localhost:8080/",
          "height": 296
        },
        "id": "L6FiIqgOplb6",
        "outputId": "d2b8dd9f-27c4-4c4f-a794-bb79d9d6e315"
      },
      "execution_count": null,
      "outputs": [
        {
          "output_type": "execute_result",
          "data": {
            "text/plain": [
              "Text(0.5, 0, 'epochs')"
            ]
          },
          "metadata": {},
          "execution_count": 101
        },
        {
          "output_type": "display_data",
          "data": {
            "text/plain": [
              "<Figure size 432x288 with 1 Axes>"
            ],
            "image/png": "[encoded data removed]"
          },
          "metadata": {
            "needs_background": "light"
          }
        }
      ]
    },
    {
      "cell_type": "code",
      "source": [
        "from sklearn.model_selection import train_test_split\n",
        "x_train, x_test, y_train, y_test= train_test_split(x, y, test_size=0.4, random_state=42)\n",
        "y_test"
      ],
      "metadata": {
        "colab": {
          "base_uri": "https://localhost:8080/"
        },
        "id": "jBqEOaUepxFB",
        "outputId": "95dc37e3-38f4-4788-a945-6f3c7a7371d2"
      },
      "execution_count": null,
      "outputs": [
        {
          "output_type": "execute_result",
          "data": {
            "text/plain": [
              "31     52.91\n",
              "109    55.90\n",
              "136    74.50\n",
              "88     35.30\n",
              "918    10.54\n",
              "       ...  \n",
              "429    29.59\n",
              "665    11.39\n",
              "986    37.17\n",
              "169    65.20\n",
              "525    25.12\n",
              "Name: Cc_Strength, Length: 412, dtype: float64"
            ]
          },
          "metadata": {},
          "execution_count": 102
        }
      ]
    },
    {
      "cell_type": "code",
      "source": [
        "tf.random.set_seed(42)\n",
        "\n",
        "# STEP1: Creating the model\n",
        "\n",
        "model= tf.keras.Sequential([\n",
        "                            tf.keras.layers.Dense(8),\n",
        "                            tf.keras.layers.Dense(4),\n",
        "                            tf.keras.layers.Dense(2),\n",
        "                            tf.keras.layers.Dense(1)\n",
        "])\n",
        "\n",
        "# STEP2: Compiling the model   # optimizer casn be SGD, Adam\n",
        "\n",
        "model.compile(loss= tf.keras.losses.mae,\n",
        "              optimizer= tf.keras.optimizers.Adam(),\n",
        "              metrics= [\"mae\"])\n",
        "\n",
        "# STEP3: Fit the model\n",
        "\n",
        "history= model.fit(x_train, y_train, epochs= 270, verbose=0)"
      ],
      "metadata": {
        "id": "vrXFA8tkp-Xh"
      },
      "execution_count": null,
      "outputs": []
    },
    {
      "cell_type": "code",
      "source": [
        "model.evaluate(x_test, y_test)"
      ],
      "metadata": {
        "colab": {
          "base_uri": "https://localhost:8080/"
        },
        "id": "M1wiwzOdqIW_",
        "outputId": "6315b39a-82da-4e5d-a000-6b33b184b1d2"
      },
      "execution_count": null,
      "outputs": [
        {
          "output_type": "stream",
          "name": "stdout",
          "text": [
            "13/13 [==============================] - 0s 2ms/step - loss: 8.6159 - mae: 8.6159\n"
          ]
        },
        {
          "output_type": "execute_result",
          "data": {
            "text/plain": [
              "[8.615865707397461, 8.615865707397461]"
            ]
          },
          "metadata": {},
          "execution_count": 104
        }
      ]
    },
    {
      "cell_type": "code",
      "source": [
        "pd.DataFrame(history.history).plot()\n",
        "plt.ylabel(\"loss\")\n",
        "plt.xlabel(\"epochs\")"
      ],
      "metadata": {
        "colab": {
          "base_uri": "https://localhost:8080/",
          "height": 296
        },
        "id": "4ANDuJf0qRYf",
        "outputId": "fe05ad2f-eb0d-4a3b-85cf-e8b3deada061"
      },
      "execution_count": null,
      "outputs": [
        {
          "output_type": "execute_result",
          "data": {
            "text/plain": [
              "Text(0.5, 0, 'epochs')"
            ]
          },
          "metadata": {},
          "execution_count": 105
        },
        {
          "output_type": "display_data",
          "data": {
            "text/plain": [
              "<Figure size 432x288 with 1 Axes>"
            ],
            "image/png": "[encoded data removed]"
          },
          "metadata": {
            "needs_background": "light"
          }
        }
      ]
    },
    {
      "cell_type": "code",
      "source": [
        "from sklearn.model_selection import train_test_split\n",
        "x_train, x_test, y_train, y_test= train_test_split(x, y, test_size=0.4, random_state=42)\n",
        "y_test"
      ],
      "metadata": {
        "colab": {
          "base_uri": "https://localhost:8080/"
        },
        "id": "X2APHItiwB-F",
        "outputId": "2f4edfa9-a2da-409c-9d39-453f9ec370f5"
      },
      "execution_count": null,
      "outputs": [
        {
          "output_type": "execute_result",
          "data": {
            "text/plain": [
              "31     52.91\n",
              "109    55.90\n",
              "136    74.50\n",
              "88     35.30\n",
              "918    10.54\n",
              "       ...  \n",
              "429    29.59\n",
              "665    11.39\n",
              "986    37.17\n",
              "169    65.20\n",
              "525    25.12\n",
              "Name: Cc_Strength, Length: 412, dtype: float64"
            ]
          },
          "metadata": {},
          "execution_count": 106
        }
      ]
    },
    {
      "cell_type": "code",
      "source": [
        "tf.random.set_seed(42)\n",
        "\n",
        "# STEP1: Creating the model\n",
        "\n",
        "model= tf.keras.Sequential([\n",
        "                            tf.keras.layers.Dense(8),\n",
        "                            tf.keras.layers.Dense(6),\n",
        "                            tf.keras.layers.Dense(4),\n",
        "                            tf.keras.layers.Dense(2),\n",
        "                            tf.keras.layers.Dense(1)\n",
        "])\n",
        "\n",
        "# STEP2: Compiling the model   # optimizer casn be SGD, Adam\n",
        "\n",
        "model.compile(loss= tf.keras.losses.mae,\n",
        "              optimizer= tf.keras.optimizers.Adam(),\n",
        "              metrics= [\"mae\"])\n",
        "\n",
        "# STEP3: Fit the model\n",
        "\n",
        "history= model.fit(x_train, y_train, epochs= 400, verbose=0)"
      ],
      "metadata": {
        "id": "cvjmMaYqxY_J"
      },
      "execution_count": null,
      "outputs": []
    },
    {
      "cell_type": "code",
      "source": [
        "model.evaluate(x_test, y_test)"
      ],
      "metadata": {
        "colab": {
          "base_uri": "https://localhost:8080/"
        },
        "id": "ue6jly7TxgqV",
        "outputId": "15abfbec-9714-4bd0-c782-17e09ffc8e08"
      },
      "execution_count": null,
      "outputs": [
        {
          "output_type": "stream",
          "name": "stdout",
          "text": [
            "13/13 [==============================] - 0s 2ms/step - loss: 8.5686 - mae: 8.5686\n"
          ]
        },
        {
          "output_type": "execute_result",
          "data": {
            "text/plain": [
              "[8.568601608276367, 8.568601608276367]"
            ]
          },
          "metadata": {},
          "execution_count": 108
        }
      ]
    },
    {
      "cell_type": "code",
      "source": [
        "from sklearn.model_selection import train_test_split\n",
        "x_train, x_test, y_train, y_test= train_test_split(x, y, test_size=0.2, random_state=42)\n",
        "y_test"
      ],
      "metadata": {
        "colab": {
          "base_uri": "https://localhost:8080/"
        },
        "id": "bTGxVnqLxs2I",
        "outputId": "bfba6a22-79a1-4d85-8095-c9e96995cc7b"
      },
      "execution_count": null,
      "outputs": [
        {
          "output_type": "execute_result",
          "data": {
            "text/plain": [
              "31     52.91\n",
              "109    55.90\n",
              "136    74.50\n",
              "88     35.30\n",
              "918    10.54\n",
              "       ...  \n",
              "482    56.14\n",
              "545    18.75\n",
              "110    38.00\n",
              "514    74.36\n",
              "602    35.17\n",
              "Name: Cc_Strength, Length: 206, dtype: float64"
            ]
          },
          "metadata": {},
          "execution_count": 109
        }
      ]
    },
    {
      "cell_type": "code",
      "source": [
        "tf.random.set_seed(42)\n",
        "\n",
        "# STEP1: Creating the model\n",
        "\n",
        "model= tf.keras.Sequential([\n",
        "                            tf.keras.layers.Dense(8),\n",
        "                            tf.keras.layers.Dense(6),\n",
        "                            tf.keras.layers.Dense(4),\n",
        "                            tf.keras.layers.Dense(2),\n",
        "                            tf.keras.layers.Dense(1)\n",
        "])\n",
        "\n",
        "# STEP2: Compiling the model   # optimizer casn be SGD, Adam\n",
        "\n",
        "model.compile(loss= tf.keras.losses.mae,\n",
        "              optimizer= tf.keras.optimizers.Adam(),\n",
        "              metrics= [\"mae\"])\n",
        "\n",
        "# STEP3: Fit the model\n",
        "\n",
        "history= model.fit(x_train, y_train, epochs= 1000, verbose=0)"
      ],
      "metadata": {
        "id": "v9TmxZzvxzNR"
      },
      "execution_count": null,
      "outputs": []
    },
    {
      "cell_type": "code",
      "source": [
        "model.evaluate(x_test, y_test)"
      ],
      "metadata": {
        "colab": {
          "base_uri": "https://localhost:8080/"
        },
        "id": "NymUZrXGx5r6",
        "outputId": "47a124e3-3a22-4ebf-99d4-1db82c735479"
      },
      "execution_count": null,
      "outputs": [
        {
          "output_type": "stream",
          "name": "stdout",
          "text": [
            "7/7 [==============================] - 0s 2ms/step - loss: 8.0546 - mae: 8.0546\n"
          ]
        },
        {
          "output_type": "execute_result",
          "data": {
            "text/plain": [
              "[8.054604530334473, 8.054604530334473]"
            ]
          },
          "metadata": {},
          "execution_count": 111
        }
      ]
    },
    {
      "cell_type": "markdown",
      "source": [
        "# **BAGGING**"
      ],
      "metadata": {
        "id": "Ywq91Jw57x4d"
      }
    },
    {
      "cell_type": "code",
      "source": [
        "from sklearn.ensemble import BaggingRegressor"
      ],
      "metadata": {
        "id": "zlmjH3oe70lD"
      },
      "execution_count": null,
      "outputs": []
    },
    {
      "cell_type": "code",
      "source": [
        "bag_model = BaggingRegressor(\n",
        "base_estimator=BaggingRegressor(), \n",
        "n_estimators=500, \n",
        "max_samples=0.8, \n",
        "bootstrap=True,\n",
        "oob_score=True,\n",
        "random_state=42\n",
        ")"
      ],
      "metadata": {
        "id": "pGHm28S28ab0"
      },
      "execution_count": null,
      "outputs": []
    },
    {
      "cell_type": "code",
      "source": [
        "l=bag_model.fit(x_train, y_train)"
      ],
      "metadata": {
        "id": "6rjp026S8tH4"
      },
      "execution_count": null,
      "outputs": []
    },
    {
      "cell_type": "code",
      "source": [
        "mae = metrics.mean_absolute_error(y_test, l.predict(x_test))\n",
        "print(\"The mean abs error (MAE) on test set: {:.10f}\".format(mae))"
      ],
      "metadata": {
        "colab": {
          "base_uri": "https://localhost:8080/"
        },
        "id": "n-61T16H827y",
        "outputId": "a6385e97-5683-4a62-9b2b-ae34a0c3beb2"
      },
      "execution_count": null,
      "outputs": [
        {
          "output_type": "stream",
          "name": "stdout",
          "text": [
            "The mean abs error (MAE) on test set: 4.3228750661\n"
          ]
        }
      ]
    },
    {
      "cell_type": "markdown",
      "source": [
        "**bagging method 2**"
      ],
      "metadata": {
        "id": "C3XV1ZM_k3vW"
      }
    },
    {
      "cell_type": "code",
      "source": [
        "from sklearn.ensemble import BaggingRegressor"
      ],
      "metadata": {
        "id": "ER0lato48_DH"
      },
      "execution_count": null,
      "outputs": []
    },
    {
      "cell_type": "code",
      "source": [
        "bag_model = BaggingRegressor(\n",
        "base_estimator=BaggingRegressor(), \n",
        "n_estimators=700, \n",
        "max_samples=0.8, \n",
        "bootstrap=True,\n",
        "oob_score=True,\n",
        "random_state=42\n",
        ")"
      ],
      "metadata": {
        "id": "UeJv9dIL9Upb"
      },
      "execution_count": null,
      "outputs": []
    },
    {
      "cell_type": "code",
      "source": [
        "l=bag_model.fit(x_train, y_train)"
      ],
      "metadata": {
        "id": "VM2oQZBB9Z4u"
      },
      "execution_count": null,
      "outputs": []
    },
    {
      "cell_type": "code",
      "source": [
        "mae = metrics.mean_absolute_error(y_test, l.predict(x_test))\n",
        "print(\"The mean abs error (MAE) on test set: {:.10f}\".format(mae))"
      ],
      "metadata": {
        "colab": {
          "base_uri": "https://localhost:8080/"
        },
        "id": "OQGiEf-69tic",
        "outputId": "4f42c2fd-b47e-4ea9-d094-8e9dcd7cdadd"
      },
      "execution_count": null,
      "outputs": [
        {
          "output_type": "stream",
          "name": "stdout",
          "text": [
            "The mean abs error (MAE) on test set: 4.3320147051\n"
          ]
        }
      ]
    },
    {
      "cell_type": "markdown",
      "source": [
        "**bagging method 3**"
      ],
      "metadata": {
        "id": "TXLntmGOlDks"
      }
    },
    {
      "cell_type": "code",
      "source": [
        "from sklearn.ensemble import BaggingRegressor"
      ],
      "metadata": {
        "id": "QQRCX0kjlIN-"
      },
      "execution_count": null,
      "outputs": []
    },
    {
      "cell_type": "code",
      "source": [
        "bag_model = BaggingRegressor(\n",
        "base_estimator=BaggingRegressor(), \n",
        "n_estimators=750, \n",
        "max_samples=0.8, \n",
        "bootstrap=True,\n",
        "oob_score=True,\n",
        "random_state=42\n",
        ")"
      ],
      "metadata": {
        "id": "e_p3DLHJlM0t"
      },
      "execution_count": null,
      "outputs": []
    },
    {
      "cell_type": "code",
      "source": [
        "l=bag_model.fit(x_train, y_train)"
      ],
      "metadata": {
        "id": "WZ14p9iwlTVs"
      },
      "execution_count": null,
      "outputs": []
    },
    {
      "cell_type": "code",
      "source": [
        "mae = metrics.mean_absolute_error(y_test, l.predict(x_test))\n",
        "print(\"The mean abs error (MAE) on test set: {:.10f}\".format(mae))"
      ],
      "metadata": {
        "colab": {
          "base_uri": "https://localhost:8080/"
        },
        "id": "6uBxmMGilXiF",
        "outputId": "020cd2e3-f318-4eff-a77a-e2f020f243c3"
      },
      "execution_count": null,
      "outputs": [
        {
          "output_type": "stream",
          "name": "stdout",
          "text": [
            "The mean abs error (MAE) on test set: 4.3354448028\n"
          ]
        }
      ]
    },
    {
      "cell_type": "markdown",
      "source": [
        "# **BOOSTING**"
      ],
      "metadata": {
        "id": "UgHJOKza91sU"
      }
    },
    {
      "cell_type": "markdown",
      "source": [
        "# **GRADIENT BOOSTING**"
      ],
      "metadata": {
        "id": "MyKWQpl2lkmu"
      }
    },
    {
      "cell_type": "code",
      "source": [
        "from sklearn import datasets, ensemble\n",
        "from sklearn.ensemble import GradientBoostingRegressor\n",
        "from sklearn.metrics import mean_absolute_error"
      ],
      "metadata": {
        "id": "E22dSfXw95Jr"
      },
      "execution_count": null,
      "outputs": []
    },
    {
      "cell_type": "code",
      "source": [
        "regressor = GradientBoostingRegressor(\n",
        "    max_depth=5,\n",
        "    n_estimators=750,\n",
        "    learning_rate=0.15,\n",
        "    random_state=23 )\n",
        "regressor.fit(x_train, y_train)\n",
        "y_pred = regressor.predict(x_test)\n",
        "mean_absolute_error(y_test, y_pred)"
      ],
      "metadata": {
        "colab": {
          "base_uri": "https://localhost:8080/"
        },
        "id": "t5mclVTp991H",
        "outputId": "01f5eaf3-592c-4f39-b18c-0d7ed71c5242"
      },
      "execution_count": null,
      "outputs": [
        {
          "output_type": "execute_result",
          "data": {
            "text/plain": [
              "2.9265978733238587"
            ]
          },
          "metadata": {},
          "execution_count": 125
        }
      ]
    },
    {
      "cell_type": "markdown",
      "source": [
        "**gradient boosting method 2**"
      ],
      "metadata": {
        "id": "S8-vEdq6lvCO"
      }
    },
    {
      "cell_type": "code",
      "source": [
        "from sklearn import datasets, ensemble\n",
        "from sklearn.ensemble import GradientBoostingRegressor\n",
        "from sklearn.metrics import mean_absolute_error"
      ],
      "metadata": {
        "id": "VYvK8mZhl07d"
      },
      "execution_count": null,
      "outputs": []
    },
    {
      "cell_type": "code",
      "source": [
        "regressor = GradientBoostingRegressor(\n",
        "    max_depth=5,\n",
        "    n_estimators=650,\n",
        "    learning_rate=0.15,\n",
        "    random_state=42 )\n",
        "regressor.fit(x_train, y_train)\n",
        "y_pred = regressor.predict(x_test)\n",
        "mean_absolute_error(y_test, y_pred)"
      ],
      "metadata": {
        "colab": {
          "base_uri": "https://localhost:8080/"
        },
        "id": "dIDXjMp1l9Uu",
        "outputId": "49c8b6a1-cb2d-4b35-9eea-c37a51b393f5"
      },
      "execution_count": null,
      "outputs": [
        {
          "output_type": "execute_result",
          "data": {
            "text/plain": [
              "2.9300604430105355"
            ]
          },
          "metadata": {},
          "execution_count": 127
        }
      ]
    },
    {
      "cell_type": "markdown",
      "source": [
        "**gradient boosting method 3**"
      ],
      "metadata": {
        "id": "vugDgB2vmGg-"
      }
    },
    {
      "cell_type": "code",
      "source": [
        "from sklearn import datasets, ensemble\n",
        "from sklearn.ensemble import GradientBoostingRegressor\n",
        "from sklearn.metrics import mean_absolute_error"
      ],
      "metadata": {
        "id": "t52jPad0mSTh"
      },
      "execution_count": null,
      "outputs": []
    },
    {
      "cell_type": "code",
      "source": [
        "regressor = GradientBoostingRegressor(\n",
        "    max_depth=5,\n",
        "    n_estimators=800,\n",
        "    learning_rate=0.15,\n",
        "    random_state=42 )\n",
        "regressor.fit(x_train, y_train)\n",
        "y_pred = regressor.predict(x_test)\n",
        "mean_absolute_error(y_test, y_pred)"
      ],
      "metadata": {
        "colab": {
          "base_uri": "https://localhost:8080/"
        },
        "id": "Yx-PrXXCmVlJ",
        "outputId": "996514c1-d66c-4bcb-830f-3cc6f67c47fb"
      },
      "execution_count": null,
      "outputs": [
        {
          "output_type": "execute_result",
          "data": {
            "text/plain": [
              "2.9318601627321246"
            ]
          },
          "metadata": {},
          "execution_count": 129
        }
      ]
    },
    {
      "cell_type": "markdown",
      "source": [
        "# **EXTREME GRADIENT BOOSTING**"
      ],
      "metadata": {
        "id": "fFSsy-gz-Qky"
      }
    },
    {
      "cell_type": "code",
      "source": [
        "from xgboost import XGBRegressor\n",
        "clf = XGBRegressor(n_estimators=750,\n",
        "                   learning_rate=0.15,\n",
        "                   max_depth=5,\n",
        "                   random_state=23)\n",
        "clf.fit(x_train, y_train)\n",
        "y_pred = clf.predict(x_test)\n",
        "eg=mean_absolute_error(y_test, y_pred)\n",
        "print(\"mean absolute error\",eg)"
      ],
      "metadata": {
        "colab": {
          "base_uri": "https://localhost:8080/"
        },
        "id": "rlASwYJq-c9u",
        "outputId": "63da8e46-8f74-427d-e96e-09ef1c80f2b3"
      },
      "execution_count": null,
      "outputs": [
        {
          "output_type": "stream",
          "name": "stdout",
          "text": [
            "[10:46:16] WARNING: /workspace/src/objective/regression_obj.cu:152: reg:linear is now deprecated in favor of reg:squarederror.\n",
            "mean absolute error 2.8415557635872104\n"
          ]
        }
      ]
    },
    {
      "cell_type": "markdown",
      "source": [
        "**extreme gradient boosting method 2**"
      ],
      "metadata": {
        "id": "37WvqsC7mk4Z"
      }
    },
    {
      "cell_type": "code",
      "source": [
        "from xgboost import XGBRegressor\n",
        "clf = XGBRegressor(n_estimators=400,\n",
        "                   learning_rate=0.15,\n",
        "                   max_depth=5,\n",
        "                   random_state=23)\n",
        "clf.fit(x_train, y_train)\n",
        "y_pred = clf.predict(x_test)\n",
        "eg=mean_absolute_error(y_test, y_pred)\n",
        "print(\"mean absolute error\",eg)"
      ],
      "metadata": {
        "colab": {
          "base_uri": "https://localhost:8080/"
        },
        "id": "2T8VZyjpmst0",
        "outputId": "5efc8a04-afdf-4ada-e0aa-6e4b6cd7699c"
      },
      "execution_count": null,
      "outputs": [
        {
          "output_type": "stream",
          "name": "stdout",
          "text": [
            "[10:46:17] WARNING: /workspace/src/objective/regression_obj.cu:152: reg:linear is now deprecated in favor of reg:squarederror.\n",
            "mean absolute error 2.865153878869362\n"
          ]
        }
      ]
    },
    {
      "cell_type": "markdown",
      "source": [
        "**extreme boosting method 3**"
      ],
      "metadata": {
        "id": "Y4okWvY9Kjl8"
      }
    },
    {
      "cell_type": "code",
      "source": [
        "from xgboost import XGBRegressor\n",
        "clf = XGBRegressor(n_estimators=600,\n",
        "                   learning_rate=0.15,\n",
        "                   max_depth=5,\n",
        "                   random_state=23)\n",
        "clf.fit(x_train, y_train)\n",
        "y_pred = clf.predict(x_test)\n",
        "eg=mean_absolute_error(y_test, y_pred)\n",
        "print(\"mean absolute error\",eg)"
      ],
      "metadata": {
        "colab": {
          "base_uri": "https://localhost:8080/"
        },
        "id": "x5Cf-IUnKom-",
        "outputId": "a9831aab-c6fb-4ef1-f9a7-386f9f47a903"
      },
      "execution_count": null,
      "outputs": [
        {
          "output_type": "stream",
          "name": "stdout",
          "text": [
            "[10:46:17] WARNING: /workspace/src/objective/regression_obj.cu:152: reg:linear is now deprecated in favor of reg:squarederror.\n",
            "mean absolute error 2.8455254270035084\n"
          ]
        }
      ]
    },
    {
      "cell_type": "markdown",
      "source": [
        "# **ADAPTIVE BOOSTING**"
      ],
      "metadata": {
        "id": "ZKOISLqP-tIJ"
      }
    },
    {
      "cell_type": "code",
      "source": [
        "from sklearn.ensemble import AdaBoostRegressor\n",
        "\n",
        "adaclf = AdaBoostRegressor( \n",
        "                           n_estimators=750,\n",
        "                           learning_rate=0.15,\n",
        "                           random_state=42)\n",
        "    \n",
        "adaclf.fit(x_train, y_train)\n",
        "y_pred_1 = adaclf.predict(x_test)\n",
        "ab=mean_absolute_error(y_test, y_pred_1)\n",
        "print(\"mean absolute eroor\",ab)"
      ],
      "metadata": {
        "colab": {
          "base_uri": "https://localhost:8080/"
        },
        "id": "T-tYvq5S-wgs",
        "outputId": "a11fa6ef-6c43-4da9-aede-11a6f5132fdf"
      },
      "execution_count": null,
      "outputs": [
        {
          "output_type": "stream",
          "name": "stdout",
          "text": [
            "mean absolute eroor 6.47043780975161\n"
          ]
        }
      ]
    },
    {
      "cell_type": "markdown",
      "source": [
        "**adaboost method 2**"
      ],
      "metadata": {
        "id": "3Gr6wf2XKP3w"
      }
    },
    {
      "cell_type": "code",
      "source": [
        "from sklearn.ensemble import AdaBoostRegressor\n",
        "\n",
        "adaclf = AdaBoostRegressor( \n",
        "                           n_estimators=650,\n",
        "                           learning_rate=0.15,\n",
        "                           random_state=23)\n",
        "    \n",
        "adaclf.fit(x_train, y_train)\n",
        "y_pred_1 = adaclf.predict(x_test)\n",
        "ab=mean_absolute_error(y_test, y_pred_1)\n",
        "print(\"mean absolute eroor\",ab)"
      ],
      "metadata": {
        "colab": {
          "base_uri": "https://localhost:8080/"
        },
        "id": "1CJGw8Y-KUFw",
        "outputId": "58af21d9-d329-4874-d4a7-1547638d5b4b"
      },
      "execution_count": null,
      "outputs": [
        {
          "output_type": "stream",
          "name": "stdout",
          "text": [
            "mean absolute eroor 6.425250420753397\n"
          ]
        }
      ]
    },
    {
      "cell_type": "markdown",
      "source": [
        "**adaboost method 3**"
      ],
      "metadata": {
        "id": "Q-ePOG5wK4Fa"
      }
    },
    {
      "cell_type": "code",
      "source": [
        "from sklearn.ensemble import AdaBoostRegressor\n",
        "\n",
        "adaclf = AdaBoostRegressor( \n",
        "                           n_estimators=350,\n",
        "                           learning_rate=0.15,\n",
        "                           random_state=42)\n",
        "    \n",
        "adaclf.fit(x_train, y_train)\n",
        "y_pred_1 = adaclf.predict(x_test)\n",
        "ab=mean_absolute_error(y_test, y_pred_1)\n",
        "print(\"mean absolute eroor\",ab)"
      ],
      "metadata": {
        "colab": {
          "base_uri": "https://localhost:8080/"
        },
        "id": "NgBtgaUmK741",
        "outputId": "76c93c4a-b013-408c-8d0b-ac73294c8745"
      },
      "execution_count": null,
      "outputs": [
        {
          "output_type": "stream",
          "name": "stdout",
          "text": [
            "mean absolute eroor 6.484675194367082\n"
          ]
        }
      ]
    }
  ],
  "metadata": {
    "colab": {
      "provenance": []
    },
    "kernelspec": {
      "display_name": "Python 3",
      "name": "python3"
    },
    "language_info": {
      "name": "python"
    }
  },
  "nbformat": 4,
  "nbformat_minor": 0
}