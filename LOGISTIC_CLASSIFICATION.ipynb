{
  "cells": [
    {
      "cell_type": "markdown",
      "metadata": {
        "id": "xIMIGoIL6jEo"
      },
      "source": [
        "# **IMPORTING STATEMENTS**"
      ]
    },
    {
      "cell_type": "code",
      "execution_count": 185,
      "metadata": {
        "id": "NLVwD-uS3cf5"
      },
      "outputs": [],
      "source": [
        "import pandas as pd\n",
        "import numpy as np\n",
        "\n",
        "import seaborn as sns\n",
        "import matplotlib.pyplot as plt\n",
        "\n",
        "from sklearn.model_selection import train_test_split\n",
        "from sklearn.linear_model import LogisticRegression\n",
        "from sklearn.metrics import confusion_matrix\n",
        "from sklearn.metrics import accuracy_score\n",
        "from sklearn.metrics import mean_squared_error\n",
        "from sklearn.metrics import r2_score\n",
        "from sklearn.metrics import classification_report\n",
        "from sklearn import metrics\n",
        "from sklearn.metrics import classification_report\n",
        "from sklearn.preprocessing import OneHotEncoder\n",
        "from sklearn.feature_selection import RFE\n",
        "import statsmodels.api as sm\n",
        "from imblearn.over_sampling import SMOTE\n",
        "\n",
        "import tensorflow as tf"
      ]
    },
    {
      "cell_type": "markdown",
      "metadata": {
        "id": "vIvGfgjo6vGN"
      },
      "source": [
        "# **LOADING THE DATA**"
      ]
    },
    {
      "cell_type": "code",
      "execution_count": 186,
      "metadata": {
        "colab": {
          "base_uri": "https://localhost:8080/",
          "height": 423
        },
        "id": "BqsrOJ2YBkbz",
        "outputId": "b0eba004-99d8-4fb1-97b0-a9b3b7aa8d10"
      },
      "outputs": [
        {
          "output_type": "execute_result",
          "data": {
            "text/plain": [
              "    Season   Age  Childish_diseases  Accident_trauma  Surgical_intervention  \\\n",
              "0    -0.33  0.69                  0                1                      1   \n",
              "1    -0.33  0.94                  1                0                      1   \n",
              "2    -0.33  0.50                  1                0                      0   \n",
              "3    -0.33  0.75                  0                1                      1   \n",
              "4    -0.33  0.67                  1                1                      0   \n",
              "..     ...   ...                ...              ...                    ...   \n",
              "95   -1.00  0.67                  1                0                      0   \n",
              "96   -1.00  0.61                  1                0                      0   \n",
              "97   -1.00  0.67                  1                1                      1   \n",
              "98   -1.00  0.64                  1                0                      1   \n",
              "99   -1.00  0.69                  0                1                      1   \n",
              "\n",
              "    High_fevers_time  ol_cons  Smoking  Sitting Output  \n",
              "0                  0      0.8        0     0.88      N  \n",
              "1                  0      0.8        1     0.31      O  \n",
              "2                  0      1.0       -1     0.50      N  \n",
              "3                  0      1.0       -1     0.38      N  \n",
              "4                  0      0.8       -1     0.50      O  \n",
              "..               ...      ...      ...      ...    ...  \n",
              "95                 0      1.0       -1     0.50      N  \n",
              "96                 0      0.8        0     0.50      N  \n",
              "97                 0      1.0       -1     0.31      N  \n",
              "98                 0      1.0        0     0.19      N  \n",
              "99                 0      0.6       -1     0.19      N  \n",
              "\n",
              "[100 rows x 10 columns]"
            ],
            "text/html": [
              "\n",
              "  <div id=\"df-a0525c2c-56a0-43ae-9cc6-011a363e3197\">\n",
              "    <div class=\"colab-df-container\">\n",
              "      <div>\n",
              "<style scoped>\n",
              "    .dataframe tbody tr th:only-of-type {\n",
              "        vertical-align: middle;\n",
              "    }\n",
              "\n",
              "    .dataframe tbody tr th {\n",
              "        vertical-align: top;\n",
              "    }\n",
              "\n",
              "    .dataframe thead th {\n",
              "        text-align: right;\n",
              "    }\n",
              "</style>\n",
              "<table border=\"1\" class=\"dataframe\">\n",
              "  <thead>\n",
              "    <tr style=\"text-align: right;\">\n",
              "      <th></th>\n",
              "      <th>Season</th>\n",
              "      <th>Age</th>\n",
              "      <th>Childish_diseases</th>\n",
              "      <th>Accident_trauma</th>\n",
              "      <th>Surgical_intervention</th>\n",
              "      <th>High_fevers_time</th>\n",
              "      <th>ol_cons</th>\n",
              "      <th>Smoking</th>\n",
              "      <th>Sitting</th>\n",
              "      <th>Output</th>\n",
              "    </tr>\n",
              "  </thead>\n",
              "  <tbody>\n",
              "    <tr>\n",
              "      <th>0</th>\n",
              "      <td>-0.33</td>\n",
              "      <td>0.69</td>\n",
              "      <td>0</td>\n",
              "      <td>1</td>\n",
              "      <td>1</td>\n",
              "      <td>0</td>\n",
              "      <td>0.8</td>\n",
              "      <td>0</td>\n",
              "      <td>0.88</td>\n",
              "      <td>N</td>\n",
              "    </tr>\n",
              "    <tr>\n",
              "      <th>1</th>\n",
              "      <td>-0.33</td>\n",
              "      <td>0.94</td>\n",
              "      <td>1</td>\n",
              "      <td>0</td>\n",
              "      <td>1</td>\n",
              "      <td>0</td>\n",
              "      <td>0.8</td>\n",
              "      <td>1</td>\n",
              "      <td>0.31</td>\n",
              "      <td>O</td>\n",
              "    </tr>\n",
              "    <tr>\n",
              "      <th>2</th>\n",
              "      <td>-0.33</td>\n",
              "      <td>0.50</td>\n",
              "      <td>1</td>\n",
              "      <td>0</td>\n",
              "      <td>0</td>\n",
              "      <td>0</td>\n",
              "      <td>1.0</td>\n",
              "      <td>-1</td>\n",
              "      <td>0.50</td>\n",
              "      <td>N</td>\n",
              "    </tr>\n",
              "    <tr>\n",
              "      <th>3</th>\n",
              "      <td>-0.33</td>\n",
              "      <td>0.75</td>\n",
              "      <td>0</td>\n",
              "      <td>1</td>\n",
              "      <td>1</td>\n",
              "      <td>0</td>\n",
              "      <td>1.0</td>\n",
              "      <td>-1</td>\n",
              "      <td>0.38</td>\n",
              "      <td>N</td>\n",
              "    </tr>\n",
              "    <tr>\n",
              "      <th>4</th>\n",
              "      <td>-0.33</td>\n",
              "      <td>0.67</td>\n",
              "      <td>1</td>\n",
              "      <td>1</td>\n",
              "      <td>0</td>\n",
              "      <td>0</td>\n",
              "      <td>0.8</td>\n",
              "      <td>-1</td>\n",
              "      <td>0.50</td>\n",
              "      <td>O</td>\n",
              "    </tr>\n",
              "    <tr>\n",
              "      <th>...</th>\n",
              "      <td>...</td>\n",
              "      <td>...</td>\n",
              "      <td>...</td>\n",
              "      <td>...</td>\n",
              "      <td>...</td>\n",
              "      <td>...</td>\n",
              "      <td>...</td>\n",
              "      <td>...</td>\n",
              "      <td>...</td>\n",
              "      <td>...</td>\n",
              "    </tr>\n",
              "    <tr>\n",
              "      <th>95</th>\n",
              "      <td>-1.00</td>\n",
              "      <td>0.67</td>\n",
              "      <td>1</td>\n",
              "      <td>0</td>\n",
              "      <td>0</td>\n",
              "      <td>0</td>\n",
              "      <td>1.0</td>\n",
              "      <td>-1</td>\n",
              "      <td>0.50</td>\n",
              "      <td>N</td>\n",
              "    </tr>\n",
              "    <tr>\n",
              "      <th>96</th>\n",
              "      <td>-1.00</td>\n",
              "      <td>0.61</td>\n",
              "      <td>1</td>\n",
              "      <td>0</td>\n",
              "      <td>0</td>\n",
              "      <td>0</td>\n",
              "      <td>0.8</td>\n",
              "      <td>0</td>\n",
              "      <td>0.50</td>\n",
              "      <td>N</td>\n",
              "    </tr>\n",
              "    <tr>\n",
              "      <th>97</th>\n",
              "      <td>-1.00</td>\n",
              "      <td>0.67</td>\n",
              "      <td>1</td>\n",
              "      <td>1</td>\n",
              "      <td>1</td>\n",
              "      <td>0</td>\n",
              "      <td>1.0</td>\n",
              "      <td>-1</td>\n",
              "      <td>0.31</td>\n",
              "      <td>N</td>\n",
              "    </tr>\n",
              "    <tr>\n",
              "      <th>98</th>\n",
              "      <td>-1.00</td>\n",
              "      <td>0.64</td>\n",
              "      <td>1</td>\n",
              "      <td>0</td>\n",
              "      <td>1</td>\n",
              "      <td>0</td>\n",
              "      <td>1.0</td>\n",
              "      <td>0</td>\n",
              "      <td>0.19</td>\n",
              "      <td>N</td>\n",
              "    </tr>\n",
              "    <tr>\n",
              "      <th>99</th>\n",
              "      <td>-1.00</td>\n",
              "      <td>0.69</td>\n",
              "      <td>0</td>\n",
              "      <td>1</td>\n",
              "      <td>1</td>\n",
              "      <td>0</td>\n",
              "      <td>0.6</td>\n",
              "      <td>-1</td>\n",
              "      <td>0.19</td>\n",
              "      <td>N</td>\n",
              "    </tr>\n",
              "  </tbody>\n",
              "</table>\n",
              "<p>100 rows × 10 columns</p>\n",
              "</div>\n",
              "      <button class=\"colab-df-convert\" onclick=\"convertToInteractive('df-a0525c2c-56a0-43ae-9cc6-011a363e3197')\"\n",
              "              title=\"Convert this dataframe to an interactive table.\"\n",
              "              style=\"display:none;\">\n",
              "        \n",
              "  <svg xmlns=\"http://www.w3.org/2000/svg\" height=\"24px\"viewBox=\"0 0 24 24\"\n",
              "       width=\"24px\">\n",
              "    <path d=\"M0 0h24v24H0V0z\" fill=\"none\"/>\n",
              "    <path d=\"M18.56 5.44l.94 2.06.94-2.06 2.06-.94-2.06-.94-.94-2.06-.94 2.06-2.06.94zm-11 1L8.5 8.5l.94-2.06 2.06-.94-2.06-.94L8.5 2.5l-.94 2.06-2.06.94zm10 10l.94 2.06.94-2.06 2.06-.94-2.06-.94-.94-2.06-.94 2.06-2.06.94z\"/><path d=\"M17.41 7.96l-1.37-1.37c-.4-.4-.92-.59-1.43-.59-.52 0-1.04.2-1.43.59L10.3 9.45l-7.72 7.72c-.78.78-.78 2.05 0 2.83L4 21.41c.39.39.9.59 1.41.59.51 0 1.02-.2 1.41-.59l7.78-7.78 2.81-2.81c.8-.78.8-2.07 0-2.86zM5.41 20L4 18.59l7.72-7.72 1.47 1.35L5.41 20z\"/>\n",
              "  </svg>\n",
              "      </button>\n",
              "      \n",
              "  <style>\n",
              "    .colab-df-container {\n",
              "      display:flex;\n",
              "      flex-wrap:wrap;\n",
              "      gap: 12px;\n",
              "    }\n",
              "\n",
              "    .colab-df-convert {\n",
              "      background-color: #E8F0FE;\n",
              "      border: none;\n",
              "      border-radius: 50%;\n",
              "      cursor: pointer;\n",
              "      display: none;\n",
              "      fill: #1967D2;\n",
              "      height: 32px;\n",
              "      padding: 0 0 0 0;\n",
              "      width: 32px;\n",
              "    }\n",
              "\n",
              "    .colab-df-convert:hover {\n",
              "      background-color: #E2EBFA;\n",
              "      box-shadow: 0px 1px 2px rgba(60, 64, 67, 0.3), 0px 1px 3px 1px rgba(60, 64, 67, 0.15);\n",
              "      fill: #174EA6;\n",
              "    }\n",
              "\n",
              "    [theme=dark] .colab-df-convert {\n",
              "      background-color: #3B4455;\n",
              "      fill: #D2E3FC;\n",
              "    }\n",
              "\n",
              "    [theme=dark] .colab-df-convert:hover {\n",
              "      background-color: #434B5C;\n",
              "      box-shadow: 0px 1px 3px 1px rgba(0, 0, 0, 0.15);\n",
              "      filter: drop-shadow(0px 1px 2px rgba(0, 0, 0, 0.3));\n",
              "      fill: #FFFFFF;\n",
              "    }\n",
              "  </style>\n",
              "\n",
              "      <script>\n",
              "        const buttonEl =\n",
              "          document.querySelector('#df-a0525c2c-56a0-43ae-9cc6-011a363e3197 button.colab-df-convert');\n",
              "        buttonEl.style.display =\n",
              "          google.colab.kernel.accessAllowed ? 'block' : 'none';\n",
              "\n",
              "        async function convertToInteractive(key) {\n",
              "          const element = document.querySelector('#df-a0525c2c-56a0-43ae-9cc6-011a363e3197');\n",
              "          const dataTable =\n",
              "            await google.colab.kernel.invokeFunction('convertToInteractive',\n",
              "                                                     [key], {});\n",
              "          if (!dataTable) return;\n",
              "\n",
              "          const docLinkHtml = 'Like what you see? Visit the ' +\n",
              "            '<a target=\"_blank\" href=https://colab.research.google.com/notebooks/data_table.ipynb>data table notebook</a>'\n",
              "            + ' to learn more about interactive tables.';\n",
              "          element.innerHTML = '';\n",
              "          dataTable['output_type'] = 'display_data';\n",
              "          await google.colab.output.renderOutput(dataTable, element);\n",
              "          const docLink = document.createElement('div');\n",
              "          docLink.innerHTML = docLinkHtml;\n",
              "          element.appendChild(docLink);\n",
              "        }\n",
              "      </script>\n",
              "    </div>\n",
              "  </div>\n",
              "  "
            ]
          },
          "metadata": {},
          "execution_count": 186
        }
      ],
      "source": [
        "data = pd.read_csv('/content/fertility.csv')\n",
        "data"
      ]
    },
    {
      "cell_type": "markdown",
      "source": [
        "Replaced our target variable Output in the form of 0's and 1's"
      ],
      "metadata": {
        "id": "QfktUEsjRp4L"
      }
    },
    {
      "cell_type": "code",
      "execution_count": 187,
      "metadata": {
        "id": "xEgoZJT9nLCH"
      },
      "outputs": [],
      "source": [
        "data[\"Output\"] = data[\"Output\"].replace({'N': 0, 'O': 1})"
      ]
    },
    {
      "cell_type": "code",
      "execution_count": 188,
      "metadata": {
        "colab": {
          "base_uri": "https://localhost:8080/",
          "height": 423
        },
        "id": "RJ4vNhP2opOb",
        "outputId": "be112b9d-bef0-4016-c833-b089e08ce589"
      },
      "outputs": [
        {
          "output_type": "execute_result",
          "data": {
            "text/plain": [
              "    Season   Age  Childish_diseases  Accident_trauma  Surgical_intervention  \\\n",
              "0    -0.33  0.69                  0                1                      1   \n",
              "1    -0.33  0.94                  1                0                      1   \n",
              "2    -0.33  0.50                  1                0                      0   \n",
              "3    -0.33  0.75                  0                1                      1   \n",
              "4    -0.33  0.67                  1                1                      0   \n",
              "..     ...   ...                ...              ...                    ...   \n",
              "95   -1.00  0.67                  1                0                      0   \n",
              "96   -1.00  0.61                  1                0                      0   \n",
              "97   -1.00  0.67                  1                1                      1   \n",
              "98   -1.00  0.64                  1                0                      1   \n",
              "99   -1.00  0.69                  0                1                      1   \n",
              "\n",
              "    High_fevers_time  ol_cons  Smoking  Sitting  Output  \n",
              "0                  0      0.8        0     0.88       0  \n",
              "1                  0      0.8        1     0.31       1  \n",
              "2                  0      1.0       -1     0.50       0  \n",
              "3                  0      1.0       -1     0.38       0  \n",
              "4                  0      0.8       -1     0.50       1  \n",
              "..               ...      ...      ...      ...     ...  \n",
              "95                 0      1.0       -1     0.50       0  \n",
              "96                 0      0.8        0     0.50       0  \n",
              "97                 0      1.0       -1     0.31       0  \n",
              "98                 0      1.0        0     0.19       0  \n",
              "99                 0      0.6       -1     0.19       0  \n",
              "\n",
              "[100 rows x 10 columns]"
            ],
            "text/html": [
              "\n",
              "  <div id=\"df-f6b7b673-b0c3-4507-a4e7-8b08ebb0bc19\">\n",
              "    <div class=\"colab-df-container\">\n",
              "      <div>\n",
              "<style scoped>\n",
              "    .dataframe tbody tr th:only-of-type {\n",
              "        vertical-align: middle;\n",
              "    }\n",
              "\n",
              "    .dataframe tbody tr th {\n",
              "        vertical-align: top;\n",
              "    }\n",
              "\n",
              "    .dataframe thead th {\n",
              "        text-align: right;\n",
              "    }\n",
              "</style>\n",
              "<table border=\"1\" class=\"dataframe\">\n",
              "  <thead>\n",
              "    <tr style=\"text-align: right;\">\n",
              "      <th></th>\n",
              "      <th>Season</th>\n",
              "      <th>Age</th>\n",
              "      <th>Childish_diseases</th>\n",
              "      <th>Accident_trauma</th>\n",
              "      <th>Surgical_intervention</th>\n",
              "      <th>High_fevers_time</th>\n",
              "      <th>ol_cons</th>\n",
              "      <th>Smoking</th>\n",
              "      <th>Sitting</th>\n",
              "      <th>Output</th>\n",
              "    </tr>\n",
              "  </thead>\n",
              "  <tbody>\n",
              "    <tr>\n",
              "      <th>0</th>\n",
              "      <td>-0.33</td>\n",
              "      <td>0.69</td>\n",
              "      <td>0</td>\n",
              "      <td>1</td>\n",
              "      <td>1</td>\n",
              "      <td>0</td>\n",
              "      <td>0.8</td>\n",
              "      <td>0</td>\n",
              "      <td>0.88</td>\n",
              "      <td>0</td>\n",
              "    </tr>\n",
              "    <tr>\n",
              "      <th>1</th>\n",
              "      <td>-0.33</td>\n",
              "      <td>0.94</td>\n",
              "      <td>1</td>\n",
              "      <td>0</td>\n",
              "      <td>1</td>\n",
              "      <td>0</td>\n",
              "      <td>0.8</td>\n",
              "      <td>1</td>\n",
              "      <td>0.31</td>\n",
              "      <td>1</td>\n",
              "    </tr>\n",
              "    <tr>\n",
              "      <th>2</th>\n",
              "      <td>-0.33</td>\n",
              "      <td>0.50</td>\n",
              "      <td>1</td>\n",
              "      <td>0</td>\n",
              "      <td>0</td>\n",
              "      <td>0</td>\n",
              "      <td>1.0</td>\n",
              "      <td>-1</td>\n",
              "      <td>0.50</td>\n",
              "      <td>0</td>\n",
              "    </tr>\n",
              "    <tr>\n",
              "      <th>3</th>\n",
              "      <td>-0.33</td>\n",
              "      <td>0.75</td>\n",
              "      <td>0</td>\n",
              "      <td>1</td>\n",
              "      <td>1</td>\n",
              "      <td>0</td>\n",
              "      <td>1.0</td>\n",
              "      <td>-1</td>\n",
              "      <td>0.38</td>\n",
              "      <td>0</td>\n",
              "    </tr>\n",
              "    <tr>\n",
              "      <th>4</th>\n",
              "      <td>-0.33</td>\n",
              "      <td>0.67</td>\n",
              "      <td>1</td>\n",
              "      <td>1</td>\n",
              "      <td>0</td>\n",
              "      <td>0</td>\n",
              "      <td>0.8</td>\n",
              "      <td>-1</td>\n",
              "      <td>0.50</td>\n",
              "      <td>1</td>\n",
              "    </tr>\n",
              "    <tr>\n",
              "      <th>...</th>\n",
              "      <td>...</td>\n",
              "      <td>...</td>\n",
              "      <td>...</td>\n",
              "      <td>...</td>\n",
              "      <td>...</td>\n",
              "      <td>...</td>\n",
              "      <td>...</td>\n",
              "      <td>...</td>\n",
              "      <td>...</td>\n",
              "      <td>...</td>\n",
              "    </tr>\n",
              "    <tr>\n",
              "      <th>95</th>\n",
              "      <td>-1.00</td>\n",
              "      <td>0.67</td>\n",
              "      <td>1</td>\n",
              "      <td>0</td>\n",
              "      <td>0</td>\n",
              "      <td>0</td>\n",
              "      <td>1.0</td>\n",
              "      <td>-1</td>\n",
              "      <td>0.50</td>\n",
              "      <td>0</td>\n",
              "    </tr>\n",
              "    <tr>\n",
              "      <th>96</th>\n",
              "      <td>-1.00</td>\n",
              "      <td>0.61</td>\n",
              "      <td>1</td>\n",
              "      <td>0</td>\n",
              "      <td>0</td>\n",
              "      <td>0</td>\n",
              "      <td>0.8</td>\n",
              "      <td>0</td>\n",
              "      <td>0.50</td>\n",
              "      <td>0</td>\n",
              "    </tr>\n",
              "    <tr>\n",
              "      <th>97</th>\n",
              "      <td>-1.00</td>\n",
              "      <td>0.67</td>\n",
              "      <td>1</td>\n",
              "      <td>1</td>\n",
              "      <td>1</td>\n",
              "      <td>0</td>\n",
              "      <td>1.0</td>\n",
              "      <td>-1</td>\n",
              "      <td>0.31</td>\n",
              "      <td>0</td>\n",
              "    </tr>\n",
              "    <tr>\n",
              "      <th>98</th>\n",
              "      <td>-1.00</td>\n",
              "      <td>0.64</td>\n",
              "      <td>1</td>\n",
              "      <td>0</td>\n",
              "      <td>1</td>\n",
              "      <td>0</td>\n",
              "      <td>1.0</td>\n",
              "      <td>0</td>\n",
              "      <td>0.19</td>\n",
              "      <td>0</td>\n",
              "    </tr>\n",
              "    <tr>\n",
              "      <th>99</th>\n",
              "      <td>-1.00</td>\n",
              "      <td>0.69</td>\n",
              "      <td>0</td>\n",
              "      <td>1</td>\n",
              "      <td>1</td>\n",
              "      <td>0</td>\n",
              "      <td>0.6</td>\n",
              "      <td>-1</td>\n",
              "      <td>0.19</td>\n",
              "      <td>0</td>\n",
              "    </tr>\n",
              "  </tbody>\n",
              "</table>\n",
              "<p>100 rows × 10 columns</p>\n",
              "</div>\n",
              "      <button class=\"colab-df-convert\" onclick=\"convertToInteractive('df-f6b7b673-b0c3-4507-a4e7-8b08ebb0bc19')\"\n",
              "              title=\"Convert this dataframe to an interactive table.\"\n",
              "              style=\"display:none;\">\n",
              "        \n",
              "  <svg xmlns=\"http://www.w3.org/2000/svg\" height=\"24px\"viewBox=\"0 0 24 24\"\n",
              "       width=\"24px\">\n",
              "    <path d=\"M0 0h24v24H0V0z\" fill=\"none\"/>\n",
              "    <path d=\"M18.56 5.44l.94 2.06.94-2.06 2.06-.94-2.06-.94-.94-2.06-.94 2.06-2.06.94zm-11 1L8.5 8.5l.94-2.06 2.06-.94-2.06-.94L8.5 2.5l-.94 2.06-2.06.94zm10 10l.94 2.06.94-2.06 2.06-.94-2.06-.94-.94-2.06-.94 2.06-2.06.94z\"/><path d=\"M17.41 7.96l-1.37-1.37c-.4-.4-.92-.59-1.43-.59-.52 0-1.04.2-1.43.59L10.3 9.45l-7.72 7.72c-.78.78-.78 2.05 0 2.83L4 21.41c.39.39.9.59 1.41.59.51 0 1.02-.2 1.41-.59l7.78-7.78 2.81-2.81c.8-.78.8-2.07 0-2.86zM5.41 20L4 18.59l7.72-7.72 1.47 1.35L5.41 20z\"/>\n",
              "  </svg>\n",
              "      </button>\n",
              "      \n",
              "  <style>\n",
              "    .colab-df-container {\n",
              "      display:flex;\n",
              "      flex-wrap:wrap;\n",
              "      gap: 12px;\n",
              "    }\n",
              "\n",
              "    .colab-df-convert {\n",
              "      background-color: #E8F0FE;\n",
              "      border: none;\n",
              "      border-radius: 50%;\n",
              "      cursor: pointer;\n",
              "      display: none;\n",
              "      fill: #1967D2;\n",
              "      height: 32px;\n",
              "      padding: 0 0 0 0;\n",
              "      width: 32px;\n",
              "    }\n",
              "\n",
              "    .colab-df-convert:hover {\n",
              "      background-color: #E2EBFA;\n",
              "      box-shadow: 0px 1px 2px rgba(60, 64, 67, 0.3), 0px 1px 3px 1px rgba(60, 64, 67, 0.15);\n",
              "      fill: #174EA6;\n",
              "    }\n",
              "\n",
              "    [theme=dark] .colab-df-convert {\n",
              "      background-color: #3B4455;\n",
              "      fill: #D2E3FC;\n",
              "    }\n",
              "\n",
              "    [theme=dark] .colab-df-convert:hover {\n",
              "      background-color: #434B5C;\n",
              "      box-shadow: 0px 1px 3px 1px rgba(0, 0, 0, 0.15);\n",
              "      filter: drop-shadow(0px 1px 2px rgba(0, 0, 0, 0.3));\n",
              "      fill: #FFFFFF;\n",
              "    }\n",
              "  </style>\n",
              "\n",
              "      <script>\n",
              "        const buttonEl =\n",
              "          document.querySelector('#df-f6b7b673-b0c3-4507-a4e7-8b08ebb0bc19 button.colab-df-convert');\n",
              "        buttonEl.style.display =\n",
              "          google.colab.kernel.accessAllowed ? 'block' : 'none';\n",
              "\n",
              "        async function convertToInteractive(key) {\n",
              "          const element = document.querySelector('#df-f6b7b673-b0c3-4507-a4e7-8b08ebb0bc19');\n",
              "          const dataTable =\n",
              "            await google.colab.kernel.invokeFunction('convertToInteractive',\n",
              "                                                     [key], {});\n",
              "          if (!dataTable) return;\n",
              "\n",
              "          const docLinkHtml = 'Like what you see? Visit the ' +\n",
              "            '<a target=\"_blank\" href=https://colab.research.google.com/notebooks/data_table.ipynb>data table notebook</a>'\n",
              "            + ' to learn more about interactive tables.';\n",
              "          element.innerHTML = '';\n",
              "          dataTable['output_type'] = 'display_data';\n",
              "          await google.colab.output.renderOutput(dataTable, element);\n",
              "          const docLink = document.createElement('div');\n",
              "          docLink.innerHTML = docLinkHtml;\n",
              "          element.appendChild(docLink);\n",
              "        }\n",
              "      </script>\n",
              "    </div>\n",
              "  </div>\n",
              "  "
            ]
          },
          "metadata": {},
          "execution_count": 188
        }
      ],
      "source": [
        "data"
      ]
    },
    {
      "cell_type": "code",
      "execution_count": 189,
      "metadata": {
        "colab": {
          "base_uri": "https://localhost:8080/"
        },
        "id": "TSFSIToHDmxZ",
        "outputId": "d9a2dd80-a407-458a-b5a5-2f57fd4b8155"
      },
      "outputs": [
        {
          "output_type": "stream",
          "name": "stdout",
          "text": [
            "<class 'pandas.core.frame.DataFrame'>\n",
            "RangeIndex: 100 entries, 0 to 99\n",
            "Data columns (total 10 columns):\n",
            " #   Column                 Non-Null Count  Dtype  \n",
            "---  ------                 --------------  -----  \n",
            " 0   Season                 100 non-null    float64\n",
            " 1   Age                    100 non-null    float64\n",
            " 2   Childish_diseases      100 non-null    int64  \n",
            " 3   Accident_trauma        100 non-null    int64  \n",
            " 4   Surgical_intervention  100 non-null    int64  \n",
            " 5   High_fevers_time       100 non-null    int64  \n",
            " 6   ol_cons                100 non-null    float64\n",
            " 7   Smoking                100 non-null    int64  \n",
            " 8   Sitting                100 non-null    float64\n",
            " 9   Output                 100 non-null    int64  \n",
            "dtypes: float64(4), int64(6)\n",
            "memory usage: 7.9 KB\n"
          ]
        }
      ],
      "source": [
        "data.info()"
      ]
    },
    {
      "cell_type": "code",
      "execution_count": 190,
      "metadata": {
        "colab": {
          "base_uri": "https://localhost:8080/"
        },
        "id": "0Oe6h2VtDvbo",
        "outputId": "a4d20f38-439d-42bd-a428-c1bf767b2c2b"
      },
      "outputs": [
        {
          "output_type": "execute_result",
          "data": {
            "text/plain": [
              "(100, 10)"
            ]
          },
          "metadata": {},
          "execution_count": 190
        }
      ],
      "source": [
        "data.shape"
      ]
    },
    {
      "cell_type": "code",
      "execution_count": 191,
      "metadata": {
        "colab": {
          "base_uri": "https://localhost:8080/",
          "height": 363
        },
        "id": "hc-GMOj-DxwQ",
        "outputId": "03d1bef4-4c90-4dce-8db8-38e315918024"
      },
      "outputs": [
        {
          "output_type": "execute_result",
          "data": {
            "text/plain": [
              "                       count    mean       std   min   25%   50%   75%  max\n",
              "Season                 100.0 -0.0789  0.796725 -1.00 -1.00 -0.33  1.00  1.0\n",
              "Age                    100.0  0.6690  0.121319  0.50  0.56  0.67  0.75  1.0\n",
              "Childish_diseases      100.0  0.8700  0.337998  0.00  1.00  1.00  1.00  1.0\n",
              "Accident_trauma        100.0  0.4400  0.498888  0.00  0.00  0.00  1.00  1.0\n",
              "Surgical_intervention  100.0  0.5100  0.502418  0.00  0.00  1.00  1.00  1.0\n",
              "High_fevers_time       100.0  0.1900  0.580752 -1.00  0.00  0.00  1.00  1.0\n",
              "ol_cons                100.0  0.8320  0.167501  0.20  0.80  0.80  1.00  1.0\n",
              "Smoking                100.0 -0.3500  0.808728 -1.00 -1.00 -1.00  0.00  1.0\n",
              "Sitting                100.0  0.4068  0.186395  0.06  0.25  0.38  0.50  1.0\n",
              "Output                 100.0  0.1200  0.326599  0.00  0.00  0.00  0.00  1.0"
            ],
            "text/html": [
              "\n",
              "  <div id=\"df-6d2438a7-5b8a-4f8f-af1f-15eab5a205e2\">\n",
              "    <div class=\"colab-df-container\">\n",
              "      <div>\n",
              "<style scoped>\n",
              "    .dataframe tbody tr th:only-of-type {\n",
              "        vertical-align: middle;\n",
              "    }\n",
              "\n",
              "    .dataframe tbody tr th {\n",
              "        vertical-align: top;\n",
              "    }\n",
              "\n",
              "    .dataframe thead th {\n",
              "        text-align: right;\n",
              "    }\n",
              "</style>\n",
              "<table border=\"1\" class=\"dataframe\">\n",
              "  <thead>\n",
              "    <tr style=\"text-align: right;\">\n",
              "      <th></th>\n",
              "      <th>count</th>\n",
              "      <th>mean</th>\n",
              "      <th>std</th>\n",
              "      <th>min</th>\n",
              "      <th>25%</th>\n",
              "      <th>50%</th>\n",
              "      <th>75%</th>\n",
              "      <th>max</th>\n",
              "    </tr>\n",
              "  </thead>\n",
              "  <tbody>\n",
              "    <tr>\n",
              "      <th>Season</th>\n",
              "      <td>100.0</td>\n",
              "      <td>-0.0789</td>\n",
              "      <td>0.796725</td>\n",
              "      <td>-1.00</td>\n",
              "      <td>-1.00</td>\n",
              "      <td>-0.33</td>\n",
              "      <td>1.00</td>\n",
              "      <td>1.0</td>\n",
              "    </tr>\n",
              "    <tr>\n",
              "      <th>Age</th>\n",
              "      <td>100.0</td>\n",
              "      <td>0.6690</td>\n",
              "      <td>0.121319</td>\n",
              "      <td>0.50</td>\n",
              "      <td>0.56</td>\n",
              "      <td>0.67</td>\n",
              "      <td>0.75</td>\n",
              "      <td>1.0</td>\n",
              "    </tr>\n",
              "    <tr>\n",
              "      <th>Childish_diseases</th>\n",
              "      <td>100.0</td>\n",
              "      <td>0.8700</td>\n",
              "      <td>0.337998</td>\n",
              "      <td>0.00</td>\n",
              "      <td>1.00</td>\n",
              "      <td>1.00</td>\n",
              "      <td>1.00</td>\n",
              "      <td>1.0</td>\n",
              "    </tr>\n",
              "    <tr>\n",
              "      <th>Accident_trauma</th>\n",
              "      <td>100.0</td>\n",
              "      <td>0.4400</td>\n",
              "      <td>0.498888</td>\n",
              "      <td>0.00</td>\n",
              "      <td>0.00</td>\n",
              "      <td>0.00</td>\n",
              "      <td>1.00</td>\n",
              "      <td>1.0</td>\n",
              "    </tr>\n",
              "    <tr>\n",
              "      <th>Surgical_intervention</th>\n",
              "      <td>100.0</td>\n",
              "      <td>0.5100</td>\n",
              "      <td>0.502418</td>\n",
              "      <td>0.00</td>\n",
              "      <td>0.00</td>\n",
              "      <td>1.00</td>\n",
              "      <td>1.00</td>\n",
              "      <td>1.0</td>\n",
              "    </tr>\n",
              "    <tr>\n",
              "      <th>High_fevers_time</th>\n",
              "      <td>100.0</td>\n",
              "      <td>0.1900</td>\n",
              "      <td>0.580752</td>\n",
              "      <td>-1.00</td>\n",
              "      <td>0.00</td>\n",
              "      <td>0.00</td>\n",
              "      <td>1.00</td>\n",
              "      <td>1.0</td>\n",
              "    </tr>\n",
              "    <tr>\n",
              "      <th>ol_cons</th>\n",
              "      <td>100.0</td>\n",
              "      <td>0.8320</td>\n",
              "      <td>0.167501</td>\n",
              "      <td>0.20</td>\n",
              "      <td>0.80</td>\n",
              "      <td>0.80</td>\n",
              "      <td>1.00</td>\n",
              "      <td>1.0</td>\n",
              "    </tr>\n",
              "    <tr>\n",
              "      <th>Smoking</th>\n",
              "      <td>100.0</td>\n",
              "      <td>-0.3500</td>\n",
              "      <td>0.808728</td>\n",
              "      <td>-1.00</td>\n",
              "      <td>-1.00</td>\n",
              "      <td>-1.00</td>\n",
              "      <td>0.00</td>\n",
              "      <td>1.0</td>\n",
              "    </tr>\n",
              "    <tr>\n",
              "      <th>Sitting</th>\n",
              "      <td>100.0</td>\n",
              "      <td>0.4068</td>\n",
              "      <td>0.186395</td>\n",
              "      <td>0.06</td>\n",
              "      <td>0.25</td>\n",
              "      <td>0.38</td>\n",
              "      <td>0.50</td>\n",
              "      <td>1.0</td>\n",
              "    </tr>\n",
              "    <tr>\n",
              "      <th>Output</th>\n",
              "      <td>100.0</td>\n",
              "      <td>0.1200</td>\n",
              "      <td>0.326599</td>\n",
              "      <td>0.00</td>\n",
              "      <td>0.00</td>\n",
              "      <td>0.00</td>\n",
              "      <td>0.00</td>\n",
              "      <td>1.0</td>\n",
              "    </tr>\n",
              "  </tbody>\n",
              "</table>\n",
              "</div>\n",
              "      <button class=\"colab-df-convert\" onclick=\"convertToInteractive('df-6d2438a7-5b8a-4f8f-af1f-15eab5a205e2')\"\n",
              "              title=\"Convert this dataframe to an interactive table.\"\n",
              "              style=\"display:none;\">\n",
              "        \n",
              "  <svg xmlns=\"http://www.w3.org/2000/svg\" height=\"24px\"viewBox=\"0 0 24 24\"\n",
              "       width=\"24px\">\n",
              "    <path d=\"M0 0h24v24H0V0z\" fill=\"none\"/>\n",
              "    <path d=\"M18.56 5.44l.94 2.06.94-2.06 2.06-.94-2.06-.94-.94-2.06-.94 2.06-2.06.94zm-11 1L8.5 8.5l.94-2.06 2.06-.94-2.06-.94L8.5 2.5l-.94 2.06-2.06.94zm10 10l.94 2.06.94-2.06 2.06-.94-2.06-.94-.94-2.06-.94 2.06-2.06.94z\"/><path d=\"M17.41 7.96l-1.37-1.37c-.4-.4-.92-.59-1.43-.59-.52 0-1.04.2-1.43.59L10.3 9.45l-7.72 7.72c-.78.78-.78 2.05 0 2.83L4 21.41c.39.39.9.59 1.41.59.51 0 1.02-.2 1.41-.59l7.78-7.78 2.81-2.81c.8-.78.8-2.07 0-2.86zM5.41 20L4 18.59l7.72-7.72 1.47 1.35L5.41 20z\"/>\n",
              "  </svg>\n",
              "      </button>\n",
              "      \n",
              "  <style>\n",
              "    .colab-df-container {\n",
              "      display:flex;\n",
              "      flex-wrap:wrap;\n",
              "      gap: 12px;\n",
              "    }\n",
              "\n",
              "    .colab-df-convert {\n",
              "      background-color: #E8F0FE;\n",
              "      border: none;\n",
              "      border-radius: 50%;\n",
              "      cursor: pointer;\n",
              "      display: none;\n",
              "      fill: #1967D2;\n",
              "      height: 32px;\n",
              "      padding: 0 0 0 0;\n",
              "      width: 32px;\n",
              "    }\n",
              "\n",
              "    .colab-df-convert:hover {\n",
              "      background-color: #E2EBFA;\n",
              "      box-shadow: 0px 1px 2px rgba(60, 64, 67, 0.3), 0px 1px 3px 1px rgba(60, 64, 67, 0.15);\n",
              "      fill: #174EA6;\n",
              "    }\n",
              "\n",
              "    [theme=dark] .colab-df-convert {\n",
              "      background-color: #3B4455;\n",
              "      fill: #D2E3FC;\n",
              "    }\n",
              "\n",
              "    [theme=dark] .colab-df-convert:hover {\n",
              "      background-color: #434B5C;\n",
              "      box-shadow: 0px 1px 3px 1px rgba(0, 0, 0, 0.15);\n",
              "      filter: drop-shadow(0px 1px 2px rgba(0, 0, 0, 0.3));\n",
              "      fill: #FFFFFF;\n",
              "    }\n",
              "  </style>\n",
              "\n",
              "      <script>\n",
              "        const buttonEl =\n",
              "          document.querySelector('#df-6d2438a7-5b8a-4f8f-af1f-15eab5a205e2 button.colab-df-convert');\n",
              "        buttonEl.style.display =\n",
              "          google.colab.kernel.accessAllowed ? 'block' : 'none';\n",
              "\n",
              "        async function convertToInteractive(key) {\n",
              "          const element = document.querySelector('#df-6d2438a7-5b8a-4f8f-af1f-15eab5a205e2');\n",
              "          const dataTable =\n",
              "            await google.colab.kernel.invokeFunction('convertToInteractive',\n",
              "                                                     [key], {});\n",
              "          if (!dataTable) return;\n",
              "\n",
              "          const docLinkHtml = 'Like what you see? Visit the ' +\n",
              "            '<a target=\"_blank\" href=https://colab.research.google.com/notebooks/data_table.ipynb>data table notebook</a>'\n",
              "            + ' to learn more about interactive tables.';\n",
              "          element.innerHTML = '';\n",
              "          dataTable['output_type'] = 'display_data';\n",
              "          await google.colab.output.renderOutput(dataTable, element);\n",
              "          const docLink = document.createElement('div');\n",
              "          docLink.innerHTML = docLinkHtml;\n",
              "          element.appendChild(docLink);\n",
              "        }\n",
              "      </script>\n",
              "    </div>\n",
              "  </div>\n",
              "  "
            ]
          },
          "metadata": {},
          "execution_count": 191
        }
      ],
      "source": [
        "data.describe().T"
      ]
    },
    {
      "cell_type": "code",
      "execution_count": 192,
      "metadata": {
        "colab": {
          "base_uri": "https://localhost:8080/",
          "height": 206
        },
        "id": "GlaCknKAEJK3",
        "outputId": "61414a6d-d166-428f-e3bb-aad17d7ad26d"
      },
      "outputs": [
        {
          "output_type": "execute_result",
          "data": {
            "text/plain": [
              "   Season   Age  Childish_diseases  Accident_trauma  Surgical_intervention  \\\n",
              "0   -0.33  0.69                  0                1                      1   \n",
              "1   -0.33  0.94                  1                0                      1   \n",
              "2   -0.33  0.50                  1                0                      0   \n",
              "3   -0.33  0.75                  0                1                      1   \n",
              "4   -0.33  0.67                  1                1                      0   \n",
              "\n",
              "   High_fevers_time  ol_cons  Smoking  Sitting  Output  \n",
              "0                 0      0.8        0     0.88       0  \n",
              "1                 0      0.8        1     0.31       1  \n",
              "2                 0      1.0       -1     0.50       0  \n",
              "3                 0      1.0       -1     0.38       0  \n",
              "4                 0      0.8       -1     0.50       1  "
            ],
            "text/html": [
              "\n",
              "  <div id=\"df-11a2ce74-a11a-404c-8add-26c8d0261fbf\">\n",
              "    <div class=\"colab-df-container\">\n",
              "      <div>\n",
              "<style scoped>\n",
              "    .dataframe tbody tr th:only-of-type {\n",
              "        vertical-align: middle;\n",
              "    }\n",
              "\n",
              "    .dataframe tbody tr th {\n",
              "        vertical-align: top;\n",
              "    }\n",
              "\n",
              "    .dataframe thead th {\n",
              "        text-align: right;\n",
              "    }\n",
              "</style>\n",
              "<table border=\"1\" class=\"dataframe\">\n",
              "  <thead>\n",
              "    <tr style=\"text-align: right;\">\n",
              "      <th></th>\n",
              "      <th>Season</th>\n",
              "      <th>Age</th>\n",
              "      <th>Childish_diseases</th>\n",
              "      <th>Accident_trauma</th>\n",
              "      <th>Surgical_intervention</th>\n",
              "      <th>High_fevers_time</th>\n",
              "      <th>ol_cons</th>\n",
              "      <th>Smoking</th>\n",
              "      <th>Sitting</th>\n",
              "      <th>Output</th>\n",
              "    </tr>\n",
              "  </thead>\n",
              "  <tbody>\n",
              "    <tr>\n",
              "      <th>0</th>\n",
              "      <td>-0.33</td>\n",
              "      <td>0.69</td>\n",
              "      <td>0</td>\n",
              "      <td>1</td>\n",
              "      <td>1</td>\n",
              "      <td>0</td>\n",
              "      <td>0.8</td>\n",
              "      <td>0</td>\n",
              "      <td>0.88</td>\n",
              "      <td>0</td>\n",
              "    </tr>\n",
              "    <tr>\n",
              "      <th>1</th>\n",
              "      <td>-0.33</td>\n",
              "      <td>0.94</td>\n",
              "      <td>1</td>\n",
              "      <td>0</td>\n",
              "      <td>1</td>\n",
              "      <td>0</td>\n",
              "      <td>0.8</td>\n",
              "      <td>1</td>\n",
              "      <td>0.31</td>\n",
              "      <td>1</td>\n",
              "    </tr>\n",
              "    <tr>\n",
              "      <th>2</th>\n",
              "      <td>-0.33</td>\n",
              "      <td>0.50</td>\n",
              "      <td>1</td>\n",
              "      <td>0</td>\n",
              "      <td>0</td>\n",
              "      <td>0</td>\n",
              "      <td>1.0</td>\n",
              "      <td>-1</td>\n",
              "      <td>0.50</td>\n",
              "      <td>0</td>\n",
              "    </tr>\n",
              "    <tr>\n",
              "      <th>3</th>\n",
              "      <td>-0.33</td>\n",
              "      <td>0.75</td>\n",
              "      <td>0</td>\n",
              "      <td>1</td>\n",
              "      <td>1</td>\n",
              "      <td>0</td>\n",
              "      <td>1.0</td>\n",
              "      <td>-1</td>\n",
              "      <td>0.38</td>\n",
              "      <td>0</td>\n",
              "    </tr>\n",
              "    <tr>\n",
              "      <th>4</th>\n",
              "      <td>-0.33</td>\n",
              "      <td>0.67</td>\n",
              "      <td>1</td>\n",
              "      <td>1</td>\n",
              "      <td>0</td>\n",
              "      <td>0</td>\n",
              "      <td>0.8</td>\n",
              "      <td>-1</td>\n",
              "      <td>0.50</td>\n",
              "      <td>1</td>\n",
              "    </tr>\n",
              "  </tbody>\n",
              "</table>\n",
              "</div>\n",
              "      <button class=\"colab-df-convert\" onclick=\"convertToInteractive('df-11a2ce74-a11a-404c-8add-26c8d0261fbf')\"\n",
              "              title=\"Convert this dataframe to an interactive table.\"\n",
              "              style=\"display:none;\">\n",
              "        \n",
              "  <svg xmlns=\"http://www.w3.org/2000/svg\" height=\"24px\"viewBox=\"0 0 24 24\"\n",
              "       width=\"24px\">\n",
              "    <path d=\"M0 0h24v24H0V0z\" fill=\"none\"/>\n",
              "    <path d=\"M18.56 5.44l.94 2.06.94-2.06 2.06-.94-2.06-.94-.94-2.06-.94 2.06-2.06.94zm-11 1L8.5 8.5l.94-2.06 2.06-.94-2.06-.94L8.5 2.5l-.94 2.06-2.06.94zm10 10l.94 2.06.94-2.06 2.06-.94-2.06-.94-.94-2.06-.94 2.06-2.06.94z\"/><path d=\"M17.41 7.96l-1.37-1.37c-.4-.4-.92-.59-1.43-.59-.52 0-1.04.2-1.43.59L10.3 9.45l-7.72 7.72c-.78.78-.78 2.05 0 2.83L4 21.41c.39.39.9.59 1.41.59.51 0 1.02-.2 1.41-.59l7.78-7.78 2.81-2.81c.8-.78.8-2.07 0-2.86zM5.41 20L4 18.59l7.72-7.72 1.47 1.35L5.41 20z\"/>\n",
              "  </svg>\n",
              "      </button>\n",
              "      \n",
              "  <style>\n",
              "    .colab-df-container {\n",
              "      display:flex;\n",
              "      flex-wrap:wrap;\n",
              "      gap: 12px;\n",
              "    }\n",
              "\n",
              "    .colab-df-convert {\n",
              "      background-color: #E8F0FE;\n",
              "      border: none;\n",
              "      border-radius: 50%;\n",
              "      cursor: pointer;\n",
              "      display: none;\n",
              "      fill: #1967D2;\n",
              "      height: 32px;\n",
              "      padding: 0 0 0 0;\n",
              "      width: 32px;\n",
              "    }\n",
              "\n",
              "    .colab-df-convert:hover {\n",
              "      background-color: #E2EBFA;\n",
              "      box-shadow: 0px 1px 2px rgba(60, 64, 67, 0.3), 0px 1px 3px 1px rgba(60, 64, 67, 0.15);\n",
              "      fill: #174EA6;\n",
              "    }\n",
              "\n",
              "    [theme=dark] .colab-df-convert {\n",
              "      background-color: #3B4455;\n",
              "      fill: #D2E3FC;\n",
              "    }\n",
              "\n",
              "    [theme=dark] .colab-df-convert:hover {\n",
              "      background-color: #434B5C;\n",
              "      box-shadow: 0px 1px 3px 1px rgba(0, 0, 0, 0.15);\n",
              "      filter: drop-shadow(0px 1px 2px rgba(0, 0, 0, 0.3));\n",
              "      fill: #FFFFFF;\n",
              "    }\n",
              "  </style>\n",
              "\n",
              "      <script>\n",
              "        const buttonEl =\n",
              "          document.querySelector('#df-11a2ce74-a11a-404c-8add-26c8d0261fbf button.colab-df-convert');\n",
              "        buttonEl.style.display =\n",
              "          google.colab.kernel.accessAllowed ? 'block' : 'none';\n",
              "\n",
              "        async function convertToInteractive(key) {\n",
              "          const element = document.querySelector('#df-11a2ce74-a11a-404c-8add-26c8d0261fbf');\n",
              "          const dataTable =\n",
              "            await google.colab.kernel.invokeFunction('convertToInteractive',\n",
              "                                                     [key], {});\n",
              "          if (!dataTable) return;\n",
              "\n",
              "          const docLinkHtml = 'Like what you see? Visit the ' +\n",
              "            '<a target=\"_blank\" href=https://colab.research.google.com/notebooks/data_table.ipynb>data table notebook</a>'\n",
              "            + ' to learn more about interactive tables.';\n",
              "          element.innerHTML = '';\n",
              "          dataTable['output_type'] = 'display_data';\n",
              "          await google.colab.output.renderOutput(dataTable, element);\n",
              "          const docLink = document.createElement('div');\n",
              "          docLink.innerHTML = docLinkHtml;\n",
              "          element.appendChild(docLink);\n",
              "        }\n",
              "      </script>\n",
              "    </div>\n",
              "  </div>\n",
              "  "
            ]
          },
          "metadata": {},
          "execution_count": 192
        }
      ],
      "source": [
        "data.head()"
      ]
    },
    {
      "cell_type": "code",
      "execution_count": 193,
      "metadata": {
        "colab": {
          "base_uri": "https://localhost:8080/"
        },
        "id": "eku6eTlbEel_",
        "outputId": "d1823d47-2bad-4af8-8805-5c7899c36b20"
      },
      "outputs": [
        {
          "output_type": "execute_result",
          "data": {
            "text/plain": [
              "Season                   0\n",
              "Age                      0\n",
              "Childish_diseases        0\n",
              "Accident_trauma          0\n",
              "Surgical_intervention    0\n",
              "High_fevers_time         0\n",
              "ol_cons                  0\n",
              "Smoking                  0\n",
              "Sitting                  0\n",
              "Output                   0\n",
              "dtype: int64"
            ]
          },
          "metadata": {},
          "execution_count": 193
        }
      ],
      "source": [
        "data.isna().sum()"
      ]
    },
    {
      "cell_type": "markdown",
      "metadata": {
        "id": "bNiiGMFo7Aj9"
      },
      "source": [
        "**No Null values are present in our dataset**"
      ]
    },
    {
      "cell_type": "code",
      "execution_count": 194,
      "metadata": {
        "id": "xh9tj_B1GAy9"
      },
      "outputs": [],
      "source": [
        "X = data.iloc[:, 1:-1].values\n",
        "Y = data.iloc[:, -1].values"
      ]
    },
    {
      "cell_type": "code",
      "execution_count": 195,
      "metadata": {
        "colab": {
          "base_uri": "https://localhost:8080/"
        },
        "id": "wVQjIp3wGIMV",
        "outputId": "570fcb0d-eccb-4416-ff5e-9ff8c53ac593"
      },
      "outputs": [
        {
          "output_type": "execute_result",
          "data": {
            "text/plain": [
              "(100, 8)"
            ]
          },
          "metadata": {},
          "execution_count": 195
        }
      ],
      "source": [
        "X.shape"
      ]
    },
    {
      "cell_type": "code",
      "execution_count": 196,
      "metadata": {
        "colab": {
          "base_uri": "https://localhost:8080/",
          "height": 297
        },
        "id": "rQrUeKm17iPP",
        "outputId": "224392d2-f74c-488e-b003-25fc06624116"
      },
      "outputs": [
        {
          "output_type": "execute_result",
          "data": {
            "text/plain": [
              "<matplotlib.axes._subplots.AxesSubplot at 0x7fdca9086490>"
            ]
          },
          "metadata": {},
          "execution_count": 196
        },
        {
          "output_type": "display_data",
          "data": {
            "text/plain": [
              "<Figure size 432x288 with 1 Axes>"
            ],
            "image/png": "[encoded data removed]"
          },
          "metadata": {
            "needs_background": "light"
          }
        }
      ],
      "source": [
        "sns.boxplot(data=data,x='Age')"
      ]
    },
    {
      "cell_type": "markdown",
      "metadata": {
        "id": "Zh9tVoR96I8v"
      },
      "source": []
    },
    {
      "cell_type": "markdown",
      "metadata": {
        "id": "-0iGsvfb6Jgv"
      },
      "source": [
        "# EXPLORATORY DATA ANALYSIS"
      ]
    },
    {
      "cell_type": "code",
      "source": [
        "sns.pairplot( data)"
      ],
      "metadata": {
        "id": "0uTlgY7KFfw5"
      },
      "execution_count": null,
      "outputs": []
    },
    {
      "cell_type": "code",
      "execution_count": null,
      "metadata": {
        "id": "gXWDDUNi6PKa"
      },
      "outputs": [],
      "source": [
        "sns.pairplot(data, x_vars=['Age','Childish_diseases','High_fevers_time','Smoking'], y_vars='Output',height=6,aspect=0.9)"
      ]
    },
    {
      "cell_type": "code",
      "execution_count": null,
      "metadata": {
        "id": "f6EGVpCNMjV3"
      },
      "outputs": [],
      "source": [
        "from matplotlib import pyplot as plt\n",
        "C1 = data.groupby('Age')['Output'].count()\n",
        "C1\n",
        "#plot count\n",
        "print(\"Plot 1\")\n",
        "C1.plot(kind=\"bar\", title=\"test\")\n",
        "plt.title(\"age vs op(count)\")\n",
        "plt.xlabel(\"age\")\n",
        "plt.ylabel(\"op\")\n",
        "plt.show();"
      ]
    },
    {
      "cell_type": "code",
      "execution_count": null,
      "metadata": {
        "id": "mVp4EbOZLSNB"
      },
      "outputs": [],
      "source": [
        "plt.figure(figsize=(10,9))\n",
        "sns.heatmap(data.corr(),annot=True, cmap='CMRmap')\n",
        "plt.title(\"Correlation Heatmap\")\n",
        "plt.show()"
      ]
    },
    {
      "cell_type": "code",
      "source": [
        "plt.figure(figsize=(10,10))\n",
        "explode=[0.1,0]\n",
        "data['Output'].value_counts().plot(kind='pie',autopct=\"%2i%%\",explode=explode)\n",
        "plt.legend()\n",
        "plt.show()"
      ],
      "metadata": {
        "id": "3pPG3I0VGaPK"
      },
      "execution_count": null,
      "outputs": []
    },
    {
      "cell_type": "code",
      "source": [
        "sns.lmplot(x=\"Accident_trauma\", y=\"Surgical_intervention\", hue=\"Output\", data=data, palette = 'inferno_r', height = 8)"
      ],
      "metadata": {
        "id": "EJLMeb_9Hwy-"
      },
      "execution_count": null,
      "outputs": []
    },
    {
      "cell_type": "code",
      "execution_count": null,
      "metadata": {
        "id": "liD-UOj71szw"
      },
      "outputs": [],
      "source": [
        "data.hist(figsize=(10,10))\n",
        "plt.show()"
      ]
    },
    {
      "cell_type": "code",
      "execution_count": null,
      "metadata": {
        "id": "qFsU4sAu4fIx"
      },
      "outputs": [],
      "source": [
        "plt.hist(data['Age'], color=\"orange\")"
      ]
    },
    {
      "cell_type": "markdown",
      "metadata": {
        "id": "W3sqIR9lgBhb"
      },
      "source": [
        "# LOGISTIC MODEL FITTING"
      ]
    },
    {
      "cell_type": "code",
      "execution_count": null,
      "metadata": {
        "id": "mYTu4pqWKSNB"
      },
      "outputs": [],
      "source": [
        "# independent variables\n",
        "x = data.drop(['Output'],axis=1)\n",
        "# dependent variables\n",
        "y = data['Output']"
      ]
    },
    {
      "cell_type": "code",
      "execution_count": null,
      "metadata": {
        "id": "UWZzlO4SKp86"
      },
      "outputs": [],
      "source": [
        "X_train, X_test, y_train, y_test = train_test_split(X, y, test_size=0.3, random_state=42)"
      ]
    },
    {
      "cell_type": "code",
      "execution_count": null,
      "metadata": {
        "id": "2dtq8ArzKva4"
      },
      "outputs": [],
      "source": [
        "lr_model = LogisticRegression(solver='liblinear')\n",
        "lr_model.fit(X_train,y_train);"
      ]
    },
    {
      "cell_type": "code",
      "execution_count": null,
      "metadata": {
        "id": "I_sDAMboK7jI"
      },
      "outputs": [],
      "source": [
        "from sklearn.metrics import plot_confusion_matrix,classification_report,plot_precision_recall_curve,plot_roc_curve"
      ]
    },
    {
      "cell_type": "code",
      "execution_count": null,
      "metadata": {
        "id": "5d7-9VaCK-CA"
      },
      "outputs": [],
      "source": [
        "def report(model):\n",
        "    preds = model.predict(X_test)\n",
        "    print(classification_report(preds,y_test))\n",
        "    plot_confusion_matrix(model,X_test,y_test)\n",
        "    plot_precision_recall_curve(model,X_test,y_test)\n",
        "    plot_roc_curve(model,X_test,y_test)"
      ]
    },
    {
      "cell_type": "code",
      "execution_count": null,
      "metadata": {
        "id": "iv0MEZb4LCCm"
      },
      "outputs": [],
      "source": [
        "print(\"LOGISTIC REGRESSION MODEL\")\n",
        "report(lr_model);"
      ]
    },
    {
      "cell_type": "markdown",
      "source": [
        "MODEL 2"
      ],
      "metadata": {
        "id": "A8_prRBf3sck"
      }
    },
    {
      "cell_type": "code",
      "source": [
        "# independent variables\n",
        "x = data.drop(['Output'],axis=1)\n",
        "# dependent variables\n",
        "y = data['Output']"
      ],
      "metadata": {
        "id": "duNPpJuk3raM"
      },
      "execution_count": null,
      "outputs": []
    },
    {
      "cell_type": "code",
      "source": [
        "X_train, X_test, y_train, y_test = train_test_split(X, y, test_size=0.2, random_state=42)"
      ],
      "metadata": {
        "id": "T3ABa1hU306V"
      },
      "execution_count": null,
      "outputs": []
    },
    {
      "cell_type": "code",
      "source": [
        "lr_model = LogisticRegression(solver='liblinear')\n",
        "lr_model.fit(X_train,y_train);"
      ],
      "metadata": {
        "id": "tVtdI01K4AAk"
      },
      "execution_count": null,
      "outputs": []
    },
    {
      "cell_type": "code",
      "source": [
        "from sklearn.metrics import plot_confusion_matrix,classification_report,plot_precision_recall_curve,plot_roc_curve"
      ],
      "metadata": {
        "id": "7SiDiAuH4G9q"
      },
      "execution_count": null,
      "outputs": []
    },
    {
      "cell_type": "code",
      "source": [
        "def report(model):\n",
        "    preds = model.predict(X_test)\n",
        "    print(classification_report(preds,y_test))\n",
        "    plot_confusion_matrix(model,X_test,y_test)\n",
        "    plot_precision_recall_curve(model,X_test,y_test)\n",
        "    plot_roc_curve(model,X_test,y_test)"
      ],
      "metadata": {
        "id": "VOdW1svj4PpE"
      },
      "execution_count": null,
      "outputs": []
    },
    {
      "cell_type": "code",
      "source": [
        "print(\"LOGISTIC REGRESSION MODEL\")\n",
        "report(lr_model);"
      ],
      "metadata": {
        "id": "RJhjy-fy4VrI"
      },
      "execution_count": null,
      "outputs": []
    },
    {
      "cell_type": "markdown",
      "source": [
        "MODEL 3"
      ],
      "metadata": {
        "id": "4ZxKhbAw4xuG"
      }
    },
    {
      "cell_type": "code",
      "source": [
        "# independent variables\n",
        "x = data.drop(['Output'],axis=1)\n",
        "# dependent variables\n",
        "y = data['Output']"
      ],
      "metadata": {
        "id": "46srzoFW4wvL"
      },
      "execution_count": null,
      "outputs": []
    },
    {
      "cell_type": "code",
      "source": [
        "X_train, X_test, y_train, y_test = train_test_split(X, y, test_size=0.25, random_state=42)"
      ],
      "metadata": {
        "id": "pw3XNJ8J4650"
      },
      "execution_count": null,
      "outputs": []
    },
    {
      "cell_type": "code",
      "source": [
        "lr_model = LogisticRegression(solver='liblinear')\n",
        "lr_model.fit(X_train,y_train);"
      ],
      "metadata": {
        "id": "Crvdowc65Eah"
      },
      "execution_count": null,
      "outputs": []
    },
    {
      "cell_type": "code",
      "source": [
        "from sklearn.metrics import plot_confusion_matrix,classification_report,plot_precision_recall_curve,plot_roc_curve"
      ],
      "metadata": {
        "id": "CeDVXxTi5Xsz"
      },
      "execution_count": null,
      "outputs": []
    },
    {
      "cell_type": "code",
      "source": [
        "def report(model):\n",
        "    preds = model.predict(X_test)\n",
        "    print(classification_report(preds,y_test))\n",
        "    plot_confusion_matrix(model,X_test,y_test)\n",
        "    plot_precision_recall_curve(model,X_test,y_test)\n",
        "    plot_roc_curve(model,X_test,y_test)"
      ],
      "metadata": {
        "id": "cG-jEhjG5rfx"
      },
      "execution_count": null,
      "outputs": []
    },
    {
      "cell_type": "code",
      "source": [
        "print(\"LOGISTIC REGRESSION MODEL\")\n",
        "report(lr_model);"
      ],
      "metadata": {
        "id": "8rdmy3la5tP3"
      },
      "execution_count": null,
      "outputs": []
    },
    {
      "cell_type": "markdown",
      "source": [
        "MODEL 4"
      ],
      "metadata": {
        "id": "N1T8V_Ms521N"
      }
    },
    {
      "cell_type": "code",
      "source": [
        "# independent variables\n",
        "x = data.drop(['Output'],axis=1)\n",
        "# dependent variables\n",
        "y = data['Output']"
      ],
      "metadata": {
        "id": "DcyeNeZe54sL"
      },
      "execution_count": null,
      "outputs": []
    },
    {
      "cell_type": "code",
      "source": [
        "X_train, X_test, y_train, y_test = train_test_split(X, y, test_size=0.4, random_state=42)"
      ],
      "metadata": {
        "id": "eOOO5IB5-cei"
      },
      "execution_count": null,
      "outputs": []
    },
    {
      "cell_type": "code",
      "source": [
        "lr_model = LogisticRegression(solver='liblinear')\n",
        "lr_model.fit(X_train,y_train);"
      ],
      "metadata": {
        "id": "SHf1jcOf-kcr"
      },
      "execution_count": null,
      "outputs": []
    },
    {
      "cell_type": "code",
      "source": [
        "from sklearn.metrics import plot_confusion_matrix,classification_report,plot_precision_recall_curve,plot_roc_curve"
      ],
      "metadata": {
        "id": "9jC7YZOP-pLi"
      },
      "execution_count": null,
      "outputs": []
    },
    {
      "cell_type": "code",
      "source": [
        "def report(model):\n",
        "    preds = model.predict(X_test)\n",
        "    print(classification_report(preds,y_test))\n",
        "    plot_confusion_matrix(model,X_test,y_test)\n",
        "    plot_precision_recall_curve(model,X_test,y_test)\n",
        "    plot_roc_curve(model,X_test,y_test)"
      ],
      "metadata": {
        "id": "mF6vawfQ-vYM"
      },
      "execution_count": null,
      "outputs": []
    },
    {
      "cell_type": "code",
      "source": [
        "print(\"LOGISTIC REGRESSION MODEL\")\n",
        "report(lr_model);"
      ],
      "metadata": {
        "id": "URPpPG7P-08D"
      },
      "execution_count": null,
      "outputs": []
    },
    {
      "cell_type": "markdown",
      "metadata": {
        "id": "21YoI5mZqLkO"
      },
      "source": [
        "# **NEURAL NETWORKS**"
      ]
    },
    {
      "cell_type": "code",
      "execution_count": null,
      "metadata": {
        "id": "KCSeVgxB8bjL"
      },
      "outputs": [],
      "source": [
        "X_train, X_test, y_train, y_test= train_test_split(x, y, test_size=0.25, random_state=42)\n",
        "y_test"
      ]
    },
    {
      "cell_type": "code",
      "execution_count": null,
      "metadata": {
        "id": "3gb4a3rM8kW5"
      },
      "outputs": [],
      "source": [
        "tf.random.set_seed(42)\n",
        "\n",
        "# STEP1: Creating the model\n",
        "\n",
        "model= tf.keras.Sequential([\n",
        "                            tf.keras.layers.Dense(9, activation='relu'),\n",
        "                            tf.keras.layers.Dense(12, activation='relu'),\n",
        "                            tf.keras.layers.Dense(6, activation='relu'),\n",
        "                            tf.keras.layers.Dense(3, activation='relu'),\n",
        "                            tf.keras.layers.Dense(1, activation='sigmoid')\n",
        "])\n",
        "\n",
        "# STEP2: Compiling the model\n",
        "\n",
        "model.compile(loss= tf.keras.losses.binary_crossentropy,\n",
        "              optimizer= tf.keras.optimizers.Adam(lr=0.01),\n",
        "              metrics= [tf.keras.metrics.BinaryAccuracy(name='accuracy'),\n",
        "                        tf.keras.metrics.Precision(name='precision'),\n",
        "                        tf.keras.metrics.Recall(name='a=recall')\n",
        "              ]\n",
        "              )\n",
        "\n",
        "# STEP 3: Fitting the model\n",
        "\n",
        "history= model.fit(X_train, y_train, epochs= 50)"
      ]
    },
    {
      "cell_type": "code",
      "execution_count": null,
      "metadata": {
        "id": "OKd4GCD9qEPn"
      },
      "outputs": [],
      "source": [
        "model.evaluate(X_test, y_test)"
      ]
    },
    {
      "cell_type": "code",
      "execution_count": null,
      "metadata": {
        "id": "HWr0msyJqWG3"
      },
      "outputs": [],
      "source": [
        "pd.DataFrame(history.history).plot()\n",
        "plt.ylabel(\"loss\")\n",
        "plt.xlabel(\"epochs\")"
      ]
    },
    {
      "cell_type": "code",
      "source": [
        "X_train, X_test, y_train, y_test= train_test_split(x, y, test_size=0.25, random_state=42)\n",
        "y_test"
      ],
      "metadata": {
        "id": "3PgZfmduyUbm"
      },
      "execution_count": null,
      "outputs": []
    },
    {
      "cell_type": "code",
      "source": [
        "tf.random.set_seed(42)\n",
        "\n",
        "# STEP1: Creating the model\n",
        "\n",
        "model= tf.keras.Sequential([\n",
        "                            tf.keras.layers.Dense(9, activation='relu'),\n",
        "                            tf.keras.layers.Dense(8, activation='relu'),\n",
        "                            tf.keras.layers.Dense(4, activation='relu'),\n",
        "                            tf.keras.layers.Dense(7, activation='relu'),\n",
        "                            tf.keras.layers.Dense(1, activation='sigmoid')\n",
        "])\n",
        "\n",
        "# STEP2: Compiling the model\n",
        "\n",
        "model.compile(loss= tf.keras.losses.binary_crossentropy,\n",
        "              optimizer= tf.keras.optimizers.Adam(lr=0.01),\n",
        "              metrics= [tf.keras.metrics.BinaryAccuracy(name='accuracy'),\n",
        "                        tf.keras.metrics.Precision(name='precision'),\n",
        "                        tf.keras.metrics.Recall(name='a=recall')\n",
        "              ]\n",
        "              )\n",
        "\n",
        "# STEP 3: Fitting the model\n",
        "\n",
        "history= model.fit(X_train, y_train, epochs= 100)"
      ],
      "metadata": {
        "id": "K8xIy4PFzOk1"
      },
      "execution_count": null,
      "outputs": []
    },
    {
      "cell_type": "code",
      "source": [
        "model.evaluate(X_test, y_test)"
      ],
      "metadata": {
        "id": "zPAM1Mk2zlGb"
      },
      "execution_count": null,
      "outputs": []
    },
    {
      "cell_type": "code",
      "source": [
        "pd.DataFrame(history.history).plot()\n",
        "plt.ylabel(\"loss\")\n",
        "plt.xlabel(\"epochs\")"
      ],
      "metadata": {
        "id": "udG1vQFt3gj_"
      },
      "execution_count": null,
      "outputs": []
    },
    {
      "cell_type": "code",
      "source": [
        "X_train, X_test, y_train, y_test= train_test_split(x, y, test_size=0.25, random_state=42)\n",
        "y_test"
      ],
      "metadata": {
        "id": "TBehwChk4JYj"
      },
      "execution_count": null,
      "outputs": []
    },
    {
      "cell_type": "code",
      "source": [
        "tf.random.set_seed(42)\n",
        "\n",
        "# STEP1: Creating the model\n",
        "\n",
        "model= tf.keras.Sequential([\n",
        "                            tf.keras.layers.Dense(9, activation='relu'),\n",
        "                            tf.keras.layers.Dense(5, activation='relu'),\n",
        "                            tf.keras.layers.Dense(6, activation='relu'),\n",
        "                            tf.keras.layers.Dense(8, activation='relu'),\n",
        "                            tf.keras.layers.Dense(1, activation='sigmoid')\n",
        "])\n",
        "\n",
        "# STEP2: Compiling the model\n",
        "\n",
        "model.compile(loss= tf.keras.losses.binary_crossentropy,\n",
        "              optimizer= tf.keras.optimizers.Adam(lr=0.01),\n",
        "              metrics= [tf.keras.metrics.BinaryAccuracy(name='accuracy'),\n",
        "                        tf.keras.metrics.Precision(name='precision'),\n",
        "                        tf.keras.metrics.Recall(name='a=recall')\n",
        "              ]\n",
        "              )\n",
        "\n",
        "# STEP 3: Fitting the model\n",
        "\n",
        "history= model.fit(X_train, y_train, epochs= 125)"
      ],
      "metadata": {
        "id": "mAiBIBid4Uai"
      },
      "execution_count": null,
      "outputs": []
    },
    {
      "cell_type": "code",
      "source": [
        "model.evaluate(X_test, y_test)"
      ],
      "metadata": {
        "id": "tgS8LVDd4c2-"
      },
      "execution_count": null,
      "outputs": []
    },
    {
      "cell_type": "code",
      "source": [
        "pd.DataFrame(history.history).plot()\n",
        "plt.ylabel(\"loss\")\n",
        "plt.xlabel(\"epochs\")"
      ],
      "metadata": {
        "id": "v6Hq54-q4ikb"
      },
      "execution_count": null,
      "outputs": []
    },
    {
      "cell_type": "markdown",
      "source": [],
      "metadata": {
        "id": "dqwwc7ugdSX0"
      }
    },
    {
      "cell_type": "code",
      "source": [
        "X_train, X_test, y_train, y_test= train_test_split(x, y, test_size=0.25, random_state=42)\n",
        "y_test"
      ],
      "metadata": {
        "id": "L-kkzRfr4s3f"
      },
      "execution_count": null,
      "outputs": []
    },
    {
      "cell_type": "code",
      "source": [
        "tf.random.set_seed(42)\n",
        "\n",
        "# STEP1: Creating the model\n",
        "\n",
        "model= tf.keras.Sequential([\n",
        "                            tf.keras.layers.Dense(9, activation='relu'),\n",
        "                            tf.keras.layers.Dense(8, activation='relu'),\n",
        "                            tf.keras.layers.Dense(8, activation='relu'),\n",
        "                            tf.keras.layers.Dense(5, activation='relu'),\n",
        "                            tf.keras.layers.Dense(1, activation='sigmoid')\n",
        "])\n",
        "\n",
        "# STEP2: Compiling the model\n",
        "\n",
        "model.compile(loss= tf.keras.losses.binary_crossentropy,\n",
        "              optimizer= tf.keras.optimizers.Adam(lr=0.01),\n",
        "              metrics= [tf.keras.metrics.BinaryAccuracy(name='accuracy'),\n",
        "                        tf.keras.metrics.Precision(name='precision'),\n",
        "                        tf.keras.metrics.Recall(name='a=recall')\n",
        "              ]\n",
        "              )\n",
        "\n",
        "# STEP 3: Fitting the model\n",
        "\n",
        "history= model.fit(X_train, y_train, epochs= 50)"
      ],
      "metadata": {
        "id": "Ly6X07gX42kn"
      },
      "execution_count": null,
      "outputs": []
    },
    {
      "cell_type": "code",
      "source": [
        "model.evaluate(X_test, y_test)"
      ],
      "metadata": {
        "id": "nHc15cBG52Pb"
      },
      "execution_count": null,
      "outputs": []
    },
    {
      "cell_type": "code",
      "source": [
        "pd.DataFrame(history.history).plot()\n",
        "plt.ylabel(\"loss\")\n",
        "plt.xlabel(\"epochs\")"
      ],
      "metadata": {
        "id": "QvbcEbqL6In1"
      },
      "execution_count": null,
      "outputs": []
    },
    {
      "cell_type": "code",
      "source": [
        "X_train, X_test, y_train, y_test= train_test_split(x, y, test_size=0.25, random_state=42)\n",
        "y_test"
      ],
      "metadata": {
        "id": "nvdTmHM26SyL"
      },
      "execution_count": null,
      "outputs": []
    },
    {
      "cell_type": "code",
      "source": [
        "tf.random.set_seed(42)\n",
        "\n",
        "# STEP1: Creating the model\n",
        "\n",
        "model= tf.keras.Sequential([\n",
        "                            tf.keras.layers.Dense(9, activation='relu'),\n",
        "                            tf.keras.layers.Dense(7, activation='relu'),\n",
        "                            tf.keras.layers.Dense(6, activation='relu'),\n",
        "                            tf.keras.layers.Dense(5, activation='relu'),\n",
        "                            tf.keras.layers.Dense(1, activation='sigmoid')\n",
        "])\n",
        "\n",
        "# STEP2: Compiling the model\n",
        "\n",
        "model.compile(loss= tf.keras.losses.binary_crossentropy,\n",
        "              optimizer= tf.keras.optimizers.Adam(lr=0.01),\n",
        "              metrics= [tf.keras.metrics.BinaryAccuracy(name='accuracy'),\n",
        "                        tf.keras.metrics.Precision(name='precision'),\n",
        "                        tf.keras.metrics.Recall(name='a=recall')\n",
        "              ]\n",
        "              )\n",
        "\n",
        "# STEP 3: Fitting the model\n",
        "\n",
        "history= model.fit(X_train, y_train, epochs= 75)"
      ],
      "metadata": {
        "id": "v85FJvkb6e8g"
      },
      "execution_count": null,
      "outputs": []
    },
    {
      "cell_type": "code",
      "source": [
        "model.evaluate(X_test, y_test)"
      ],
      "metadata": {
        "id": "kbfcvfVo6sTa"
      },
      "execution_count": null,
      "outputs": []
    },
    {
      "cell_type": "code",
      "source": [
        "pd.DataFrame(history.history).plot()\n",
        "plt.ylabel(\"loss\")\n",
        "plt.xlabel(\"epochs\")"
      ],
      "metadata": {
        "id": "kbZjQVxL7CJo"
      },
      "execution_count": null,
      "outputs": []
    },
    {
      "cell_type": "code",
      "source": [
        "X_train, X_test, y_train, y_test= train_test_split(x, y, test_size=0.25, random_state=42)\n",
        "y_test"
      ],
      "metadata": {
        "id": "_Fjs1Vv17IGn"
      },
      "execution_count": null,
      "outputs": []
    },
    {
      "cell_type": "code",
      "source": [
        "tf.random.set_seed(42)\n",
        "\n",
        "# STEP1: Creating the model\n",
        "\n",
        "model= tf.keras.Sequential([\n",
        "                            tf.keras.layers.Dense(9, activation='relu'),\n",
        "                            tf.keras.layers.Dense(6, activation='relu'),\n",
        "                            tf.keras.layers.Dense(7, activation='relu'),\n",
        "                            tf.keras.layers.Dense(2, activation='relu'),\n",
        "                            tf.keras.layers.Dense(1, activation='sigmoid')\n",
        "])\n",
        "\n",
        "# STEP2: Compiling the model\n",
        "\n",
        "model.compile(loss= tf.keras.losses.binary_crossentropy,\n",
        "              optimizer= tf.keras.optimizers.Adam(lr=0.01),\n",
        "              metrics= [tf.keras.metrics.BinaryAccuracy(name='accuracy'),\n",
        "                        tf.keras.metrics.Precision(name='precision'),\n",
        "                        tf.keras.metrics.Recall(name='a=recall')\n",
        "              ]\n",
        "              )\n",
        "\n",
        "# STEP 3: Fitting the model\n",
        "\n",
        "history= model.fit(X_train, y_train, epochs= 75)"
      ],
      "metadata": {
        "id": "JU-OJZlM7Ttw"
      },
      "execution_count": null,
      "outputs": []
    },
    {
      "cell_type": "code",
      "source": [
        "model.evaluate(X_test, y_test)"
      ],
      "metadata": {
        "id": "tLHtROb57jAV"
      },
      "execution_count": null,
      "outputs": []
    },
    {
      "cell_type": "code",
      "source": [
        "pd.DataFrame(history.history).plot()\n",
        "plt.ylabel(\"loss\")\n",
        "plt.xlabel(\"epochs\")"
      ],
      "metadata": {
        "id": "iHQ7oVtT8MvH"
      },
      "execution_count": null,
      "outputs": []
    },
    {
      "cell_type": "code",
      "source": [
        "X_train, X_test, y_train, y_test= train_test_split(x, y, test_size=0.25, random_state=42)\n",
        "y_test"
      ],
      "metadata": {
        "id": "O81xl8m18VGa"
      },
      "execution_count": null,
      "outputs": []
    },
    {
      "cell_type": "code",
      "source": [
        "tf.random.set_seed(42)\n",
        "\n",
        "# STEP1: Creating the model\n",
        "\n",
        "model= tf.keras.Sequential([\n",
        "                            tf.keras.layers.Dense(9, activation='relu'),\n",
        "                            tf.keras.layers.Dense(5, activation='relu'),\n",
        "                            tf.keras.layers.Dense(5, activation='relu'),\n",
        "                            tf.keras.layers.Dense(5, activation='relu'),\n",
        "                            tf.keras.layers.Dense(1, activation='sigmoid')\n",
        "])\n",
        "\n",
        "# STEP2: Compiling the model\n",
        "\n",
        "model.compile(loss= tf.keras.losses.binary_crossentropy,\n",
        "              optimizer= tf.keras.optimizers.Adam(lr=0.01),\n",
        "              metrics= [tf.keras.metrics.BinaryAccuracy(name='accuracy'),\n",
        "                        tf.keras.metrics.Precision(name='precision'),\n",
        "                        tf.keras.metrics.Recall(name='a=recall')\n",
        "              ]\n",
        "              )\n",
        "\n",
        "# STEP 3: Fitting the model\n",
        "\n",
        "history= model.fit(X_train, y_train, epochs= 70)"
      ],
      "metadata": {
        "id": "IJXdmVRx8YNi"
      },
      "execution_count": null,
      "outputs": []
    },
    {
      "cell_type": "code",
      "source": [
        "model.evaluate(X_test, y_test)"
      ],
      "metadata": {
        "id": "ZysAKtIO8cB4"
      },
      "execution_count": null,
      "outputs": []
    },
    {
      "cell_type": "code",
      "source": [
        "pd.DataFrame(history.history).plot()\n",
        "plt.ylabel(\"loss\")\n",
        "plt.xlabel(\"epochs\")"
      ],
      "metadata": {
        "id": "JNE_f3Gs8dG7"
      },
      "execution_count": null,
      "outputs": []
    },
    {
      "cell_type": "code",
      "source": [
        "X_train, X_test, y_train, y_test= train_test_split(x, y, test_size=0.25, random_state=42)\n",
        "y_test"
      ],
      "metadata": {
        "id": "qZHSOclH9SpL"
      },
      "execution_count": null,
      "outputs": []
    },
    {
      "cell_type": "code",
      "source": [
        "tf.random.set_seed(42)\n",
        "\n",
        "# STEP1: Creating the model\n",
        "\n",
        "model= tf.keras.Sequential([\n",
        "                            tf.keras.layers.Dense(9, activation='relu'),\n",
        "                            tf.keras.layers.Dense(2, activation='relu'),\n",
        "                            tf.keras.layers.Dense(3, activation='relu'),\n",
        "                            tf.keras.layers.Dense(4, activation='relu'),\n",
        "                            tf.keras.layers.Dense(1, activation='sigmoid')\n",
        "])\n",
        "\n",
        "# STEP2: Compiling the model\n",
        "\n",
        "model.compile(loss= tf.keras.losses.binary_crossentropy,\n",
        "              optimizer= tf.keras.optimizers.Adam(lr=0.01),\n",
        "              metrics= [tf.keras.metrics.BinaryAccuracy(name='accuracy'),\n",
        "                        tf.keras.metrics.Precision(name='precision'),\n",
        "                        tf.keras.metrics.Recall(name='a=recall')\n",
        "              ]\n",
        "              )\n",
        "\n",
        "# STEP 3: Fitting the model\n",
        "\n",
        "history= model.fit(X_train, y_train, epochs= 80)"
      ],
      "metadata": {
        "id": "lEEt8_fk9TNS"
      },
      "execution_count": null,
      "outputs": []
    },
    {
      "cell_type": "code",
      "source": [
        "model.evaluate(X_test, y_test)"
      ],
      "metadata": {
        "id": "ALccMVYu9Tx7"
      },
      "execution_count": null,
      "outputs": []
    },
    {
      "cell_type": "code",
      "source": [
        "pd.DataFrame(history.history).plot()\n",
        "plt.ylabel(\"loss\")\n",
        "plt.xlabel(\"epochs\")"
      ],
      "metadata": {
        "id": "7GZlbxo69UTx"
      },
      "execution_count": null,
      "outputs": []
    },
    {
      "cell_type": "code",
      "source": [
        "X_train, X_test, y_train, y_test= train_test_split(x, y, test_size=0.25, random_state=42)\n",
        "y_test"
      ],
      "metadata": {
        "id": "uFROVt8-9yo3"
      },
      "execution_count": null,
      "outputs": []
    },
    {
      "cell_type": "code",
      "source": [
        "tf.random.set_seed(42)\n",
        "\n",
        "# STEP1: Creating the model\n",
        "\n",
        "model= tf.keras.Sequential([\n",
        "                            tf.keras.layers.Dense(9, activation='relu'),\n",
        "                            tf.keras.layers.Dense(3, activation='relu'),\n",
        "                            tf.keras.layers.Dense(4, activation='relu'),\n",
        "                            tf.keras.layers.Dense(6, activation='relu'),\n",
        "                            tf.keras.layers.Dense(1, activation='sigmoid')\n",
        "])\n",
        "\n",
        "# STEP2: Compiling the model\n",
        "\n",
        "model.compile(loss= tf.keras.losses.binary_crossentropy,\n",
        "              optimizer= tf.keras.optimizers.Adam(lr=0.01),\n",
        "              metrics= [tf.keras.metrics.BinaryAccuracy(name='accuracy'),\n",
        "                        tf.keras.metrics.Precision(name='precision'),\n",
        "                        tf.keras.metrics.Recall(name='a=recall')\n",
        "              ]\n",
        "              )\n",
        "\n",
        "# STEP 3: Fitting the model\n",
        "\n",
        "history= model.fit(X_train, y_train, epochs= 90)"
      ],
      "metadata": {
        "id": "IovGIBVe9zKb"
      },
      "execution_count": null,
      "outputs": []
    },
    {
      "cell_type": "code",
      "source": [
        "model.evaluate(X_test, y_test)"
      ],
      "metadata": {
        "id": "y1HB2P8C9znm"
      },
      "execution_count": null,
      "outputs": []
    },
    {
      "cell_type": "code",
      "source": [
        "pd.DataFrame(history.history).plot()\n",
        "plt.ylabel(\"loss\")\n",
        "plt.xlabel(\"epochs\")"
      ],
      "metadata": {
        "id": "46hd_syy90H3"
      },
      "execution_count": null,
      "outputs": []
    },
    {
      "cell_type": "code",
      "source": [
        "X_train, X_test, y_train, y_test= train_test_split(x, y, test_size=0.25, random_state=42)\n",
        "y_test"
      ],
      "metadata": {
        "id": "jIC8-rwo-XQU"
      },
      "execution_count": null,
      "outputs": []
    },
    {
      "cell_type": "code",
      "source": [
        "tf.random.set_seed(42)\n",
        "\n",
        "# STEP1: Creating the model\n",
        "\n",
        "model= tf.keras.Sequential([\n",
        "                            tf.keras.layers.Dense(9, activation='relu'),\n",
        "                            tf.keras.layers.Dense(5, activation='relu'),\n",
        "                            tf.keras.layers.Dense(6, activation='relu'),\n",
        "                            tf.keras.layers.Dense(7, activation='relu'),\n",
        "                            tf.keras.layers.Dense(1, activation='sigmoid')\n",
        "])\n",
        "\n",
        "# STEP2: Compiling the model\n",
        "\n",
        "model.compile(loss= tf.keras.losses.binary_crossentropy,\n",
        "              optimizer= tf.keras.optimizers.Adam(lr=0.01),\n",
        "              metrics= [tf.keras.metrics.BinaryAccuracy(name='accuracy'),\n",
        "                        tf.keras.metrics.Precision(name='precision'),\n",
        "                        tf.keras.metrics.Recall(name='a=recall')\n",
        "              ]\n",
        "              )\n",
        "\n",
        "# STEP 3: Fitting the model\n",
        "\n",
        "history= model.fit(X_train, y_train, epochs= 75)"
      ],
      "metadata": {
        "id": "oOHEi5P--XIl"
      },
      "execution_count": null,
      "outputs": []
    },
    {
      "cell_type": "code",
      "source": [
        "model.evaluate(X_test, y_test)"
      ],
      "metadata": {
        "id": "MkhieiF_-W8k"
      },
      "execution_count": null,
      "outputs": []
    },
    {
      "cell_type": "code",
      "source": [
        "pd.DataFrame(history.history).plot()\n",
        "plt.ylabel(\"loss\")\n",
        "plt.xlabel(\"epochs\")"
      ],
      "metadata": {
        "id": "iqrJ1i_f-WpP"
      },
      "execution_count": null,
      "outputs": []
    },
    {
      "cell_type": "code",
      "source": [
        "X_train, X_test, y_train, y_test= train_test_split(x, y, test_size=0.25, random_state=42)\n",
        "y_test"
      ],
      "metadata": {
        "id": "Sx5E6tUo-979"
      },
      "execution_count": null,
      "outputs": []
    },
    {
      "cell_type": "code",
      "source": [
        "tf.random.set_seed(42)\n",
        "\n",
        "# STEP1: Creating the model\n",
        "\n",
        "model= tf.keras.Sequential([\n",
        "                            tf.keras.layers.Dense(9, activation='relu'),\n",
        "                            tf.keras.layers.Dense(7, activation='relu'),\n",
        "                            tf.keras.layers.Dense(8, activation='relu'),\n",
        "                            tf.keras.layers.Dense(9, activation='relu'),\n",
        "                            tf.keras.layers.Dense(1, activation='sigmoid')\n",
        "])\n",
        "\n",
        "# STEP2: Compiling the model\n",
        "\n",
        "model.compile(loss= tf.keras.losses.binary_crossentropy,\n",
        "              optimizer= tf.keras.optimizers.Adam(lr=0.01),\n",
        "              metrics= [tf.keras.metrics.BinaryAccuracy(name='accuracy'),\n",
        "                        tf.keras.metrics.Precision(name='precision'),\n",
        "                        tf.keras.metrics.Recall(name='a=recall')\n",
        "              ]\n",
        "              )\n",
        "\n",
        "# STEP 3: Fitting the model\n",
        "\n",
        "history= model.fit(X_train, y_train, epochs= 105)"
      ],
      "metadata": {
        "id": "MOK3ecHg-94y"
      },
      "execution_count": null,
      "outputs": []
    },
    {
      "cell_type": "code",
      "source": [
        "model.evaluate(X_test, y_test)"
      ],
      "metadata": {
        "id": "QIgcBJ6S-91_"
      },
      "execution_count": null,
      "outputs": []
    },
    {
      "cell_type": "code",
      "source": [
        "pd.DataFrame(history.history).plot()\n",
        "plt.ylabel(\"loss\")\n",
        "plt.xlabel(\"epochs\")"
      ],
      "metadata": {
        "id": "m1qKx9r4-9yy"
      },
      "execution_count": null,
      "outputs": []
    },
    {
      "cell_type": "code",
      "source": [
        "X_train, X_test, y_train, y_test= train_test_split(x, y, test_size=0.25, random_state=42)\n",
        "y_test"
      ],
      "metadata": {
        "id": "45Tv7d6-_ZX4"
      },
      "execution_count": null,
      "outputs": []
    },
    {
      "cell_type": "code",
      "source": [
        "tf.random.set_seed(42)\n",
        "\n",
        "# STEP1: Creating the model\n",
        "\n",
        "model= tf.keras.Sequential([\n",
        "                            tf.keras.layers.Dense(9, activation='relu'),\n",
        "                            tf.keras.layers.Dense(10, activation='relu'),\n",
        "                            tf.keras.layers.Dense(1, activation='relu'),\n",
        "                            tf.keras.layers.Dense(2, activation='relu'),\n",
        "                            tf.keras.layers.Dense(1, activation='sigmoid')\n",
        "])\n",
        "\n",
        "# STEP2: Compiling the model\n",
        "\n",
        "model.compile(loss= tf.keras.losses.binary_crossentropy,\n",
        "              optimizer= tf.keras.optimizers.Adam(lr=0.01),\n",
        "              metrics= [tf.keras.metrics.BinaryAccuracy(name='accuracy'),\n",
        "                        tf.keras.metrics.Precision(name='precision'),\n",
        "                        tf.keras.metrics.Recall(name='a=recall')\n",
        "              ]\n",
        "              )\n",
        "\n",
        "# STEP 3: Fitting the model\n",
        "\n",
        "history= model.fit(X_train, y_train, epochs= 205)"
      ],
      "metadata": {
        "id": "Gf_jarVX_ZUc"
      },
      "execution_count": null,
      "outputs": []
    },
    {
      "cell_type": "code",
      "source": [
        "model.evaluate(X_test, y_test)"
      ],
      "metadata": {
        "id": "j6RYlbrX_ZRa"
      },
      "execution_count": null,
      "outputs": []
    },
    {
      "cell_type": "code",
      "source": [
        "pd.DataFrame(history.history).plot()\n",
        "plt.ylabel(\"loss\")\n",
        "plt.xlabel(\"epochs\")"
      ],
      "metadata": {
        "id": "8SyydM3N_ZNz"
      },
      "execution_count": null,
      "outputs": []
    },
    {
      "cell_type": "code",
      "source": [
        "X_train, X_test, y_train, y_test= train_test_split(x, y, test_size=0.25, random_state=42)\n",
        "y_test"
      ],
      "metadata": {
        "id": "-s8MQQbV_2X4"
      },
      "execution_count": null,
      "outputs": []
    },
    {
      "cell_type": "code",
      "source": [
        "tf.random.set_seed(42)\n",
        "\n",
        "# STEP1: Creating the model\n",
        "\n",
        "model= tf.keras.Sequential([\n",
        "                            tf.keras.layers.Dense(9, activation='relu'),\n",
        "                            tf.keras.layers.Dense(8, activation='relu'),\n",
        "                            tf.keras.layers.Dense(7, activation='relu'),\n",
        "                            tf.keras.layers.Dense(2, activation='relu'),\n",
        "                            tf.keras.layers.Dense(1, activation='sigmoid')\n",
        "])\n",
        "\n",
        "# STEP2: Compiling the model\n",
        "\n",
        "model.compile(loss= tf.keras.losses.binary_crossentropy,\n",
        "              optimizer= tf.keras.optimizers.Adam(lr=0.01),\n",
        "              metrics= [tf.keras.metrics.BinaryAccuracy(name='accuracy'),\n",
        "                        tf.keras.metrics.Precision(name='precision'),\n",
        "                        tf.keras.metrics.Recall(name='a=recall')\n",
        "              ]\n",
        "              )\n",
        "\n",
        "# STEP 3: Fitting the model\n",
        "\n",
        "history= model.fit(X_train, y_train, epochs= 100)"
      ],
      "metadata": {
        "id": "x_NF1V2y_2UO"
      },
      "execution_count": null,
      "outputs": []
    },
    {
      "cell_type": "code",
      "source": [
        "model.evaluate(X_test, y_test)"
      ],
      "metadata": {
        "id": "Iwy4J5V-_2SU"
      },
      "execution_count": null,
      "outputs": []
    },
    {
      "cell_type": "code",
      "source": [
        "pd.DataFrame(history.history).plot()\n",
        "plt.ylabel(\"loss\")\n",
        "plt.xlabel(\"epochs\")"
      ],
      "metadata": {
        "id": "6kJNRVTC_2Pc"
      },
      "execution_count": null,
      "outputs": []
    },
    {
      "cell_type": "code",
      "source": [
        "X_train, X_test, y_train, y_test= train_test_split(x, y, test_size=0.25, random_state=42)\n",
        "y_test"
      ],
      "metadata": {
        "id": "Ubp0ohEOAQtI"
      },
      "execution_count": null,
      "outputs": []
    },
    {
      "cell_type": "code",
      "source": [
        "tf.random.set_seed(42)\n",
        "\n",
        "# STEP1: Creating the model\n",
        "\n",
        "model= tf.keras.Sequential([\n",
        "                            tf.keras.layers.Dense(9, activation='relu'),\n",
        "                            tf.keras.layers.Dense(9, activation='relu'),\n",
        "                            tf.keras.layers.Dense(8, activation='relu'),\n",
        "                            tf.keras.layers.Dense(7, activation='relu'),\n",
        "                            tf.keras.layers.Dense(1, activation='sigmoid')\n",
        "])\n",
        "\n",
        "# STEP2: Compiling the model\n",
        "\n",
        "model.compile(loss= tf.keras.losses.binary_crossentropy,\n",
        "              optimizer= tf.keras.optimizers.Adam(lr=0.01),\n",
        "              metrics= [tf.keras.metrics.BinaryAccuracy(name='accuracy'),\n",
        "                        tf.keras.metrics.Precision(name='precision'),\n",
        "                        tf.keras.metrics.Recall(name='a=recall')\n",
        "              ]\n",
        "              )\n",
        "\n",
        "# STEP 3: Fitting the model\n",
        "\n",
        "history= model.fit(X_train, y_train, epochs= 200)"
      ],
      "metadata": {
        "id": "oHnpriznAQqO"
      },
      "execution_count": null,
      "outputs": []
    },
    {
      "cell_type": "code",
      "source": [
        "model.evaluate(X_test, y_test)"
      ],
      "metadata": {
        "id": "A_cM-BP2AQma"
      },
      "execution_count": null,
      "outputs": []
    },
    {
      "cell_type": "code",
      "source": [
        "pd.DataFrame(history.history).plot()\n",
        "plt.ylabel(\"loss\")\n",
        "plt.xlabel(\"epochs\")"
      ],
      "metadata": {
        "id": "h01qVq5HAQjS"
      },
      "execution_count": null,
      "outputs": []
    },
    {
      "cell_type": "code",
      "source": [
        "X_train, X_test, y_train, y_test= train_test_split(x, y, test_size=0.25, random_state=42)\n",
        "y_test"
      ],
      "metadata": {
        "id": "VgMcIpkgLjJZ"
      },
      "execution_count": null,
      "outputs": []
    },
    {
      "cell_type": "code",
      "source": [
        "tf.random.set_seed(42)\n",
        "\n",
        "# STEP1: Creating the model\n",
        "\n",
        "model= tf.keras.Sequential([\n",
        "                            tf.keras.layers.Dense(9, activation='relu'),\n",
        "                            tf.keras.layers.Dense(6, activation='relu'),\n",
        "                            tf.keras.layers.Dense(5, activation='relu'),\n",
        "                            tf.keras.layers.Dense(3, activation='relu'),\n",
        "                            tf.keras.layers.Dense(1, activation='sigmoid')\n",
        "])\n",
        "\n",
        "# STEP2: Compiling the model\n",
        "\n",
        "model.compile(loss= tf.keras.losses.binary_crossentropy,\n",
        "              optimizer= tf.keras.optimizers.Adam(lr=0.01),\n",
        "              metrics= [tf.keras.metrics.BinaryAccuracy(name='accuracy'),\n",
        "                        tf.keras.metrics.Precision(name='precision'),\n",
        "                        tf.keras.metrics.Recall(name='a=recall')\n",
        "              ]\n",
        "              )\n",
        "\n",
        "# STEP 3: Fitting the model\n",
        "\n",
        "history= model.fit(X_train, y_train, epochs= 300)"
      ],
      "metadata": {
        "id": "IFtdNvjqLjF8"
      },
      "execution_count": null,
      "outputs": []
    },
    {
      "cell_type": "code",
      "source": [
        "model.evaluate(X_test, y_test)"
      ],
      "metadata": {
        "id": "Ty_28ifaLjDj"
      },
      "execution_count": null,
      "outputs": []
    },
    {
      "cell_type": "code",
      "source": [
        "pd.DataFrame(history.history).plot()\n",
        "plt.ylabel(\"loss\")\n",
        "plt.xlabel(\"epochs\")"
      ],
      "metadata": {
        "id": "W3dNGqaFLjBR"
      },
      "execution_count": null,
      "outputs": []
    },
    {
      "cell_type": "code",
      "source": [
        "X_train, X_test, y_train, y_test= train_test_split(x, y, test_size=0.25, random_state=42)\n",
        "y_test"
      ],
      "metadata": {
        "id": "HXOFbioFMzYB"
      },
      "execution_count": null,
      "outputs": []
    },
    {
      "cell_type": "code",
      "source": [
        "tf.random.set_seed(42)\n",
        "\n",
        "# STEP1: Creating the model\n",
        "\n",
        "model= tf.keras.Sequential([\n",
        "                            tf.keras.layers.Dense(9, activation='relu'),\n",
        "                            tf.keras.layers.Dense(7, activation='relu'),\n",
        "                            tf.keras.layers.Dense(5, activation='relu'),\n",
        "                            tf.keras.layers.Dense(2, activation='relu'),\n",
        "                            tf.keras.layers.Dense(1, activation='sigmoid')\n",
        "])\n",
        "\n",
        "# STEP2: Compiling the model\n",
        "\n",
        "model.compile(loss= tf.keras.losses.binary_crossentropy,\n",
        "              optimizer= tf.keras.optimizers.Adam(lr=0.01),\n",
        "              metrics= [tf.keras.metrics.BinaryAccuracy(name='accuracy'),\n",
        "                        tf.keras.metrics.Precision(name='precision'),\n",
        "                        tf.keras.metrics.Recall(name='a=recall')\n",
        "              ]\n",
        "              )\n",
        "\n",
        "# STEP 3: Fitting the model\n",
        "\n",
        "history= model.fit(X_train, y_train, epochs= 50)"
      ],
      "metadata": {
        "id": "syVYnl6SMzT4"
      },
      "execution_count": null,
      "outputs": []
    },
    {
      "cell_type": "code",
      "source": [
        "model.evaluate(X_test, y_test)"
      ],
      "metadata": {
        "id": "6XC3vf00MzQB"
      },
      "execution_count": null,
      "outputs": []
    },
    {
      "cell_type": "code",
      "source": [
        "pd.DataFrame(history.history).plot()\n",
        "plt.ylabel(\"loss\")\n",
        "plt.xlabel(\"epochs\")"
      ],
      "metadata": {
        "id": "hM0ureumMzL8"
      },
      "execution_count": null,
      "outputs": []
    },
    {
      "cell_type": "code",
      "source": [
        "X_train, X_test, y_train, y_test= train_test_split(x, y, test_size=0.25, random_state=42)\n",
        "y_test"
      ],
      "metadata": {
        "id": "LHHSMpTKSU1k"
      },
      "execution_count": null,
      "outputs": []
    },
    {
      "cell_type": "code",
      "source": [
        "tf.random.set_seed(42)\n",
        "\n",
        "# STEP1: Creating the model\n",
        "\n",
        "model= tf.keras.Sequential([\n",
        "                            tf.keras.layers.Dense(9, activation='relu'),\n",
        "                            tf.keras.layers.Dense(2, activation='relu'),\n",
        "                            tf.keras.layers.Dense(3, activation='relu'),\n",
        "                            tf.keras.layers.Dense(6, activation='relu'),\n",
        "                            tf.keras.layers.Dense(1, activation='sigmoid')\n",
        "])\n",
        "\n",
        "# STEP2: Compiling the model\n",
        "\n",
        "model.compile(loss= tf.keras.losses.binary_crossentropy,\n",
        "              optimizer= tf.keras.optimizers.Adam(lr=0.01),\n",
        "              metrics= [tf.keras.metrics.BinaryAccuracy(name='accuracy'),\n",
        "                        tf.keras.metrics.Precision(name='precision'),\n",
        "                        tf.keras.metrics.Recall(name='a=recall')\n",
        "              ]\n",
        "              )\n",
        "\n",
        "# STEP 3: Fitting the model\n",
        "\n",
        "history= model.fit(X_train, y_train, epochs= 150)"
      ],
      "metadata": {
        "id": "7iWPQZSSSUxT"
      },
      "execution_count": null,
      "outputs": []
    },
    {
      "cell_type": "code",
      "source": [
        "model.evaluate(X_test, y_test)"
      ],
      "metadata": {
        "id": "Ir8A_K8WSUsT"
      },
      "execution_count": null,
      "outputs": []
    },
    {
      "cell_type": "code",
      "source": [
        "pd.DataFrame(history.history).plot()\n",
        "plt.ylabel(\"loss\")\n",
        "plt.xlabel(\"epochs\")"
      ],
      "metadata": {
        "id": "_nh7MmCVSUn5"
      },
      "execution_count": null,
      "outputs": []
    },
    {
      "cell_type": "code",
      "source": [
        "X_train, X_test, y_train, y_test= train_test_split(x, y, test_size=0.25, random_state=42)\n",
        "y_test"
      ],
      "metadata": {
        "id": "DMC-LgMPSyn1"
      },
      "execution_count": null,
      "outputs": []
    },
    {
      "cell_type": "code",
      "source": [
        "tf.random.set_seed(42)\n",
        "\n",
        "# STEP1: Creating the model\n",
        "\n",
        "model= tf.keras.Sequential([\n",
        "                            tf.keras.layers.Dense(9, activation='relu'),\n",
        "                            tf.keras.layers.Dense(9, activation='relu'),\n",
        "                            tf.keras.layers.Dense(9, activation='relu'),\n",
        "                            tf.keras.layers.Dense(9, activation='relu'),\n",
        "                            tf.keras.layers.Dense(1, activation='sigmoid')\n",
        "])\n",
        "\n",
        "# STEP2: Compiling the model\n",
        "\n",
        "model.compile(loss= tf.keras.losses.binary_crossentropy,\n",
        "              optimizer= tf.keras.optimizers.Adam(lr=0.01),\n",
        "              metrics= [tf.keras.metrics.BinaryAccuracy(name='accuracy'),\n",
        "                        tf.keras.metrics.Precision(name='precision'),\n",
        "                        tf.keras.metrics.Recall(name='a=recall')\n",
        "              ]\n",
        "              )\n",
        "\n",
        "# STEP 3: Fitting the model\n",
        "\n",
        "history= model.fit(X_train, y_train, epochs= 70)"
      ],
      "metadata": {
        "id": "zRFHR4kCSyWu"
      },
      "execution_count": null,
      "outputs": []
    },
    {
      "cell_type": "code",
      "source": [
        "model.evaluate(X_test, y_test)"
      ],
      "metadata": {
        "id": "-FjlLFuoSyQL"
      },
      "execution_count": null,
      "outputs": []
    },
    {
      "cell_type": "code",
      "source": [
        "pd.DataFrame(history.history).plot()\n",
        "plt.ylabel(\"loss\")\n",
        "plt.xlabel(\"epochs\")"
      ],
      "metadata": {
        "id": "IHUEOPE7SyMw"
      },
      "execution_count": null,
      "outputs": []
    },
    {
      "cell_type": "code",
      "source": [
        "X_train, X_test, y_train, y_test= train_test_split(x, y, test_size=0.25, random_state=42)\n",
        "y_test"
      ],
      "metadata": {
        "id": "XyViLIzHSyFu"
      },
      "execution_count": null,
      "outputs": []
    },
    {
      "cell_type": "code",
      "source": [
        "tf.random.set_seed(42)\n",
        "\n",
        "# STEP1: Creating the model\n",
        "\n",
        "model= tf.keras.Sequential([\n",
        "                            tf.keras.layers.Dense(9, activation='relu'),\n",
        "                            tf.keras.layers.Dense(3, activation='relu'),\n",
        "                            tf.keras.layers.Dense(2, activation='relu'),\n",
        "                            tf.keras.layers.Dense(8, activation='relu'),\n",
        "                            tf.keras.layers.Dense(1, activation='sigmoid')\n",
        "])\n",
        "\n",
        "# STEP2: Compiling the model\n",
        "\n",
        "model.compile(loss= tf.keras.losses.binary_crossentropy,\n",
        "              optimizer= tf.keras.optimizers.Adam(lr=0.01),\n",
        "              metrics= [tf.keras.metrics.BinaryAccuracy(name='accuracy'),\n",
        "                        tf.keras.metrics.Precision(name='precision'),\n",
        "                        tf.keras.metrics.Recall(name='a=recall')\n",
        "              ]\n",
        "              )\n",
        "\n",
        "# STEP 3: Fitting the model\n",
        "\n",
        "history= model.fit(X_train, y_train, epochs= 150)"
      ],
      "metadata": {
        "id": "jzjjJQz7SyCR"
      },
      "execution_count": null,
      "outputs": []
    },
    {
      "cell_type": "code",
      "source": [
        "model.evaluate(X_test, y_test)"
      ],
      "metadata": {
        "id": "UYaZrTqjSx75"
      },
      "execution_count": null,
      "outputs": []
    },
    {
      "cell_type": "code",
      "source": [
        "pd.DataFrame(history.history).plot()\n",
        "plt.ylabel(\"loss\")\n",
        "plt.xlabel(\"epochs\")"
      ],
      "metadata": {
        "id": "H8ry-AZtSx15"
      },
      "execution_count": null,
      "outputs": []
    },
    {
      "cell_type": "code",
      "source": [
        "X_train, X_test, y_train, y_test= train_test_split(x, y, test_size=0.25, random_state=42)\n",
        "y_test"
      ],
      "metadata": {
        "id": "YW8N7eiPSxv6"
      },
      "execution_count": null,
      "outputs": []
    },
    {
      "cell_type": "code",
      "source": [
        "tf.random.set_seed(42)\n",
        "\n",
        "# STEP1: Creating the model\n",
        "\n",
        "model= tf.keras.Sequential([\n",
        "                            tf.keras.layers.Dense(9, activation='relu'),\n",
        "                            tf.keras.layers.Dense(12, activation='relu'),\n",
        "                            tf.keras.layers.Dense(5, activation='relu'),\n",
        "                            tf.keras.layers.Dense(6, activation='relu'),\n",
        "                            tf.keras.layers.Dense(1, activation='sigmoid')\n",
        "])\n",
        "\n",
        "# STEP2: Compiling the model\n",
        "\n",
        "model.compile(loss= tf.keras.losses.binary_crossentropy,\n",
        "              optimizer= tf.keras.optimizers.Adam(lr=0.01),\n",
        "              metrics= [tf.keras.metrics.BinaryAccuracy(name='accuracy'),\n",
        "                        tf.keras.metrics.Precision(name='precision'),\n",
        "                        tf.keras.metrics.Recall(name='a=recall')\n",
        "              ]\n",
        "              )\n",
        "\n",
        "# STEP 3: Fitting the model\n",
        "\n",
        "history= model.fit(X_train, y_train, epochs= 320)"
      ],
      "metadata": {
        "id": "ZxUVBGckSxp-"
      },
      "execution_count": null,
      "outputs": []
    },
    {
      "cell_type": "code",
      "source": [
        "model.evaluate(X_test, y_test)"
      ],
      "metadata": {
        "id": "A79x14L3SxjL"
      },
      "execution_count": null,
      "outputs": []
    },
    {
      "cell_type": "code",
      "source": [
        "pd.DataFrame(history.history).plot()\n",
        "plt.ylabel(\"loss\")\n",
        "plt.xlabel(\"epochs\")"
      ],
      "metadata": {
        "id": "VeRZEXY4SxcP"
      },
      "execution_count": null,
      "outputs": []
    },
    {
      "cell_type": "code",
      "source": [
        "X_train, X_test, y_train, y_test= train_test_split(x, y, test_size=0.25, random_state=42)\n",
        "y_test"
      ],
      "metadata": {
        "id": "vk3U8r_RSxRs"
      },
      "execution_count": null,
      "outputs": []
    },
    {
      "cell_type": "code",
      "source": [
        "tf.random.set_seed(42)\n",
        "\n",
        "# STEP1: Creating the model\n",
        "\n",
        "model= tf.keras.Sequential([\n",
        "                            tf.keras.layers.Dense(9, activation='relu'),\n",
        "                            tf.keras.layers.Dense(8, activation='relu'),\n",
        "                            tf.keras.layers.Dense(6, activation='relu'),\n",
        "                            tf.keras.layers.Dense(9, activation='relu'),\n",
        "                            tf.keras.layers.Dense(1, activation='sigmoid')\n",
        "])\n",
        "\n",
        "# STEP2: Compiling the model\n",
        "\n",
        "model.compile(loss= tf.keras.losses.binary_crossentropy,\n",
        "              optimizer= tf.keras.optimizers.Adam(lr=0.01),\n",
        "              metrics= [tf.keras.metrics.BinaryAccuracy(name='accuracy'),\n",
        "                        tf.keras.metrics.Precision(name='precision'),\n",
        "                        tf.keras.metrics.Recall(name='a=recall')\n",
        "              ]\n",
        "              )\n",
        "\n",
        "# STEP 3: Fitting the model\n",
        "\n",
        "history= model.fit(X_train, y_train, epochs= 70)"
      ],
      "metadata": {
        "id": "kocdweIsSxH0"
      },
      "execution_count": null,
      "outputs": []
    },
    {
      "cell_type": "code",
      "source": [
        "model.evaluate(X_test, y_test)"
      ],
      "metadata": {
        "id": "lIOflbMoSw9W"
      },
      "execution_count": null,
      "outputs": []
    },
    {
      "cell_type": "code",
      "source": [
        "pd.DataFrame(history.history).plot()\n",
        "plt.ylabel(\"loss\")\n",
        "plt.xlabel(\"epochs\")"
      ],
      "metadata": {
        "id": "xFeVN8YuSw1V"
      },
      "execution_count": null,
      "outputs": []
    },
    {
      "cell_type": "code",
      "source": [
        "X_train, X_test, y_train, y_test= train_test_split(x, y, test_size=0.25, random_state=42)\n",
        "y_test"
      ],
      "metadata": {
        "id": "a12dJ-KFSwrx"
      },
      "execution_count": null,
      "outputs": []
    },
    {
      "cell_type": "code",
      "source": [
        "tf.random.set_seed(42)\n",
        "\n",
        "# STEP1: Creating the model\n",
        "\n",
        "model= tf.keras.Sequential([\n",
        "                            tf.keras.layers.Dense(9, activation='relu'),\n",
        "                            tf.keras.layers.Dense(4, activation='relu'),\n",
        "                            tf.keras.layers.Dense(5, activation='relu'),\n",
        "                            tf.keras.layers.Dense(3, activation='relu'),\n",
        "                            tf.keras.layers.Dense(1, activation='sigmoid')\n",
        "])\n",
        "\n",
        "# STEP2: Compiling the model\n",
        "\n",
        "model.compile(loss= tf.keras.losses.binary_crossentropy,\n",
        "              optimizer= tf.keras.optimizers.Adam(lr=0.01),\n",
        "              metrics= [tf.keras.metrics.BinaryAccuracy(name='accuracy'),\n",
        "                        tf.keras.metrics.Precision(name='precision'),\n",
        "                        tf.keras.metrics.Recall(name='a=recall')\n",
        "              ]\n",
        "              )\n",
        "\n",
        "# STEP 3: Fitting the model\n",
        "\n",
        "history= model.fit(X_train, y_train, epochs= 80)"
      ],
      "metadata": {
        "id": "_abwCMa7Swhr"
      },
      "execution_count": null,
      "outputs": []
    },
    {
      "cell_type": "code",
      "source": [
        "model.evaluate(X_test, y_test)"
      ],
      "metadata": {
        "id": "8JFywQwnSwYw"
      },
      "execution_count": null,
      "outputs": []
    },
    {
      "cell_type": "code",
      "source": [
        "pd.DataFrame(history.history).plot()\n",
        "plt.ylabel(\"loss\")\n",
        "plt.xlabel(\"epochs\")"
      ],
      "metadata": {
        "id": "NjxAg26fSwOQ"
      },
      "execution_count": null,
      "outputs": []
    },
    {
      "cell_type": "code",
      "source": [
        "X_train, X_test, y_train, y_test= train_test_split(x, y, test_size=0.25, random_state=42)\n",
        "y_test"
      ],
      "metadata": {
        "id": "mb2euMLxSwEh"
      },
      "execution_count": null,
      "outputs": []
    },
    {
      "cell_type": "code",
      "source": [
        "tf.random.set_seed(42)\n",
        "\n",
        "# STEP1: Creating the model\n",
        "\n",
        "model= tf.keras.Sequential([\n",
        "                            tf.keras.layers.Dense(9, activation='relu'),\n",
        "                            tf.keras.layers.Dense(3, activation='relu'),\n",
        "                            tf.keras.layers.Dense(2, activation='relu'),\n",
        "                            tf.keras.layers.Dense(9, activation='relu'),\n",
        "                            tf.keras.layers.Dense(1, activation='sigmoid')\n",
        "])\n",
        "\n",
        "# STEP2: Compiling the model\n",
        "\n",
        "model.compile(loss= tf.keras.losses.binary_crossentropy,\n",
        "              optimizer= tf.keras.optimizers.Adam(lr=0.01),\n",
        "              metrics= [tf.keras.metrics.BinaryAccuracy(name='accuracy'),\n",
        "                        tf.keras.metrics.Precision(name='precision'),\n",
        "                        tf.keras.metrics.Recall(name='a=recall')\n",
        "              ]\n",
        "              )\n",
        "\n",
        "# STEP 3: Fitting the model\n",
        "\n",
        "history= model.fit(X_train, y_train, epochs= 90)"
      ],
      "metadata": {
        "id": "6VmT66PiSv6w"
      },
      "execution_count": null,
      "outputs": []
    },
    {
      "cell_type": "code",
      "source": [
        "model.evaluate(X_test, y_test)"
      ],
      "metadata": {
        "id": "5_vn3HTpSvx2"
      },
      "execution_count": null,
      "outputs": []
    },
    {
      "cell_type": "code",
      "source": [
        "pd.DataFrame(history.history).plot()\n",
        "plt.ylabel(\"loss\")\n",
        "plt.xlabel(\"epochs\")"
      ],
      "metadata": {
        "id": "LZ_-PPqJSvof"
      },
      "execution_count": null,
      "outputs": []
    },
    {
      "cell_type": "code",
      "source": [
        "X_train, X_test, y_train, y_test= train_test_split(x, y, test_size=0.25, random_state=42)\n",
        "y_test"
      ],
      "metadata": {
        "id": "GpcrMx-LSve5"
      },
      "execution_count": null,
      "outputs": []
    },
    {
      "cell_type": "code",
      "source": [
        "tf.random.set_seed(42)\n",
        "\n",
        "# STEP1: Creating the model\n",
        "\n",
        "model= tf.keras.Sequential([\n",
        "                            tf.keras.layers.Dense(9, activation='relu'),\n",
        "                            tf.keras.layers.Dense(1, activation='relu'),\n",
        "                            tf.keras.layers.Dense(1, activation='relu'),\n",
        "                            tf.keras.layers.Dense(1, activation='relu'),\n",
        "                            tf.keras.layers.Dense(1, activation='sigmoid')\n",
        "])\n",
        "\n",
        "# STEP2: Compiling the model\n",
        "\n",
        "model.compile(loss= tf.keras.losses.binary_crossentropy,\n",
        "              optimizer= tf.keras.optimizers.Adam(lr=0.01),\n",
        "              metrics= [tf.keras.metrics.BinaryAccuracy(name='accuracy'),\n",
        "                        tf.keras.metrics.Precision(name='precision'),\n",
        "                        tf.keras.metrics.Recall(name='a=recall')\n",
        "              ]\n",
        "              )\n",
        "\n",
        "# STEP 3: Fitting the model\n",
        "\n",
        "history= model.fit(X_train, y_train, epochs= 100)"
      ],
      "metadata": {
        "id": "LrE5sdmpSvUR"
      },
      "execution_count": null,
      "outputs": []
    },
    {
      "cell_type": "code",
      "source": [
        "model.evaluate(X_test, y_test)"
      ],
      "metadata": {
        "id": "CTNVE0aJSvJm"
      },
      "execution_count": null,
      "outputs": []
    },
    {
      "cell_type": "code",
      "source": [
        "pd.DataFrame(history.history).plot()\n",
        "plt.ylabel(\"loss\")\n",
        "plt.xlabel(\"epochs\")"
      ],
      "metadata": {
        "id": "rfjVoWbvSu9B"
      },
      "execution_count": null,
      "outputs": []
    },
    {
      "cell_type": "code",
      "source": [
        "X_train, X_test, y_train, y_test= train_test_split(x, y, test_size=0.25, random_state=42)\n",
        "y_test"
      ],
      "metadata": {
        "id": "NHkht7iqSuVC"
      },
      "execution_count": null,
      "outputs": []
    },
    {
      "cell_type": "code",
      "source": [
        "tf.random.set_seed(42)\n",
        "\n",
        "# STEP1: Creating the model\n",
        "\n",
        "model= tf.keras.Sequential([\n",
        "                            tf.keras.layers.Dense(9, activation='relu'),\n",
        "                            tf.keras.layers.Dense(2, activation='relu'),\n",
        "                            tf.keras.layers.Dense(3, activation='relu'),\n",
        "                            tf.keras.layers.Dense(11, activation='relu'),\n",
        "                            tf.keras.layers.Dense(1, activation='sigmoid')\n",
        "])\n",
        "\n",
        "# STEP2: Compiling the model\n",
        "\n",
        "model.compile(loss= tf.keras.losses.binary_crossentropy,\n",
        "              optimizer= tf.keras.optimizers.Adam(lr=0.01),\n",
        "              metrics= [tf.keras.metrics.BinaryAccuracy(name='accuracy'),\n",
        "                        tf.keras.metrics.Precision(name='precision'),\n",
        "                        tf.keras.metrics.Recall(name='a=recall')\n",
        "              ]\n",
        "              )\n",
        "\n",
        "# STEP 3: Fitting the model\n",
        "\n",
        "history= model.fit(X_train, y_train, epochs= 105)"
      ],
      "metadata": {
        "id": "i_AGchwISuDl"
      },
      "execution_count": null,
      "outputs": []
    },
    {
      "cell_type": "code",
      "source": [
        "model.evaluate(X_test, y_test)"
      ],
      "metadata": {
        "id": "s_XTvlb2SuAJ"
      },
      "execution_count": null,
      "outputs": []
    },
    {
      "cell_type": "code",
      "source": [
        "pd.DataFrame(history.history).plot()\n",
        "plt.ylabel(\"loss\")\n",
        "plt.xlabel(\"epochs\")"
      ],
      "metadata": {
        "id": "rgzxfDHRSt7m"
      },
      "execution_count": null,
      "outputs": []
    },
    {
      "cell_type": "code",
      "source": [
        "X_train, X_test, y_train, y_test= train_test_split(x, y, test_size=0.2, random_state=42)\n",
        "y_test"
      ],
      "metadata": {
        "id": "Dz4ZPz1Vck6L"
      },
      "execution_count": null,
      "outputs": []
    },
    {
      "cell_type": "code",
      "source": [
        "tf.random.set_seed(42)\n",
        "\n",
        "# STEP1: Creating the model\n",
        "\n",
        "model= tf.keras.Sequential([\n",
        "                            tf.keras.layers.Dense(9, activation='relu'),\n",
        "                            tf.keras.layers.Dense(7, activation='relu'),\n",
        "                            tf.keras.layers.Dense(5, activation='relu'),\n",
        "                            tf.keras.layers.Dense(2, activation='relu'),\n",
        "                            tf.keras.layers.Dense(1, activation='sigmoid')\n",
        "])\n",
        "\n",
        "# STEP2: Compiling the model\n",
        "\n",
        "model.compile(loss= tf.keras.losses.binary_crossentropy,\n",
        "              optimizer= tf.keras.optimizers.Adam(lr=0.01),\n",
        "              metrics= [tf.keras.metrics.BinaryAccuracy(name='accuracy'),\n",
        "                        tf.keras.metrics.Precision(name='precision'),\n",
        "                        tf.keras.metrics.Recall(name='a=recall')\n",
        "              ]\n",
        "              )\n",
        "\n",
        "# STEP 3: Fitting the model\n",
        "\n",
        "history= model.fit(X_train, y_train, epochs= 50)"
      ],
      "metadata": {
        "id": "kQFmsewwckyt"
      },
      "execution_count": null,
      "outputs": []
    },
    {
      "cell_type": "code",
      "source": [
        "model.evaluate(X_test, y_test)"
      ],
      "metadata": {
        "id": "cIoOmWfQckq7"
      },
      "execution_count": null,
      "outputs": []
    },
    {
      "cell_type": "code",
      "source": [
        "pd.DataFrame(history.history).plot()\n",
        "plt.ylabel(\"loss\")\n",
        "plt.xlabel(\"epochs\")"
      ],
      "metadata": {
        "id": "sKRZ1UyLckkb"
      },
      "execution_count": null,
      "outputs": []
    },
    {
      "cell_type": "code",
      "source": [
        "X_train, X_test, y_train, y_test= train_test_split(x, y, test_size=0.2, random_state=42)\n",
        "y_test"
      ],
      "metadata": {
        "id": "bIpmmN2AckcP"
      },
      "execution_count": null,
      "outputs": []
    },
    {
      "cell_type": "code",
      "source": [
        "tf.random.set_seed(42)\n",
        "\n",
        "# STEP1: Creating the model\n",
        "\n",
        "model= tf.keras.Sequential([\n",
        "                            tf.keras.layers.Dense(9, activation='relu'),\n",
        "                            tf.keras.layers.Dense(2, activation='relu'),\n",
        "                            tf.keras.layers.Dense(3, activation='relu'),\n",
        "                            tf.keras.layers.Dense(6, activation='relu'),\n",
        "                            tf.keras.layers.Dense(1, activation='sigmoid')\n",
        "])\n",
        "\n",
        "# STEP2: Compiling the model\n",
        "\n",
        "model.compile(loss= tf.keras.losses.binary_crossentropy,\n",
        "              optimizer= tf.keras.optimizers.Adam(lr=0.01),\n",
        "              metrics= [tf.keras.metrics.BinaryAccuracy(name='accuracy'),\n",
        "                        tf.keras.metrics.Precision(name='precision'),\n",
        "                        tf.keras.metrics.Recall(name='a=recall')\n",
        "              ]\n",
        "              )\n",
        "\n",
        "# STEP 3: Fitting the model\n",
        "\n",
        "history= model.fit(X_train, y_train, epochs= 150)"
      ],
      "metadata": {
        "id": "G5D_D3WMckUv"
      },
      "execution_count": null,
      "outputs": []
    },
    {
      "cell_type": "code",
      "source": [
        "model.evaluate(X_test, y_test)"
      ],
      "metadata": {
        "id": "JM-5bVeFckN9"
      },
      "execution_count": null,
      "outputs": []
    },
    {
      "cell_type": "code",
      "source": [
        "pd.DataFrame(history.history).plot()\n",
        "plt.ylabel(\"loss\")\n",
        "plt.xlabel(\"epochs\")"
      ],
      "metadata": {
        "id": "TBXKIMERckHs"
      },
      "execution_count": null,
      "outputs": []
    },
    {
      "cell_type": "code",
      "source": [
        "X_train, X_test, y_train, y_test= train_test_split(x, y, test_size=0.2, random_state=42)\n",
        "y_test"
      ],
      "metadata": {
        "id": "T7CnXuzNckBB"
      },
      "execution_count": null,
      "outputs": []
    },
    {
      "cell_type": "code",
      "source": [
        "tf.random.set_seed(42)\n",
        "\n",
        "# STEP1: Creating the model\n",
        "\n",
        "model= tf.keras.Sequential([\n",
        "                            tf.keras.layers.Dense(9, activation='relu'),\n",
        "                            tf.keras.layers.Dense(9, activation='relu'),\n",
        "                            tf.keras.layers.Dense(9, activation='relu'),\n",
        "                            tf.keras.layers.Dense(9, activation='relu'),\n",
        "                            tf.keras.layers.Dense(1, activation='sigmoid')\n",
        "])\n",
        "\n",
        "# STEP2: Compiling the model\n",
        "\n",
        "model.compile(loss= tf.keras.losses.binary_crossentropy,\n",
        "              optimizer= tf.keras.optimizers.Adam(lr=0.01),\n",
        "              metrics= [tf.keras.metrics.BinaryAccuracy(name='accuracy'),\n",
        "                        tf.keras.metrics.Precision(name='precision'),\n",
        "                        tf.keras.metrics.Recall(name='a=recall')\n",
        "              ]\n",
        "              )\n",
        "\n",
        "# STEP 3: Fitting the model\n",
        "\n",
        "history= model.fit(X_train, y_train, epochs= 70)"
      ],
      "metadata": {
        "id": "LyE6CXAXcj42"
      },
      "execution_count": null,
      "outputs": []
    },
    {
      "cell_type": "code",
      "source": [
        "model.evaluate(X_test, y_test)"
      ],
      "metadata": {
        "id": "lG4B3i4fcjyK"
      },
      "execution_count": null,
      "outputs": []
    },
    {
      "cell_type": "code",
      "source": [
        "pd.DataFrame(history.history).plot()\n",
        "plt.ylabel(\"loss\")\n",
        "plt.xlabel(\"epochs\")"
      ],
      "metadata": {
        "id": "TYuaeeB7cjrN"
      },
      "execution_count": null,
      "outputs": []
    },
    {
      "cell_type": "code",
      "source": [
        "X_train, X_test, y_train, y_test= train_test_split(x, y, test_size=0.2, random_state=42)\n",
        "y_test"
      ],
      "metadata": {
        "id": "0hO9WPEwcjj_"
      },
      "execution_count": null,
      "outputs": []
    },
    {
      "cell_type": "code",
      "source": [
        "tf.random.set_seed(42)\n",
        "\n",
        "# STEP1: Creating the model\n",
        "\n",
        "model= tf.keras.Sequential([\n",
        "                            tf.keras.layers.Dense(9, activation='relu'),\n",
        "                            tf.keras.layers.Dense(3, activation='relu'),\n",
        "                            tf.keras.layers.Dense(2, activation='relu'),\n",
        "                            tf.keras.layers.Dense(8, activation='relu'),\n",
        "                            tf.keras.layers.Dense(1, activation='sigmoid')\n",
        "])\n",
        "\n",
        "# STEP2: Compiling the model\n",
        "\n",
        "model.compile(loss= tf.keras.losses.binary_crossentropy,\n",
        "              optimizer= tf.keras.optimizers.Adam(lr=0.01),\n",
        "              metrics= [tf.keras.metrics.BinaryAccuracy(name='accuracy'),\n",
        "                        tf.keras.metrics.Precision(name='precision'),\n",
        "                        tf.keras.metrics.Recall(name='a=recall')\n",
        "              ]\n",
        "              )\n",
        "\n",
        "# STEP 3: Fitting the model\n",
        "\n",
        "history= model.fit(X_train, y_train, epochs= 150)"
      ],
      "metadata": {
        "id": "FmkD1gRbcjc-"
      },
      "execution_count": null,
      "outputs": []
    },
    {
      "cell_type": "code",
      "source": [
        "model.evaluate(X_test, y_test)"
      ],
      "metadata": {
        "id": "tFr2QByMcjVT"
      },
      "execution_count": null,
      "outputs": []
    },
    {
      "cell_type": "code",
      "source": [
        "pd.DataFrame(history.history).plot()\n",
        "plt.ylabel(\"loss\")\n",
        "plt.xlabel(\"epochs\")"
      ],
      "metadata": {
        "id": "rmn3muWCcjOO"
      },
      "execution_count": null,
      "outputs": []
    },
    {
      "cell_type": "code",
      "source": [
        "X_train, X_test, y_train, y_test= train_test_split(x, y, test_size=0.2, random_state=42)\n",
        "y_test"
      ],
      "metadata": {
        "id": "WCpB3i61cjH-"
      },
      "execution_count": null,
      "outputs": []
    },
    {
      "cell_type": "code",
      "source": [
        "tf.random.set_seed(42)\n",
        "\n",
        "# STEP1: Creating the model\n",
        "\n",
        "model= tf.keras.Sequential([\n",
        "                            tf.keras.layers.Dense(9, activation='relu'),\n",
        "                            tf.keras.layers.Dense(12, activation='relu'),\n",
        "                            tf.keras.layers.Dense(5, activation='relu'),\n",
        "                            tf.keras.layers.Dense(6, activation='relu'),\n",
        "                            tf.keras.layers.Dense(1, activation='sigmoid')\n",
        "])\n",
        "\n",
        "# STEP2: Compiling the model\n",
        "\n",
        "model.compile(loss= tf.keras.losses.binary_crossentropy,\n",
        "              optimizer= tf.keras.optimizers.Adam(lr=0.01),\n",
        "              metrics= [tf.keras.metrics.BinaryAccuracy(name='accuracy'),\n",
        "                        tf.keras.metrics.Precision(name='precision'),\n",
        "                        tf.keras.metrics.Recall(name='a=recall')\n",
        "              ]\n",
        "              )\n",
        "\n",
        "# STEP 3: Fitting the model\n",
        "\n",
        "history= model.fit(X_train, y_train, epochs= 320)"
      ],
      "metadata": {
        "id": "_1nbu2hecjBo"
      },
      "execution_count": null,
      "outputs": []
    },
    {
      "cell_type": "code",
      "source": [
        "model.evaluate(X_test, y_test)"
      ],
      "metadata": {
        "id": "MB9pjCl4ci7R"
      },
      "execution_count": null,
      "outputs": []
    },
    {
      "cell_type": "code",
      "source": [
        "pd.DataFrame(history.history).plot()\n",
        "plt.ylabel(\"loss\")\n",
        "plt.xlabel(\"epochs\")"
      ],
      "metadata": {
        "id": "coAD9TIDci1N"
      },
      "execution_count": null,
      "outputs": []
    },
    {
      "cell_type": "code",
      "source": [
        "X_train, X_test, y_train, y_test= train_test_split(x, y, test_size=0.2, random_state=42)\n",
        "y_test"
      ],
      "metadata": {
        "id": "fmkRZJvRcit_"
      },
      "execution_count": null,
      "outputs": []
    },
    {
      "cell_type": "code",
      "source": [
        "tf.random.set_seed(42)\n",
        "\n",
        "# STEP1: Creating the model\n",
        "\n",
        "model= tf.keras.Sequential([\n",
        "                            tf.keras.layers.Dense(9, activation='relu'),\n",
        "                            tf.keras.layers.Dense(8, activation='relu'),\n",
        "                            tf.keras.layers.Dense(6, activation='relu'),\n",
        "                            tf.keras.layers.Dense(9, activation='relu'),\n",
        "                            tf.keras.layers.Dense(1, activation='sigmoid')\n",
        "])\n",
        "\n",
        "# STEP2: Compiling the model\n",
        "\n",
        "model.compile(loss= tf.keras.losses.binary_crossentropy,\n",
        "              optimizer= tf.keras.optimizers.Adam(lr=0.01),\n",
        "              metrics= [tf.keras.metrics.BinaryAccuracy(name='accuracy'),\n",
        "                        tf.keras.metrics.Precision(name='precision'),\n",
        "                        tf.keras.metrics.Recall(name='a=recall')\n",
        "              ]\n",
        "              )\n",
        "\n",
        "# STEP 3: Fitting the model\n",
        "\n",
        "history= model.fit(X_train, y_train, epochs= 70)"
      ],
      "metadata": {
        "id": "mZenZTCycimr"
      },
      "execution_count": null,
      "outputs": []
    },
    {
      "cell_type": "code",
      "source": [
        "model.evaluate(X_test, y_test)"
      ],
      "metadata": {
        "id": "NvtNZO4VcifE"
      },
      "execution_count": null,
      "outputs": []
    },
    {
      "cell_type": "code",
      "source": [
        "pd.DataFrame(history.history).plot()\n",
        "plt.ylabel(\"loss\")\n",
        "plt.xlabel(\"epochs\")"
      ],
      "metadata": {
        "id": "Vgh6bIWcciW0"
      },
      "execution_count": null,
      "outputs": []
    },
    {
      "cell_type": "code",
      "source": [
        "X_train, X_test, y_train, y_test= train_test_split(x, y, test_size=0.2, random_state=42)\n",
        "y_test"
      ],
      "metadata": {
        "id": "8W0uXhu3ciPD"
      },
      "execution_count": null,
      "outputs": []
    },
    {
      "cell_type": "code",
      "source": [
        "tf.random.set_seed(42)\n",
        "\n",
        "# STEP1: Creating the model\n",
        "\n",
        "model= tf.keras.Sequential([\n",
        "                            tf.keras.layers.Dense(9, activation='relu'),\n",
        "                            tf.keras.layers.Dense(4, activation='relu'),\n",
        "                            tf.keras.layers.Dense(5, activation='relu'),\n",
        "                            tf.keras.layers.Dense(3, activation='relu'),\n",
        "                            tf.keras.layers.Dense(1, activation='sigmoid')\n",
        "])\n",
        "\n",
        "# STEP2: Compiling the model\n",
        "\n",
        "model.compile(loss= tf.keras.losses.binary_crossentropy,\n",
        "              optimizer= tf.keras.optimizers.Adam(lr=0.01),\n",
        "              metrics= [tf.keras.metrics.BinaryAccuracy(name='accuracy'),\n",
        "                        tf.keras.metrics.Precision(name='precision'),\n",
        "                        tf.keras.metrics.Recall(name='a=recall')\n",
        "              ]\n",
        "              )\n",
        "\n",
        "# STEP 3: Fitting the model\n",
        "\n",
        "history= model.fit(X_train, y_train, epochs= 80)"
      ],
      "metadata": {
        "id": "1J-4uUpaciHJ"
      },
      "execution_count": null,
      "outputs": []
    },
    {
      "cell_type": "code",
      "source": [
        "model.evaluate(X_test, y_test)"
      ],
      "metadata": {
        "id": "SONpIxOAch_V"
      },
      "execution_count": null,
      "outputs": []
    },
    {
      "cell_type": "code",
      "source": [
        "pd.DataFrame(history.history).plot()\n",
        "plt.ylabel(\"loss\")\n",
        "plt.xlabel(\"epochs\")"
      ],
      "metadata": {
        "id": "TfpXpSRYch3A"
      },
      "execution_count": null,
      "outputs": []
    },
    {
      "cell_type": "code",
      "source": [
        "X_train, X_test, y_train, y_test= train_test_split(x, y, test_size=0.2, random_state=42)\n",
        "y_test"
      ],
      "metadata": {
        "id": "xKyXKTNlchpf"
      },
      "execution_count": null,
      "outputs": []
    },
    {
      "cell_type": "code",
      "source": [
        "tf.random.set_seed(42)\n",
        "\n",
        "# STEP1: Creating the model\n",
        "\n",
        "model= tf.keras.Sequential([\n",
        "                            tf.keras.layers.Dense(9, activation='relu'),\n",
        "                            tf.keras.layers.Dense(3, activation='relu'),\n",
        "                            tf.keras.layers.Dense(2, activation='relu'),\n",
        "                            tf.keras.layers.Dense(9, activation='relu'),\n",
        "                            tf.keras.layers.Dense(1, activation='sigmoid')\n",
        "])\n",
        "\n",
        "# STEP2: Compiling the model\n",
        "\n",
        "model.compile(loss= tf.keras.losses.binary_crossentropy,\n",
        "              optimizer= tf.keras.optimizers.Adam(lr=0.01),\n",
        "              metrics= [tf.keras.metrics.BinaryAccuracy(name='accuracy'),\n",
        "                        tf.keras.metrics.Precision(name='precision'),\n",
        "                        tf.keras.metrics.Recall(name='a=recall')\n",
        "              ]\n",
        "              )\n",
        "\n",
        "# STEP 3: Fitting the model\n",
        "\n",
        "history= model.fit(X_train, y_train, epochs= 90)"
      ],
      "metadata": {
        "id": "eaXRkVClchlZ"
      },
      "execution_count": null,
      "outputs": []
    },
    {
      "cell_type": "code",
      "source": [
        "model.evaluate(X_test, y_test)"
      ],
      "metadata": {
        "id": "z-IPHVW9chg0"
      },
      "execution_count": null,
      "outputs": []
    },
    {
      "cell_type": "code",
      "source": [
        "pd.DataFrame(history.history).plot()\n",
        "plt.ylabel(\"loss\")\n",
        "plt.xlabel(\"epochs\")"
      ],
      "metadata": {
        "id": "XPX4uQ7IchcM"
      },
      "execution_count": null,
      "outputs": []
    },
    {
      "cell_type": "code",
      "source": [
        "X_train, X_test, y_train, y_test= train_test_split(x, y, test_size=0.2, random_state=42)\n",
        "y_test"
      ],
      "metadata": {
        "id": "8fH-VsVochPG"
      },
      "execution_count": null,
      "outputs": []
    },
    {
      "cell_type": "code",
      "source": [
        "tf.random.set_seed(42)\n",
        "\n",
        "# STEP1: Creating the model\n",
        "\n",
        "model= tf.keras.Sequential([\n",
        "                            tf.keras.layers.Dense(9, activation='relu'),\n",
        "                            tf.keras.layers.Dense(1, activation='relu'),\n",
        "                            tf.keras.layers.Dense(1, activation='relu'),\n",
        "                            tf.keras.layers.Dense(1, activation='relu'),\n",
        "                            tf.keras.layers.Dense(1, activation='sigmoid')\n",
        "])\n",
        "\n",
        "# STEP2: Compiling the model\n",
        "\n",
        "model.compile(loss= tf.keras.losses.binary_crossentropy,\n",
        "              optimizer= tf.keras.optimizers.Adam(lr=0.01),\n",
        "              metrics= [tf.keras.metrics.BinaryAccuracy(name='accuracy'),\n",
        "                        tf.keras.metrics.Precision(name='precision'),\n",
        "                        tf.keras.metrics.Recall(name='a=recall')\n",
        "              ]\n",
        "              )\n",
        "\n",
        "# STEP 3: Fitting the model\n",
        "\n",
        "history= model.fit(X_train, y_train, epochs= 100)"
      ],
      "metadata": {
        "id": "uTMwte8dchJQ"
      },
      "execution_count": null,
      "outputs": []
    },
    {
      "cell_type": "code",
      "source": [
        "model.evaluate(X_test, y_test)"
      ],
      "metadata": {
        "id": "V177paB1chDo"
      },
      "execution_count": null,
      "outputs": []
    },
    {
      "cell_type": "code",
      "source": [
        "pd.DataFrame(history.history).plot()\n",
        "plt.ylabel(\"loss\")\n",
        "plt.xlabel(\"epochs\")"
      ],
      "metadata": {
        "id": "cAqkfer5cg_Y"
      },
      "execution_count": null,
      "outputs": []
    },
    {
      "cell_type": "code",
      "source": [
        "X_train, X_test, y_train, y_test= train_test_split(x, y, test_size=0.2, random_state=42)\n",
        "y_test"
      ],
      "metadata": {
        "id": "Hx4qlJHMcgwf"
      },
      "execution_count": null,
      "outputs": []
    },
    {
      "cell_type": "code",
      "source": [
        "tf.random.set_seed(42)\n",
        "\n",
        "# STEP1: Creating the model\n",
        "\n",
        "model= tf.keras.Sequential([\n",
        "                            tf.keras.layers.Dense(9, activation='relu'),\n",
        "                            tf.keras.layers.Dense(2, activation='relu'),\n",
        "                            tf.keras.layers.Dense(3, activation='relu'),\n",
        "                            tf.keras.layers.Dense(11, activation='relu'),\n",
        "                            tf.keras.layers.Dense(1, activation='sigmoid')\n",
        "])\n",
        "\n",
        "# STEP2: Compiling the model\n",
        "\n",
        "model.compile(loss= tf.keras.losses.binary_crossentropy,\n",
        "              optimizer= tf.keras.optimizers.Adam(lr=0.01),\n",
        "              metrics= [tf.keras.metrics.BinaryAccuracy(name='accuracy'),\n",
        "                        tf.keras.metrics.Precision(name='precision'),\n",
        "                        tf.keras.metrics.Recall(name='a=recall')\n",
        "              ]\n",
        "              )\n",
        "\n",
        "# STEP 3: Fitting the model\n",
        "\n",
        "history= model.fit(X_train, y_train, epochs= 105)"
      ],
      "metadata": {
        "id": "sneK-tGgcgpu"
      },
      "execution_count": null,
      "outputs": []
    },
    {
      "cell_type": "code",
      "source": [
        "model.evaluate(X_test, y_test)"
      ],
      "metadata": {
        "id": "w3TmF_S-cgif"
      },
      "execution_count": null,
      "outputs": []
    },
    {
      "cell_type": "code",
      "source": [
        "pd.DataFrame(history.history).plot()\n",
        "plt.ylabel(\"loss\")\n",
        "plt.xlabel(\"epochs\")"
      ],
      "metadata": {
        "id": "CymKP2PJcgdO"
      },
      "execution_count": null,
      "outputs": []
    },
    {
      "cell_type": "code",
      "source": [],
      "metadata": {
        "id": "yVTGY_yKmH7l"
      },
      "execution_count": null,
      "outputs": []
    },
    {
      "cell_type": "code",
      "source": [],
      "metadata": {
        "id": "kXeSPTqumH4U"
      },
      "execution_count": null,
      "outputs": []
    },
    {
      "cell_type": "code",
      "source": [],
      "metadata": {
        "id": "dKnhprNKmH2H"
      },
      "execution_count": null,
      "outputs": []
    },
    {
      "cell_type": "code",
      "source": [],
      "metadata": {
        "id": "ZRsxE5UomHzg"
      },
      "execution_count": null,
      "outputs": []
    },
    {
      "cell_type": "code",
      "source": [],
      "metadata": {
        "id": "opk1hiyQmHk9"
      },
      "execution_count": null,
      "outputs": []
    },
    {
      "cell_type": "code",
      "source": [],
      "metadata": {
        "id": "kUG5D7FumHiZ"
      },
      "execution_count": null,
      "outputs": []
    },
    {
      "cell_type": "code",
      "source": [],
      "metadata": {
        "id": "g-g7QRthmHfz"
      },
      "execution_count": null,
      "outputs": []
    },
    {
      "cell_type": "code",
      "source": [],
      "metadata": {
        "id": "RvVIy5uBmHdd"
      },
      "execution_count": null,
      "outputs": []
    },
    {
      "cell_type": "code",
      "source": [],
      "metadata": {
        "id": "c0E7kZynmHa0"
      },
      "execution_count": null,
      "outputs": []
    },
    {
      "cell_type": "code",
      "source": [],
      "metadata": {
        "id": "kUC3mxbimHYl"
      },
      "execution_count": null,
      "outputs": []
    },
    {
      "cell_type": "code",
      "source": [],
      "metadata": {
        "id": "iq-sbOibmHWW"
      },
      "execution_count": null,
      "outputs": []
    },
    {
      "cell_type": "code",
      "source": [],
      "metadata": {
        "id": "KmYV9p4jmHUA"
      },
      "execution_count": null,
      "outputs": []
    },
    {
      "cell_type": "code",
      "source": [],
      "metadata": {
        "id": "zve9iU44mHR9"
      },
      "execution_count": null,
      "outputs": []
    },
    {
      "cell_type": "code",
      "source": [],
      "metadata": {
        "id": "kn3z_dtMmHPh"
      },
      "execution_count": null,
      "outputs": []
    },
    {
      "cell_type": "code",
      "source": [],
      "metadata": {
        "id": "UVZHXPaOmHNL"
      },
      "execution_count": null,
      "outputs": []
    },
    {
      "cell_type": "code",
      "source": [],
      "metadata": {
        "id": "LhIpBhzpmG8h"
      },
      "execution_count": null,
      "outputs": []
    },
    {
      "cell_type": "code",
      "source": [],
      "metadata": {
        "id": "N9d047QymG50"
      },
      "execution_count": null,
      "outputs": []
    },
    {
      "cell_type": "code",
      "source": [],
      "metadata": {
        "id": "Hfo8ETtcmG3x"
      },
      "execution_count": null,
      "outputs": []
    },
    {
      "cell_type": "code",
      "source": [],
      "metadata": {
        "id": "DUZJ3de4mG1i"
      },
      "execution_count": null,
      "outputs": []
    },
    {
      "cell_type": "code",
      "source": [],
      "metadata": {
        "id": "Q0dDJDJKmGzX"
      },
      "execution_count": null,
      "outputs": []
    },
    {
      "cell_type": "code",
      "source": [],
      "metadata": {
        "id": "yaGND9n_mGxE"
      },
      "execution_count": null,
      "outputs": []
    },
    {
      "cell_type": "code",
      "source": [],
      "metadata": {
        "id": "QJ8bCikOmGuy"
      },
      "execution_count": null,
      "outputs": []
    },
    {
      "cell_type": "code",
      "source": [],
      "metadata": {
        "id": "p4Ea-FZnmGr8"
      },
      "execution_count": null,
      "outputs": []
    },
    {
      "cell_type": "code",
      "source": [],
      "metadata": {
        "id": "g5aZ0Q9JmGpT"
      },
      "execution_count": null,
      "outputs": []
    },
    {
      "cell_type": "code",
      "source": [],
      "metadata": {
        "id": "H5qpTSbhmGm8"
      },
      "execution_count": null,
      "outputs": []
    },
    {
      "cell_type": "code",
      "source": [],
      "metadata": {
        "id": "Hdu0P33ymGkj"
      },
      "execution_count": null,
      "outputs": []
    },
    {
      "cell_type": "code",
      "source": [],
      "metadata": {
        "id": "N4TZ5JN1mGiV"
      },
      "execution_count": null,
      "outputs": []
    },
    {
      "cell_type": "code",
      "source": [],
      "metadata": {
        "id": "fNu9a_OKmGgG"
      },
      "execution_count": null,
      "outputs": []
    },
    {
      "cell_type": "code",
      "source": [],
      "metadata": {
        "id": "CwjviDMomGdZ"
      },
      "execution_count": null,
      "outputs": []
    },
    {
      "cell_type": "code",
      "source": [],
      "metadata": {
        "id": "IV1lm4VImF8g"
      },
      "execution_count": null,
      "outputs": []
    },
    {
      "cell_type": "code",
      "source": [],
      "metadata": {
        "id": "9wmqbbf9mF6R"
      },
      "execution_count": null,
      "outputs": []
    },
    {
      "cell_type": "code",
      "source": [],
      "metadata": {
        "id": "LXfVWfAdmF3_"
      },
      "execution_count": null,
      "outputs": []
    },
    {
      "cell_type": "code",
      "source": [],
      "metadata": {
        "id": "yHNZdDM0mF11"
      },
      "execution_count": null,
      "outputs": []
    },
    {
      "cell_type": "code",
      "source": [],
      "metadata": {
        "id": "lr9xraMYmFzk"
      },
      "execution_count": null,
      "outputs": []
    },
    {
      "cell_type": "code",
      "source": [],
      "metadata": {
        "id": "TIEL5i2BmFu-"
      },
      "execution_count": null,
      "outputs": []
    },
    {
      "cell_type": "code",
      "source": [],
      "metadata": {
        "id": "RAwPF_hfmFsD"
      },
      "execution_count": null,
      "outputs": []
    },
    {
      "cell_type": "code",
      "source": [],
      "metadata": {
        "id": "HYiwlY6qmFm-"
      },
      "execution_count": null,
      "outputs": []
    },
    {
      "cell_type": "code",
      "source": [],
      "metadata": {
        "id": "kcRko_GsmFkw"
      },
      "execution_count": null,
      "outputs": []
    },
    {
      "cell_type": "code",
      "source": [],
      "metadata": {
        "id": "lBcAk_q-mFee"
      },
      "execution_count": null,
      "outputs": []
    },
    {
      "cell_type": "code",
      "source": [],
      "metadata": {
        "id": "EY5Qb1b4mFbF"
      },
      "execution_count": null,
      "outputs": []
    }
  ],
  "metadata": {
    "colab": {
      "collapsed_sections": [],
      "provenance": []
    },
    "kernelspec": {
      "display_name": "Python 3",
      "name": "python3"
    },
    "language_info": {
      "name": "python"
    }
  },
  "nbformat": 4,
  "nbformat_minor": 0
}